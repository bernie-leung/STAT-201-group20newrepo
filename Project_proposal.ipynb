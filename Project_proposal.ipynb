{
 "cells": [
  {
   "cell_type": "markdown",
   "id": "dc13ab02-e9da-4b0e-bea9-7d5a35336d91",
   "metadata": {
    "tags": []
   },
   "source": [
    "# Comparison of vehicular collisions across different seasons and times of the day"
   ]
  },
  {
   "cell_type": "code",
   "execution_count": 1,
   "id": "1ace8c93",
   "metadata": {},
   "outputs": [
    {
     "name": "stderr",
     "output_type": "stream",
     "text": [
      "── \u001b[1mAttaching packages\u001b[22m ─────────────────────────────────────── tidyverse 1.3.0 ──\n",
      "\n",
      "\u001b[32m✔\u001b[39m \u001b[34mggplot2\u001b[39m 3.3.6     \u001b[32m✔\u001b[39m \u001b[34mpurrr  \u001b[39m 0.3.4\n",
      "\u001b[32m✔\u001b[39m \u001b[34mtibble \u001b[39m 3.1.7     \u001b[32m✔\u001b[39m \u001b[34mdplyr  \u001b[39m 1.0.9\n",
      "\u001b[32m✔\u001b[39m \u001b[34mtidyr  \u001b[39m 1.2.0     \u001b[32m✔\u001b[39m \u001b[34mstringr\u001b[39m 1.4.0\n",
      "\u001b[32m✔\u001b[39m \u001b[34mreadr  \u001b[39m 2.1.2     \u001b[32m✔\u001b[39m \u001b[34mforcats\u001b[39m 0.5.1\n",
      "\n",
      "── \u001b[1mConflicts\u001b[22m ────────────────────────────────────────── tidyverse_conflicts() ──\n",
      "\u001b[31m✖\u001b[39m \u001b[34mdplyr\u001b[39m::\u001b[32mfilter()\u001b[39m masks \u001b[34mstats\u001b[39m::filter()\n",
      "\u001b[31m✖\u001b[39m \u001b[34mdplyr\u001b[39m::\u001b[32mlag()\u001b[39m    masks \u001b[34mstats\u001b[39m::lag()\n",
      "\n"
     ]
    }
   ],
   "source": [
    "# First, we will load required packages\n",
    "library(tidyverse)\n",
    "library(repr)\n",
    "library(readxl)\n",
    "library(infer)\n",
    "library(knitr)\n",
    "library(broom)"
   ]
  },
  {
   "cell_type": "markdown",
   "id": "74542e07",
   "metadata": {
    "tags": []
   },
   "source": [
    "## Introduction\n",
    "\n",
    "Car accidents have been among the leading causes of injuries and deaths around the world, leading all causes of preventable deaths globally in 2019 at nearly 1.3 million. (“International Overview,” n.d.). Furthermore, according to Transport Canada, environmental factors have consistently made up around or over 20% of all causes of car accidents in the country from 2015 to 2019 (Transport Canada, 2021). This project aims to investigate the relationship between the time and season-related changes and the occurrence of car accidents in Vancouver.\n",
    "\n",
    "Taken from the Vancouver Police Department website, our dataset originally includes all crimes that occurred in the West Point Grey neighbourhood from 2003 to 2022 with relevant information recorded in separate variable columns (the headers of each column are shown in the parentheses):\n",
    "- Type of crime (TYPE)\n",
    "- Year of occurrence (YEAR)\n",
    "- Month of occurrence (MONTH)\n",
    "- Day of occurrence (DAY)\n",
    "- Hour of occurrence (HOUR)\n",
    "- Minute of occurrence (MINUTE)\n",
    "- Hundred block of location (HUNDRED_BLOCK)\n",
    "- Neighbourhood of location (NEIGHBOURHOOD)\n",
    "- X-coordinate of location (X)\n",
    "- Y-coordinate of location (Y)\n",
    "Of all crimes, our crime types of interest are “Vehicle Collision or Pedestrian Struck (with Fatality)” and “Vehicle Collision or Pedestrian Struck (with Injury)”. The rest of the crimes will be filtered out.\n",
    "\n",
    "Our inferential question will be to estimate the difference in proportions of car accidents that happen in the summer (which we classify as April to September) and winter (which we classify as October to March) and the difference in proportions of those that happen during daytime (which we classify as 6 am to 5:59 pm) and nightime (which we classify as 6 pm to 5:59 am)in Vancouver from 2003 to 2022, using the West Point Grey neighbourhood as a sample. We will then examine the difference in the two proportions to help us reach a possible conclusion.\n",
    "\n"
   ]
  },
  {
   "cell_type": "markdown",
   "id": "f18a502b",
   "metadata": {},
   "source": [
    "## Preliminary Exploratory Data Analysis"
   ]
  },
  {
   "cell_type": "code",
   "execution_count": 2,
   "id": "1434237c",
   "metadata": {},
   "outputs": [
    {
     "name": "stderr",
     "output_type": "stream",
     "text": [
      "\u001b[1mRows: \u001b[22m\u001b[34m9247\u001b[39m \u001b[1mColumns: \u001b[22m\u001b[34m10\u001b[39m\n",
      "\u001b[36m──\u001b[39m \u001b[1mColumn specification\u001b[22m \u001b[36m────────────────────────────────────────────────────────\u001b[39m\n",
      "\u001b[1mDelimiter:\u001b[22m \",\"\n",
      "\u001b[31mchr\u001b[39m (3): TYPE, HUNDRED_BLOCK, NEIGHBOURHOOD\n",
      "\u001b[32mdbl\u001b[39m (7): YEAR, MONTH, DAY, HOUR, MINUTE, X, Y\n",
      "\n",
      "\u001b[36mℹ\u001b[39m Use `spec()` to retrieve the full column specification for this data.\n",
      "\u001b[36mℹ\u001b[39m Specify the column types or set `show_col_types = FALSE` to quiet this message.\n"
     ]
    },
    {
     "data": {
      "text/html": [
       "<table class=\"dataframe\">\n",
       "<caption>A tibble: 6 × 10</caption>\n",
       "<thead>\n",
       "\t<tr><th scope=col>TYPE</th><th scope=col>YEAR</th><th scope=col>MONTH</th><th scope=col>DAY</th><th scope=col>HOUR</th><th scope=col>MINUTE</th><th scope=col>HUNDRED_BLOCK</th><th scope=col>NEIGHBOURHOOD</th><th scope=col>X</th><th scope=col>Y</th></tr>\n",
       "\t<tr><th scope=col>&lt;chr&gt;</th><th scope=col>&lt;dbl&gt;</th><th scope=col>&lt;dbl&gt;</th><th scope=col>&lt;dbl&gt;</th><th scope=col>&lt;dbl&gt;</th><th scope=col>&lt;dbl&gt;</th><th scope=col>&lt;chr&gt;</th><th scope=col>&lt;chr&gt;</th><th scope=col>&lt;dbl&gt;</th><th scope=col>&lt;dbl&gt;</th></tr>\n",
       "</thead>\n",
       "<tbody>\n",
       "\t<tr><td>Break and Enter Commercial</td><td>2022</td><td> 6</td><td> 5</td><td>10</td><td> 0</td><td>13XX DISCOVERY ST</td><td>West Point Grey</td><td>485246.9</td><td>5458027</td></tr>\n",
       "\t<tr><td>Break and Enter Commercial</td><td>2004</td><td> 6</td><td>30</td><td> 0</td><td> 1</td><td>13XX DISCOVERY ST</td><td>West Point Grey</td><td>485255.4</td><td>5458013</td></tr>\n",
       "\t<tr><td>Break and Enter Commercial</td><td>2009</td><td> 5</td><td> 9</td><td>15</td><td>30</td><td>13XX DISCOVERY ST</td><td>West Point Grey</td><td>485255.4</td><td>5458013</td></tr>\n",
       "\t<tr><td>Break and Enter Commercial</td><td>2009</td><td> 8</td><td>22</td><td>20</td><td>30</td><td>13XX DISCOVERY ST</td><td>West Point Grey</td><td>485255.4</td><td>5458013</td></tr>\n",
       "\t<tr><td>Break and Enter Commercial</td><td>2009</td><td>11</td><td> 1</td><td>12</td><td> 0</td><td>13XX DISCOVERY ST</td><td>West Point Grey</td><td>485255.4</td><td>5458013</td></tr>\n",
       "\t<tr><td>Break and Enter Commercial</td><td>2011</td><td> 3</td><td>31</td><td>12</td><td> 0</td><td>13XX DISCOVERY ST</td><td>West Point Grey</td><td>485255.4</td><td>5458013</td></tr>\n",
       "</tbody>\n",
       "</table>\n"
      ],
      "text/latex": [
       "A tibble: 6 × 10\n",
       "\\begin{tabular}{llllllllll}\n",
       " TYPE & YEAR & MONTH & DAY & HOUR & MINUTE & HUNDRED\\_BLOCK & NEIGHBOURHOOD & X & Y\\\\\n",
       " <chr> & <dbl> & <dbl> & <dbl> & <dbl> & <dbl> & <chr> & <chr> & <dbl> & <dbl>\\\\\n",
       "\\hline\n",
       "\t Break and Enter Commercial & 2022 &  6 &  5 & 10 &  0 & 13XX DISCOVERY ST & West Point Grey & 485246.9 & 5458027\\\\\n",
       "\t Break and Enter Commercial & 2004 &  6 & 30 &  0 &  1 & 13XX DISCOVERY ST & West Point Grey & 485255.4 & 5458013\\\\\n",
       "\t Break and Enter Commercial & 2009 &  5 &  9 & 15 & 30 & 13XX DISCOVERY ST & West Point Grey & 485255.4 & 5458013\\\\\n",
       "\t Break and Enter Commercial & 2009 &  8 & 22 & 20 & 30 & 13XX DISCOVERY ST & West Point Grey & 485255.4 & 5458013\\\\\n",
       "\t Break and Enter Commercial & 2009 & 11 &  1 & 12 &  0 & 13XX DISCOVERY ST & West Point Grey & 485255.4 & 5458013\\\\\n",
       "\t Break and Enter Commercial & 2011 &  3 & 31 & 12 &  0 & 13XX DISCOVERY ST & West Point Grey & 485255.4 & 5458013\\\\\n",
       "\\end{tabular}\n"
      ],
      "text/markdown": [
       "\n",
       "A tibble: 6 × 10\n",
       "\n",
       "| TYPE &lt;chr&gt; | YEAR &lt;dbl&gt; | MONTH &lt;dbl&gt; | DAY &lt;dbl&gt; | HOUR &lt;dbl&gt; | MINUTE &lt;dbl&gt; | HUNDRED_BLOCK &lt;chr&gt; | NEIGHBOURHOOD &lt;chr&gt; | X &lt;dbl&gt; | Y &lt;dbl&gt; |\n",
       "|---|---|---|---|---|---|---|---|---|---|\n",
       "| Break and Enter Commercial | 2022 |  6 |  5 | 10 |  0 | 13XX DISCOVERY ST | West Point Grey | 485246.9 | 5458027 |\n",
       "| Break and Enter Commercial | 2004 |  6 | 30 |  0 |  1 | 13XX DISCOVERY ST | West Point Grey | 485255.4 | 5458013 |\n",
       "| Break and Enter Commercial | 2009 |  5 |  9 | 15 | 30 | 13XX DISCOVERY ST | West Point Grey | 485255.4 | 5458013 |\n",
       "| Break and Enter Commercial | 2009 |  8 | 22 | 20 | 30 | 13XX DISCOVERY ST | West Point Grey | 485255.4 | 5458013 |\n",
       "| Break and Enter Commercial | 2009 | 11 |  1 | 12 |  0 | 13XX DISCOVERY ST | West Point Grey | 485255.4 | 5458013 |\n",
       "| Break and Enter Commercial | 2011 |  3 | 31 | 12 |  0 | 13XX DISCOVERY ST | West Point Grey | 485255.4 | 5458013 |\n",
       "\n"
      ],
      "text/plain": [
       "  TYPE                       YEAR MONTH DAY HOUR MINUTE HUNDRED_BLOCK    \n",
       "1 Break and Enter Commercial 2022  6     5  10    0     13XX DISCOVERY ST\n",
       "2 Break and Enter Commercial 2004  6    30   0    1     13XX DISCOVERY ST\n",
       "3 Break and Enter Commercial 2009  5     9  15   30     13XX DISCOVERY ST\n",
       "4 Break and Enter Commercial 2009  8    22  20   30     13XX DISCOVERY ST\n",
       "5 Break and Enter Commercial 2009 11     1  12    0     13XX DISCOVERY ST\n",
       "6 Break and Enter Commercial 2011  3    31  12    0     13XX DISCOVERY ST\n",
       "  NEIGHBOURHOOD   X        Y      \n",
       "1 West Point Grey 485246.9 5458027\n",
       "2 West Point Grey 485255.4 5458013\n",
       "3 West Point Grey 485255.4 5458013\n",
       "4 West Point Grey 485255.4 5458013\n",
       "5 West Point Grey 485255.4 5458013\n",
       "6 West Point Grey 485255.4 5458013"
      ]
     },
     "metadata": {},
     "output_type": "display_data"
    }
   ],
   "source": [
    "# Data source: \n",
    "url <- \"https://raw.githubusercontent.com/bernie-leung/STAT-201-group20newrepo/main/crimedata_csv_West%20Point%20Grey_AllYears.csv?token=GHSAT0AAAAAABWZIEUMCDZNWHJBZOIGRVVYYW4QFGA\"\n",
    "\n",
    "# Read data source\n",
    "crimes <- read_csv(url)\n",
    "head(crimes)"
   ]
  },
  {
   "cell_type": "code",
   "execution_count": 3,
   "id": "715f8372",
   "metadata": {},
   "outputs": [
    {
     "data": {
      "text/html": [
       "<table class=\"dataframe\">\n",
       "<caption>A tibble: 6 × 10</caption>\n",
       "<thead>\n",
       "\t<tr><th scope=col>TYPE</th><th scope=col>YEAR</th><th scope=col>MONTH</th><th scope=col>DAY</th><th scope=col>HOUR</th><th scope=col>MINUTE</th><th scope=col>HUNDRED_BLOCK</th><th scope=col>NEIGHBOURHOOD</th><th scope=col>X</th><th scope=col>Y</th></tr>\n",
       "\t<tr><th scope=col>&lt;chr&gt;</th><th scope=col>&lt;dbl&gt;</th><th scope=col>&lt;fct&gt;</th><th scope=col>&lt;dbl&gt;</th><th scope=col>&lt;dbl&gt;</th><th scope=col>&lt;dbl&gt;</th><th scope=col>&lt;chr&gt;</th><th scope=col>&lt;chr&gt;</th><th scope=col>&lt;dbl&gt;</th><th scope=col>&lt;dbl&gt;</th></tr>\n",
       "</thead>\n",
       "<tbody>\n",
       "\t<tr><td>Vehicle Collision or Pedestrian Struck (with Fatality)</td><td>2017</td><td>8 </td><td> 6</td><td> 9</td><td>18</td><td>42XX BLOCK W 4TH AVE   </td><td>West Point Grey</td><td>485442</td><td>5457333</td></tr>\n",
       "\t<tr><td>Vehicle Collision or Pedestrian Struck (with Fatality)</td><td>2021</td><td>10</td><td>10</td><td>23</td><td>25</td><td>42XX NAUTILUS CLS      </td><td>West Point Grey</td><td>485300</td><td>5457357</td></tr>\n",
       "\t<tr><td>Vehicle Collision or Pedestrian Struck (with Fatality)</td><td>2007</td><td>11</td><td>20</td><td> 1</td><td>44</td><td>42XX W 4TH AVE         </td><td>West Point Grey</td><td>485442</td><td>5457333</td></tr>\n",
       "\t<tr><td>Vehicle Collision or Pedestrian Struck (with Fatality)</td><td>2020</td><td>9 </td><td>28</td><td>17</td><td> 9</td><td>W 10TH AVE / SASAMAT ST</td><td>West Point Grey</td><td>484785</td><td>5456806</td></tr>\n",
       "\t<tr><td>Vehicle Collision or Pedestrian Struck (with Fatality)</td><td>2019</td><td>5 </td><td>23</td><td>14</td><td>22</td><td>W 4TH AVE / BLANCA ST  </td><td>West Point Grey</td><td>484359</td><td>5457394</td></tr>\n",
       "\t<tr><td>Vehicle Collision or Pedestrian Struck (with Fatality)</td><td>2003</td><td>3 </td><td>20</td><td>19</td><td>29</td><td>W 4TH AVE / HIGHBURY ST</td><td>West Point Grey</td><td>486350</td><td>5457336</td></tr>\n",
       "</tbody>\n",
       "</table>\n"
      ],
      "text/latex": [
       "A tibble: 6 × 10\n",
       "\\begin{tabular}{llllllllll}\n",
       " TYPE & YEAR & MONTH & DAY & HOUR & MINUTE & HUNDRED\\_BLOCK & NEIGHBOURHOOD & X & Y\\\\\n",
       " <chr> & <dbl> & <fct> & <dbl> & <dbl> & <dbl> & <chr> & <chr> & <dbl> & <dbl>\\\\\n",
       "\\hline\n",
       "\t Vehicle Collision or Pedestrian Struck (with Fatality) & 2017 & 8  &  6 &  9 & 18 & 42XX BLOCK W 4TH AVE    & West Point Grey & 485442 & 5457333\\\\\n",
       "\t Vehicle Collision or Pedestrian Struck (with Fatality) & 2021 & 10 & 10 & 23 & 25 & 42XX NAUTILUS CLS       & West Point Grey & 485300 & 5457357\\\\\n",
       "\t Vehicle Collision or Pedestrian Struck (with Fatality) & 2007 & 11 & 20 &  1 & 44 & 42XX W 4TH AVE          & West Point Grey & 485442 & 5457333\\\\\n",
       "\t Vehicle Collision or Pedestrian Struck (with Fatality) & 2020 & 9  & 28 & 17 &  9 & W 10TH AVE / SASAMAT ST & West Point Grey & 484785 & 5456806\\\\\n",
       "\t Vehicle Collision or Pedestrian Struck (with Fatality) & 2019 & 5  & 23 & 14 & 22 & W 4TH AVE / BLANCA ST   & West Point Grey & 484359 & 5457394\\\\\n",
       "\t Vehicle Collision or Pedestrian Struck (with Fatality) & 2003 & 3  & 20 & 19 & 29 & W 4TH AVE / HIGHBURY ST & West Point Grey & 486350 & 5457336\\\\\n",
       "\\end{tabular}\n"
      ],
      "text/markdown": [
       "\n",
       "A tibble: 6 × 10\n",
       "\n",
       "| TYPE &lt;chr&gt; | YEAR &lt;dbl&gt; | MONTH &lt;fct&gt; | DAY &lt;dbl&gt; | HOUR &lt;dbl&gt; | MINUTE &lt;dbl&gt; | HUNDRED_BLOCK &lt;chr&gt; | NEIGHBOURHOOD &lt;chr&gt; | X &lt;dbl&gt; | Y &lt;dbl&gt; |\n",
       "|---|---|---|---|---|---|---|---|---|---|\n",
       "| Vehicle Collision or Pedestrian Struck (with Fatality) | 2017 | 8  |  6 |  9 | 18 | 42XX BLOCK W 4TH AVE    | West Point Grey | 485442 | 5457333 |\n",
       "| Vehicle Collision or Pedestrian Struck (with Fatality) | 2021 | 10 | 10 | 23 | 25 | 42XX NAUTILUS CLS       | West Point Grey | 485300 | 5457357 |\n",
       "| Vehicle Collision or Pedestrian Struck (with Fatality) | 2007 | 11 | 20 |  1 | 44 | 42XX W 4TH AVE          | West Point Grey | 485442 | 5457333 |\n",
       "| Vehicle Collision or Pedestrian Struck (with Fatality) | 2020 | 9  | 28 | 17 |  9 | W 10TH AVE / SASAMAT ST | West Point Grey | 484785 | 5456806 |\n",
       "| Vehicle Collision or Pedestrian Struck (with Fatality) | 2019 | 5  | 23 | 14 | 22 | W 4TH AVE / BLANCA ST   | West Point Grey | 484359 | 5457394 |\n",
       "| Vehicle Collision or Pedestrian Struck (with Fatality) | 2003 | 3  | 20 | 19 | 29 | W 4TH AVE / HIGHBURY ST | West Point Grey | 486350 | 5457336 |\n",
       "\n"
      ],
      "text/plain": [
       "  TYPE                                                   YEAR MONTH DAY HOUR\n",
       "1 Vehicle Collision or Pedestrian Struck (with Fatality) 2017 8      6   9  \n",
       "2 Vehicle Collision or Pedestrian Struck (with Fatality) 2021 10    10  23  \n",
       "3 Vehicle Collision or Pedestrian Struck (with Fatality) 2007 11    20   1  \n",
       "4 Vehicle Collision or Pedestrian Struck (with Fatality) 2020 9     28  17  \n",
       "5 Vehicle Collision or Pedestrian Struck (with Fatality) 2019 5     23  14  \n",
       "6 Vehicle Collision or Pedestrian Struck (with Fatality) 2003 3     20  19  \n",
       "  MINUTE HUNDRED_BLOCK           NEIGHBOURHOOD   X      Y      \n",
       "1 18     42XX BLOCK W 4TH AVE    West Point Grey 485442 5457333\n",
       "2 25     42XX NAUTILUS CLS       West Point Grey 485300 5457357\n",
       "3 44     42XX W 4TH AVE          West Point Grey 485442 5457333\n",
       "4  9     W 10TH AVE / SASAMAT ST West Point Grey 484785 5456806\n",
       "5 22     W 4TH AVE / BLANCA ST   West Point Grey 484359 5457394\n",
       "6 29     W 4TH AVE / HIGHBURY ST West Point Grey 486350 5457336"
      ]
     },
     "metadata": {},
     "output_type": "display_data"
    }
   ],
   "source": [
    "# created a data frame contraining only the crime types of interest \n",
    "collisions <- crimes %>%\n",
    "    filter(TYPE == \"Vehicle Collision or Pedestrian Struck (with Fatality)\" | TYPE == \"Vehicle Collision or Pedestrian Struck (with Injury)\") %>%\n",
    "    mutate(MONTH = as_factor(MONTH))\n",
    "    \n",
    "head(collisions)"
   ]
  },
  {
   "cell_type": "code",
   "execution_count": 4,
   "id": "3f17a743",
   "metadata": {},
   "outputs": [
    {
     "data": {
      "text/plain": [
       "\n",
       "\n",
       "Table: Number of observations for each month\n",
       "\n",
       "|MONTH | count|\n",
       "|:-----|-----:|\n",
       "|1     |    27|\n",
       "|2     |    21|\n",
       "|3     |    28|\n",
       "|4     |    33|\n",
       "|5     |    41|\n",
       "|6     |    32|\n",
       "|7     |    42|\n",
       "|8     |    38|\n",
       "|9     |    38|\n",
       "|10    |    37|\n",
       "|11    |    27|\n",
       "|12    |    20|"
      ]
     },
     "metadata": {},
     "output_type": "display_data"
    }
   ],
   "source": [
    "# data frame that has been grouped by month and Number of observations for each month\n",
    "\n",
    "collisions_by_month <- collisions %>%\n",
    "    group_by(MONTH) %>%\n",
    "    summarise(count = sum(MONTH == MONTH))\n",
    "\n",
    "# Table: how many observations for each month\n",
    "\n",
    "kable(collisions_by_month, caption = \"Number of observations for each month\")\n"
   ]
  },
  {
   "cell_type": "code",
   "execution_count": 5,
   "id": "221726d4",
   "metadata": {},
   "outputs": [
    {
     "data": {
      "image/png": "[encoded data removed]",
      "text/plain": [
       "plot without title"
      ]
     },
     "metadata": {
      "image/png": {
       "height": 420,
       "width": 420
      }
     },
     "output_type": "display_data"
    }
   ],
   "source": [
    "# visualize the oberservation \n",
    "collisions_graph_month <- collisions_by_month %>%\n",
    "    ggplot(aes(x = MONTH, y = count)) +\n",
    "    geom_bar(stat = \"Identity\") +\n",
    "    labs(x = \"Month\", y = \"Number of collision\") +\n",
    "    ggtitle(\"Figure 1. Collisions in West Point Grey from 2003 to 2022 by Month\")\n",
    "\n",
    "collisions_graph_month"
   ]
  },
  {
   "cell_type": "markdown",
   "id": "3e83a439",
   "metadata": {},
   "source": [
    "As we can see from the graph, there are more number of collisions that happen in the summer (which we classify as April to September) than that happen in the winter (October to March) in West Point Grey neighbourhood from 2003 to 2022."
   ]
  },
  {
   "cell_type": "code",
   "execution_count": 6,
   "id": "535bb722-3545-458f-a2a1-67d4bc0fbf48",
   "metadata": {},
   "outputs": [
    {
     "data": {
      "text/plain": [
       "\n",
       "\n",
       "Table: Number of observations for each hour\n",
       "\n",
       "| HOUR| count|\n",
       "|----:|-----:|\n",
       "|    0|     7|\n",
       "|    1|     8|\n",
       "|    2|     5|\n",
       "|    3|     1|\n",
       "|    4|     1|\n",
       "|    5|     5|\n",
       "|    6|     3|\n",
       "|    7|    13|\n",
       "|    8|    20|\n",
       "|    9|    19|\n",
       "|   10|    16|\n",
       "|   11|    15|\n",
       "|   12|    22|\n",
       "|   13|     9|\n",
       "|   14|    23|\n",
       "|   15|    35|\n",
       "|   16|    33|\n",
       "|   17|    38|\n",
       "|   18|    36|\n",
       "|   19|    23|\n",
       "|   20|    25|\n",
       "|   21|    14|\n",
       "|   22|    10|\n",
       "|   23|     3|"
      ]
     },
     "metadata": {},
     "output_type": "display_data"
    }
   ],
   "source": [
    "# data frame that has been grouped by hour and Number of observations for each type of crime\n",
    "collisions_by_hour <- collisions %>%\n",
    "    group_by(HOUR) %>%\n",
    "    summarise(count = sum(HOUR == HOUR))\n",
    "\n",
    "# Table: how many observations for each hour\n",
    "kable(collisions_by_hour, caption = \"Number of observations for each hour\")"
   ]
  },
  {
   "cell_type": "code",
   "execution_count": 7,
   "id": "2f03e0d1-08a2-4dee-9b3e-679399e6c953",
   "metadata": {},
   "outputs": [
    {
     "data": {
      "image/png": "[encoded data removed]",
      "text/plain": [
       "plot without title"
      ]
     },
     "metadata": {
      "image/png": {
       "height": 420,
       "width": 420
      }
     },
     "output_type": "display_data"
    }
   ],
   "source": [
    "# visualize the observation \n",
    "collisions_graphs_hour <- collisions_by_hour %>%\n",
    "    ggplot(aes(x = HOUR, y = count)) +\n",
    "    geom_bar(stat = \"Identity\") +\n",
    "    labs(x = \"Hour of day\", y = \"Number of collision\") +\n",
    "    ggtitle(\"Figure 2. Collisions in West Point Grey from 2003 to 2022 by hour of day\")\n",
    "collisions_graphs_hour"
   ]
  },
  {
   "cell_type": "markdown",
   "id": "634bf99a",
   "metadata": {},
   "source": [
    "### Estimates of the parameters"
   ]
  },
  {
   "cell_type": "code",
   "execution_count": 8,
   "id": "be6e4aee",
   "metadata": {},
   "outputs": [
    {
     "data": {
      "text/html": [
       "0.55"
      ],
      "text/latex": [
       "0.55"
      ],
      "text/markdown": [
       "0.55"
      ],
      "text/plain": [
       "[1] 0.55"
      ]
     },
     "metadata": {},
     "output_type": "display_data"
    }
   ],
   "source": [
    "## draw a sample from the population to calculate the point estimate concerning the season\n",
    "set.seed(11)\n",
    "sample_prop_summer <- crimes %>%\n",
    "    filter(TYPE == \"Vehicle Collision or Pedestrian Struck (with Fatality)\" | TYPE == \"Vehicle Collision or Pedestrian Struck (with Injury)\") %>% \n",
    "    rep_sample_n(size = 100) %>% \n",
    "    filter(MONTH == 4| MONTH == 5| MONTH == 6| MONTH == 7| MONTH == 8| MONTH == 9) %>%\n",
    "    nrow()/100\n",
    "\n",
    "sample_prop_summer"
   ]
  },
  {
   "cell_type": "markdown",
   "id": "077ec9b1",
   "metadata": {},
   "source": [
    "This is the sample proportion of Vehicle collision in West Point Grey neighbourhood during summer."
   ]
  },
  {
   "cell_type": "code",
   "execution_count": 9,
   "id": "8bb6ee43",
   "metadata": {},
   "outputs": [
    {
     "data": {
      "text/html": [
       "0.45"
      ],
      "text/latex": [
       "0.45"
      ],
      "text/markdown": [
       "0.45"
      ],
      "text/plain": [
       "[1] 0.45"
      ]
     },
     "metadata": {},
     "output_type": "display_data"
    }
   ],
   "source": [
    "set.seed(12)\n",
    "sample_prop_winter <- crimes %>%\n",
    "    filter(TYPE == \"Vehicle Collision or Pedestrian Struck (with Fatality)\" | TYPE == \"Vehicle Collision or Pedestrian Struck (with Injury)\") %>%\n",
    "    rep_sample_n(size = 100) %>%\n",
    "    filter(MONTH == 10| MONTH == 11| MONTH == 12| MONTH == 1| MONTH == 2| MONTH == 3) %>% \n",
    "    nrow()/100\n",
    "\n",
    "sample_prop_winter"
   ]
  },
  {
   "cell_type": "markdown",
   "id": "31461f44",
   "metadata": {},
   "source": [
    "This is the sample proportion of Vehicle collision in West Point Grey neighbourhood during winter."
   ]
  },
  {
   "cell_type": "code",
   "execution_count": 10,
   "id": "2846712c",
   "metadata": {},
   "outputs": [
    {
     "data": {
      "text/html": [
       "0.1"
      ],
      "text/latex": [
       "0.1"
      ],
      "text/markdown": [
       "0.1"
      ],
      "text/plain": [
       "[1] 0.1"
      ]
     },
     "metadata": {},
     "output_type": "display_data"
    }
   ],
   "source": [
    "## calculate the difference between two point estimates\n",
    "diff_sample_props <- sample_prop_summer - sample_prop_winter\n",
    "diff_sample_props"
   ]
  },
  {
   "cell_type": "markdown",
   "id": "d87ed6e8",
   "metadata": {},
   "source": [
    "0.1 is the difference of the sample proportions between summer and winter."
   ]
  },
  {
   "cell_type": "code",
   "execution_count": 11,
   "id": "59aed5e4",
   "metadata": {},
   "outputs": [
    {
     "data": {
      "text/plain": [
       "            Summer sample prop   Winter sample prop   Difference in props \n",
       "proportion                 0.55                 0.45                  0.10"
      ]
     },
     "metadata": {},
     "output_type": "display_data"
    }
   ],
   "source": [
    "## create a table to present the sample proportions\n",
    "\n",
    "tab_prop <- matrix(c(0.55, 0.45, 0.1), ncol=3, byrow=TRUE)\n",
    "colnames(tab_prop) <- c(\" Summer sample prop \", \" Winter sample prop \", \" Difference in props \")\n",
    "rownames(tab_prop) <- c(\"proportion\")\n",
    "tab_prop <- as.table(tab_prop)\n",
    "tab_prop\n"
   ]
  },
  {
   "cell_type": "markdown",
   "id": "f200c8c9",
   "metadata": {},
   "source": [
    "This table shows the sample proportions in summer and winter and their difference."
   ]
  },
  {
   "cell_type": "code",
   "execution_count": 12,
   "id": "82f33c79-d695-4d8e-b36d-5e92df85a7d7",
   "metadata": {},
   "outputs": [
    {
     "data": {
      "text/html": [
       "0.64"
      ],
      "text/latex": [
       "0.64"
      ],
      "text/markdown": [
       "0.64"
      ],
      "text/plain": [
       "[1] 0.64"
      ]
     },
     "metadata": {},
     "output_type": "display_data"
    }
   ],
   "source": [
    "## draw a sample from the population to calculate the point estimate concerning hour of day\n",
    "set.seed(10)\n",
    "sample_prop_day <- crimes %>%\n",
    "    filter(TYPE == \"Vehicle Collision or Pedestrian Struck (with Fatality)\" | TYPE == \"Vehicle Collision or Pedestrian Struck (with Injury)\") %>% \n",
    "    rep_sample_n(size = 100) %>% \n",
    "    filter(HOUR == 6| HOUR == 7| HOUR == 8| HOUR == 9| HOUR == 10| HOUR == 11 | HOUR == 12| HOUR == 13| HOUR == 14| HOUR == 15| HOUR == 16| HOUR == 17) %>%\n",
    "    nrow()/100\n",
    "\n",
    "sample_prop_day"
   ]
  },
  {
   "cell_type": "markdown",
   "id": "790b0c36-c63b-4a86-9fc7-445944629965",
   "metadata": {},
   "source": [
    "This is the sample proportion of Vehicle collision in West Point Grey neighbourhood during daytime."
   ]
  },
  {
   "cell_type": "code",
   "execution_count": 13,
   "id": "8288ece1-01e0-43b8-a501-3d91a3c66f8b",
   "metadata": {},
   "outputs": [
    {
     "data": {
      "text/html": [
       "0.36"
      ],
      "text/latex": [
       "0.36"
      ],
      "text/markdown": [
       "0.36"
      ],
      "text/plain": [
       "[1] 0.36"
      ]
     },
     "metadata": {},
     "output_type": "display_data"
    }
   ],
   "source": [
    "set.seed(10)\n",
    "sample_prop_night <- crimes %>%\n",
    "    filter(TYPE == \"Vehicle Collision or Pedestrian Struck (with Fatality)\" | TYPE == \"Vehicle Collision or Pedestrian Struck (with Injury)\") %>% \n",
    "    rep_sample_n(size = 100) %>% \n",
    "    filter(HOUR == 18| HOUR == 19| HOUR == 20| HOUR == 21| HOUR == 22| HOUR == 23 | HOUR == 0| HOUR == 1| HOUR == 2| HOUR == 3| HOUR == 4| HOUR == 5) %>%\n",
    "    nrow()/100\n",
    "\n",
    "sample_prop_night"
   ]
  },
  {
   "cell_type": "markdown",
   "id": "fb366161-1580-428e-904a-125ca1109c04",
   "metadata": {},
   "source": [
    "This is the sample proportion of Vehicle collision in West Point Grey neighbourhood during nighttime."
   ]
  },
  {
   "cell_type": "code",
   "execution_count": 14,
   "id": "d636481d-94ad-4cbf-8518-da0711de1db9",
   "metadata": {},
   "outputs": [
    {
     "data": {
      "text/html": [
       "0.28"
      ],
      "text/latex": [
       "0.28"
      ],
      "text/markdown": [
       "0.28"
      ],
      "text/plain": [
       "[1] 0.28"
      ]
     },
     "metadata": {},
     "output_type": "display_data"
    }
   ],
   "source": [
    "## calculate the difference between two point estimates\n",
    "diff_sample_props_time_of_day <- sample_prop_day - sample_prop_night\n",
    "diff_sample_props_time_of_day"
   ]
  },
  {
   "cell_type": "markdown",
   "id": "669af9ad-9d9f-4a03-a8b5-ec5dcb81595a",
   "metadata": {},
   "source": [
    "0.28 is the difference of the sample proportions between daytime and nighttime."
   ]
  },
  {
   "cell_type": "code",
   "execution_count": 15,
   "id": "363eb2f8-98b7-43a3-9291-f614d2e4126f",
   "metadata": {},
   "outputs": [
    {
     "data": {
      "text/plain": [
       "            Daytime sample prop   Nighttime sample prop   Difference in props \n",
       "proportion                  0.64                    0.36                  0.28"
      ]
     },
     "metadata": {},
     "output_type": "display_data"
    }
   ],
   "source": [
    "## create a table to present the sample proportions\n",
    "tab_prop <- matrix(c(0.64, 0.36, 0.28), ncol=3, byrow=TRUE)\n",
    "colnames(tab_prop) <- c(\" Daytime sample prop \", \" Nighttime sample prop \", \" Difference in props \")\n",
    "rownames(tab_prop) <- c(\"proportion\")\n",
    "tab_prop <- as.table(tab_prop)\n",
    "tab_prop"
   ]
  },
  {
   "cell_type": "markdown",
   "id": "e0d1361e-0733-41a2-aaaf-e9172a71b1a8",
   "metadata": {},
   "source": [
    "This table shows the sample proportions in daytime and nighttime and their difference."
   ]
  },
  {
   "cell_type": "markdown",
   "id": "53e85025-6da1-4904-b6b7-001aaf71ae8e",
   "metadata": {},
   "source": [
    "## Methods & Results\n",
    "So far the advantages of our report are that it contains data from a credible source and that we have done a rough prelimnary analysis by computing the sample proportions of accidents that occur in each of the two seasons from our sample neighbourhood. However, the analysis done so far is only based on one sample from our chosen neighbourhood, which would make it hard for us to generalize our results to our population of all car accidents in Vancouver.\n",
    "\n",
    "New data frames are created which contain SEASON and TIME_DAY columns which have values “SUMMER”, “WINTER” and “DAY”, “NIGHT” based on the month and time of day respectively.  \n",
    " \n",
    "Since we are using a binary classification system for both season and time of day (the proportions of summer and winter collisions are dependent on one another, as are the propotions of daytime and nighttime collisions), conducting a independence hypothesis tests with season and time of day as explanatory variables would not be appropriate. Instead, since the proportions of summer and winter collisions as well as the propotions of daytime and nighttime collisions both add up to 1, we will simply set our hypotheses as follows:\n",
    " \n",
    "1.     NULL HYPOTHESIS \n",
    "H0: The proportion of collisions in summer is equal to 0.5\n",
    "                                        vs \n",
    "       ALTERNATE HYPOTHESIS\n",
    "HA: The proportion of collisions in summer is not equal to 0.5\n",
    " \n",
    "2.     NULL HYPOTHESIS \n",
    "H0: The proportion of collisions in daytime is equal to 0.5\n",
    "                                        vs \n",
    "       ALTERNATE HYPOTHESIS\n",
    "HA: The proportion of collisions in daytime is not equal to 0.5\n",
    " \n",
    "The test statistic value will be then calculated for both cases which is followed by hypothesis testing using the infer package workflow to get corresponding p values and confidence intervals. Additionally, we will also inference through asymptotic methods by first performing manual calculations using the Central Limit Theorem, followed by a one sample z test using R.\n",
    "\n",
    "For our tests we have decided to use a conservative significance level of 0.01 as we want to minimize the probability of us reporting a finding that occured by chance.\n",
    "\n"
   ]
  },
  {
   "cell_type": "markdown",
   "id": "8ce4ea21-e42a-4225-bdef-0642e68a4e8d",
   "metadata": {},
   "source": [
    "The first step is to create two data frames with our two variables of interest (season and time of day) respectively. Since we are only in vehicle collisions and not other crimes, we will also filter our datasets to reflect that."
   ]
  },
  {
   "cell_type": "code",
   "execution_count": 16,
   "id": "8c165be7-5ad9-41cb-ab33-3172a8e8fb2a",
   "metadata": {},
   "outputs": [
    {
     "data": {
      "text/html": [
       "<table class=\"dataframe\">\n",
       "<caption>A tibble: 6 × 11</caption>\n",
       "<thead>\n",
       "\t<tr><th scope=col>TYPE</th><th scope=col>YEAR</th><th scope=col>MONTH</th><th scope=col>DAY</th><th scope=col>HOUR</th><th scope=col>MINUTE</th><th scope=col>HUNDRED_BLOCK</th><th scope=col>NEIGHBOURHOOD</th><th scope=col>X</th><th scope=col>Y</th><th scope=col>SEASON</th></tr>\n",
       "\t<tr><th scope=col>&lt;chr&gt;</th><th scope=col>&lt;dbl&gt;</th><th scope=col>&lt;dbl&gt;</th><th scope=col>&lt;dbl&gt;</th><th scope=col>&lt;dbl&gt;</th><th scope=col>&lt;dbl&gt;</th><th scope=col>&lt;chr&gt;</th><th scope=col>&lt;chr&gt;</th><th scope=col>&lt;dbl&gt;</th><th scope=col>&lt;dbl&gt;</th><th scope=col>&lt;chr&gt;</th></tr>\n",
       "</thead>\n",
       "<tbody>\n",
       "\t<tr><td>Vehicle Collision or Pedestrian Struck (with Fatality)</td><td>2017</td><td> 8</td><td> 6</td><td> 9</td><td>18</td><td>42XX BLOCK W 4TH AVE   </td><td>West Point Grey</td><td>485442</td><td>5457333</td><td>SUMMER</td></tr>\n",
       "\t<tr><td>Vehicle Collision or Pedestrian Struck (with Fatality)</td><td>2021</td><td>10</td><td>10</td><td>23</td><td>25</td><td>42XX NAUTILUS CLS      </td><td>West Point Grey</td><td>485300</td><td>5457357</td><td>WINTER</td></tr>\n",
       "\t<tr><td>Vehicle Collision or Pedestrian Struck (with Fatality)</td><td>2007</td><td>11</td><td>20</td><td> 1</td><td>44</td><td>42XX W 4TH AVE         </td><td>West Point Grey</td><td>485442</td><td>5457333</td><td>WINTER</td></tr>\n",
       "\t<tr><td>Vehicle Collision or Pedestrian Struck (with Fatality)</td><td>2020</td><td> 9</td><td>28</td><td>17</td><td> 9</td><td>W 10TH AVE / SASAMAT ST</td><td>West Point Grey</td><td>484785</td><td>5456806</td><td>SUMMER</td></tr>\n",
       "\t<tr><td>Vehicle Collision or Pedestrian Struck (with Fatality)</td><td>2019</td><td> 5</td><td>23</td><td>14</td><td>22</td><td>W 4TH AVE / BLANCA ST  </td><td>West Point Grey</td><td>484359</td><td>5457394</td><td>SUMMER</td></tr>\n",
       "\t<tr><td>Vehicle Collision or Pedestrian Struck (with Fatality)</td><td>2003</td><td> 3</td><td>20</td><td>19</td><td>29</td><td>W 4TH AVE / HIGHBURY ST</td><td>West Point Grey</td><td>486350</td><td>5457336</td><td>WINTER</td></tr>\n",
       "</tbody>\n",
       "</table>\n"
      ],
      "text/latex": [
       "A tibble: 6 × 11\n",
       "\\begin{tabular}{lllllllllll}\n",
       " TYPE & YEAR & MONTH & DAY & HOUR & MINUTE & HUNDRED\\_BLOCK & NEIGHBOURHOOD & X & Y & SEASON\\\\\n",
       " <chr> & <dbl> & <dbl> & <dbl> & <dbl> & <dbl> & <chr> & <chr> & <dbl> & <dbl> & <chr>\\\\\n",
       "\\hline\n",
       "\t Vehicle Collision or Pedestrian Struck (with Fatality) & 2017 &  8 &  6 &  9 & 18 & 42XX BLOCK W 4TH AVE    & West Point Grey & 485442 & 5457333 & SUMMER\\\\\n",
       "\t Vehicle Collision or Pedestrian Struck (with Fatality) & 2021 & 10 & 10 & 23 & 25 & 42XX NAUTILUS CLS       & West Point Grey & 485300 & 5457357 & WINTER\\\\\n",
       "\t Vehicle Collision or Pedestrian Struck (with Fatality) & 2007 & 11 & 20 &  1 & 44 & 42XX W 4TH AVE          & West Point Grey & 485442 & 5457333 & WINTER\\\\\n",
       "\t Vehicle Collision or Pedestrian Struck (with Fatality) & 2020 &  9 & 28 & 17 &  9 & W 10TH AVE / SASAMAT ST & West Point Grey & 484785 & 5456806 & SUMMER\\\\\n",
       "\t Vehicle Collision or Pedestrian Struck (with Fatality) & 2019 &  5 & 23 & 14 & 22 & W 4TH AVE / BLANCA ST   & West Point Grey & 484359 & 5457394 & SUMMER\\\\\n",
       "\t Vehicle Collision or Pedestrian Struck (with Fatality) & 2003 &  3 & 20 & 19 & 29 & W 4TH AVE / HIGHBURY ST & West Point Grey & 486350 & 5457336 & WINTER\\\\\n",
       "\\end{tabular}\n"
      ],
      "text/markdown": [
       "\n",
       "A tibble: 6 × 11\n",
       "\n",
       "| TYPE &lt;chr&gt; | YEAR &lt;dbl&gt; | MONTH &lt;dbl&gt; | DAY &lt;dbl&gt; | HOUR &lt;dbl&gt; | MINUTE &lt;dbl&gt; | HUNDRED_BLOCK &lt;chr&gt; | NEIGHBOURHOOD &lt;chr&gt; | X &lt;dbl&gt; | Y &lt;dbl&gt; | SEASON &lt;chr&gt; |\n",
       "|---|---|---|---|---|---|---|---|---|---|---|\n",
       "| Vehicle Collision or Pedestrian Struck (with Fatality) | 2017 |  8 |  6 |  9 | 18 | 42XX BLOCK W 4TH AVE    | West Point Grey | 485442 | 5457333 | SUMMER |\n",
       "| Vehicle Collision or Pedestrian Struck (with Fatality) | 2021 | 10 | 10 | 23 | 25 | 42XX NAUTILUS CLS       | West Point Grey | 485300 | 5457357 | WINTER |\n",
       "| Vehicle Collision or Pedestrian Struck (with Fatality) | 2007 | 11 | 20 |  1 | 44 | 42XX W 4TH AVE          | West Point Grey | 485442 | 5457333 | WINTER |\n",
       "| Vehicle Collision or Pedestrian Struck (with Fatality) | 2020 |  9 | 28 | 17 |  9 | W 10TH AVE / SASAMAT ST | West Point Grey | 484785 | 5456806 | SUMMER |\n",
       "| Vehicle Collision or Pedestrian Struck (with Fatality) | 2019 |  5 | 23 | 14 | 22 | W 4TH AVE / BLANCA ST   | West Point Grey | 484359 | 5457394 | SUMMER |\n",
       "| Vehicle Collision or Pedestrian Struck (with Fatality) | 2003 |  3 | 20 | 19 | 29 | W 4TH AVE / HIGHBURY ST | West Point Grey | 486350 | 5457336 | WINTER |\n",
       "\n"
      ],
      "text/plain": [
       "  TYPE                                                   YEAR MONTH DAY HOUR\n",
       "1 Vehicle Collision or Pedestrian Struck (with Fatality) 2017  8     6   9  \n",
       "2 Vehicle Collision or Pedestrian Struck (with Fatality) 2021 10    10  23  \n",
       "3 Vehicle Collision or Pedestrian Struck (with Fatality) 2007 11    20   1  \n",
       "4 Vehicle Collision or Pedestrian Struck (with Fatality) 2020  9    28  17  \n",
       "5 Vehicle Collision or Pedestrian Struck (with Fatality) 2019  5    23  14  \n",
       "6 Vehicle Collision or Pedestrian Struck (with Fatality) 2003  3    20  19  \n",
       "  MINUTE HUNDRED_BLOCK           NEIGHBOURHOOD   X      Y       SEASON\n",
       "1 18     42XX BLOCK W 4TH AVE    West Point Grey 485442 5457333 SUMMER\n",
       "2 25     42XX NAUTILUS CLS       West Point Grey 485300 5457357 WINTER\n",
       "3 44     42XX W 4TH AVE          West Point Grey 485442 5457333 WINTER\n",
       "4  9     W 10TH AVE / SASAMAT ST West Point Grey 484785 5456806 SUMMER\n",
       "5 22     W 4TH AVE / BLANCA ST   West Point Grey 484359 5457394 SUMMER\n",
       "6 29     W 4TH AVE / HIGHBURY ST West Point Grey 486350 5457336 WINTER"
      ]
     },
     "metadata": {},
     "output_type": "display_data"
    }
   ],
   "source": [
    "## set up collision by season data frame\n",
    "season <- crimes %>%\n",
    "                        mutate(SEASON = ifelse(MONTH %in% 4:9, \"SUMMER\", \"WINTER\")) %>%\n",
    "                        filter(TYPE == \"Vehicle Collision or Pedestrian Struck (with Injury)\" | TYPE == \"Vehicle Collision or Pedestrian Struck (with Fatality)\")\n",
    "head(season)"
   ]
  },
  {
   "cell_type": "code",
   "execution_count": 17,
   "id": "c87750ba-464b-46fe-861c-0298cee697e0",
   "metadata": {},
   "outputs": [
    {
     "data": {
      "text/html": [
       "<table class=\"dataframe\">\n",
       "<caption>A tibble: 6 × 11</caption>\n",
       "<thead>\n",
       "\t<tr><th scope=col>TYPE</th><th scope=col>YEAR</th><th scope=col>MONTH</th><th scope=col>DAY</th><th scope=col>HOUR</th><th scope=col>MINUTE</th><th scope=col>HUNDRED_BLOCK</th><th scope=col>NEIGHBOURHOOD</th><th scope=col>X</th><th scope=col>Y</th><th scope=col>TIME_DAY</th></tr>\n",
       "\t<tr><th scope=col>&lt;chr&gt;</th><th scope=col>&lt;dbl&gt;</th><th scope=col>&lt;dbl&gt;</th><th scope=col>&lt;dbl&gt;</th><th scope=col>&lt;dbl&gt;</th><th scope=col>&lt;dbl&gt;</th><th scope=col>&lt;chr&gt;</th><th scope=col>&lt;chr&gt;</th><th scope=col>&lt;dbl&gt;</th><th scope=col>&lt;dbl&gt;</th><th scope=col>&lt;chr&gt;</th></tr>\n",
       "</thead>\n",
       "<tbody>\n",
       "\t<tr><td>Vehicle Collision or Pedestrian Struck (with Fatality)</td><td>2017</td><td> 8</td><td> 6</td><td> 9</td><td>18</td><td>42XX BLOCK W 4TH AVE   </td><td>West Point Grey</td><td>485442</td><td>5457333</td><td>DAY  </td></tr>\n",
       "\t<tr><td>Vehicle Collision or Pedestrian Struck (with Fatality)</td><td>2021</td><td>10</td><td>10</td><td>23</td><td>25</td><td>42XX NAUTILUS CLS      </td><td>West Point Grey</td><td>485300</td><td>5457357</td><td>NIGHT</td></tr>\n",
       "\t<tr><td>Vehicle Collision or Pedestrian Struck (with Fatality)</td><td>2007</td><td>11</td><td>20</td><td> 1</td><td>44</td><td>42XX W 4TH AVE         </td><td>West Point Grey</td><td>485442</td><td>5457333</td><td>NIGHT</td></tr>\n",
       "\t<tr><td>Vehicle Collision or Pedestrian Struck (with Fatality)</td><td>2020</td><td> 9</td><td>28</td><td>17</td><td> 9</td><td>W 10TH AVE / SASAMAT ST</td><td>West Point Grey</td><td>484785</td><td>5456806</td><td>DAY  </td></tr>\n",
       "\t<tr><td>Vehicle Collision or Pedestrian Struck (with Fatality)</td><td>2019</td><td> 5</td><td>23</td><td>14</td><td>22</td><td>W 4TH AVE / BLANCA ST  </td><td>West Point Grey</td><td>484359</td><td>5457394</td><td>DAY  </td></tr>\n",
       "\t<tr><td>Vehicle Collision or Pedestrian Struck (with Fatality)</td><td>2003</td><td> 3</td><td>20</td><td>19</td><td>29</td><td>W 4TH AVE / HIGHBURY ST</td><td>West Point Grey</td><td>486350</td><td>5457336</td><td>NIGHT</td></tr>\n",
       "</tbody>\n",
       "</table>\n"
      ],
      "text/latex": [
       "A tibble: 6 × 11\n",
       "\\begin{tabular}{lllllllllll}\n",
       " TYPE & YEAR & MONTH & DAY & HOUR & MINUTE & HUNDRED\\_BLOCK & NEIGHBOURHOOD & X & Y & TIME\\_DAY\\\\\n",
       " <chr> & <dbl> & <dbl> & <dbl> & <dbl> & <dbl> & <chr> & <chr> & <dbl> & <dbl> & <chr>\\\\\n",
       "\\hline\n",
       "\t Vehicle Collision or Pedestrian Struck (with Fatality) & 2017 &  8 &  6 &  9 & 18 & 42XX BLOCK W 4TH AVE    & West Point Grey & 485442 & 5457333 & DAY  \\\\\n",
       "\t Vehicle Collision or Pedestrian Struck (with Fatality) & 2021 & 10 & 10 & 23 & 25 & 42XX NAUTILUS CLS       & West Point Grey & 485300 & 5457357 & NIGHT\\\\\n",
       "\t Vehicle Collision or Pedestrian Struck (with Fatality) & 2007 & 11 & 20 &  1 & 44 & 42XX W 4TH AVE          & West Point Grey & 485442 & 5457333 & NIGHT\\\\\n",
       "\t Vehicle Collision or Pedestrian Struck (with Fatality) & 2020 &  9 & 28 & 17 &  9 & W 10TH AVE / SASAMAT ST & West Point Grey & 484785 & 5456806 & DAY  \\\\\n",
       "\t Vehicle Collision or Pedestrian Struck (with Fatality) & 2019 &  5 & 23 & 14 & 22 & W 4TH AVE / BLANCA ST   & West Point Grey & 484359 & 5457394 & DAY  \\\\\n",
       "\t Vehicle Collision or Pedestrian Struck (with Fatality) & 2003 &  3 & 20 & 19 & 29 & W 4TH AVE / HIGHBURY ST & West Point Grey & 486350 & 5457336 & NIGHT\\\\\n",
       "\\end{tabular}\n"
      ],
      "text/markdown": [
       "\n",
       "A tibble: 6 × 11\n",
       "\n",
       "| TYPE &lt;chr&gt; | YEAR &lt;dbl&gt; | MONTH &lt;dbl&gt; | DAY &lt;dbl&gt; | HOUR &lt;dbl&gt; | MINUTE &lt;dbl&gt; | HUNDRED_BLOCK &lt;chr&gt; | NEIGHBOURHOOD &lt;chr&gt; | X &lt;dbl&gt; | Y &lt;dbl&gt; | TIME_DAY &lt;chr&gt; |\n",
       "|---|---|---|---|---|---|---|---|---|---|---|\n",
       "| Vehicle Collision or Pedestrian Struck (with Fatality) | 2017 |  8 |  6 |  9 | 18 | 42XX BLOCK W 4TH AVE    | West Point Grey | 485442 | 5457333 | DAY   |\n",
       "| Vehicle Collision or Pedestrian Struck (with Fatality) | 2021 | 10 | 10 | 23 | 25 | 42XX NAUTILUS CLS       | West Point Grey | 485300 | 5457357 | NIGHT |\n",
       "| Vehicle Collision or Pedestrian Struck (with Fatality) | 2007 | 11 | 20 |  1 | 44 | 42XX W 4TH AVE          | West Point Grey | 485442 | 5457333 | NIGHT |\n",
       "| Vehicle Collision or Pedestrian Struck (with Fatality) | 2020 |  9 | 28 | 17 |  9 | W 10TH AVE / SASAMAT ST | West Point Grey | 484785 | 5456806 | DAY   |\n",
       "| Vehicle Collision or Pedestrian Struck (with Fatality) | 2019 |  5 | 23 | 14 | 22 | W 4TH AVE / BLANCA ST   | West Point Grey | 484359 | 5457394 | DAY   |\n",
       "| Vehicle Collision or Pedestrian Struck (with Fatality) | 2003 |  3 | 20 | 19 | 29 | W 4TH AVE / HIGHBURY ST | West Point Grey | 486350 | 5457336 | NIGHT |\n",
       "\n"
      ],
      "text/plain": [
       "  TYPE                                                   YEAR MONTH DAY HOUR\n",
       "1 Vehicle Collision or Pedestrian Struck (with Fatality) 2017  8     6   9  \n",
       "2 Vehicle Collision or Pedestrian Struck (with Fatality) 2021 10    10  23  \n",
       "3 Vehicle Collision or Pedestrian Struck (with Fatality) 2007 11    20   1  \n",
       "4 Vehicle Collision or Pedestrian Struck (with Fatality) 2020  9    28  17  \n",
       "5 Vehicle Collision or Pedestrian Struck (with Fatality) 2019  5    23  14  \n",
       "6 Vehicle Collision or Pedestrian Struck (with Fatality) 2003  3    20  19  \n",
       "  MINUTE HUNDRED_BLOCK           NEIGHBOURHOOD   X      Y       TIME_DAY\n",
       "1 18     42XX BLOCK W 4TH AVE    West Point Grey 485442 5457333 DAY     \n",
       "2 25     42XX NAUTILUS CLS       West Point Grey 485300 5457357 NIGHT   \n",
       "3 44     42XX W 4TH AVE          West Point Grey 485442 5457333 NIGHT   \n",
       "4  9     W 10TH AVE / SASAMAT ST West Point Grey 484785 5456806 DAY     \n",
       "5 22     W 4TH AVE / BLANCA ST   West Point Grey 484359 5457394 DAY     \n",
       "6 29     W 4TH AVE / HIGHBURY ST West Point Grey 486350 5457336 NIGHT   "
      ]
     },
     "metadata": {},
     "output_type": "display_data"
    }
   ],
   "source": [
    "## set up collision by time of the day data frame\n",
    "time <- crimes %>%\n",
    "                        mutate(TIME_DAY = ifelse(HOUR %in% 6:17, \"DAY\", \"NIGHT\")) %>%\n",
    "                        filter(TYPE == \"Vehicle Collision or Pedestrian Struck (with Injury)\" | TYPE == \"Vehicle Collision or Pedestrian Struck (with Fatality)\")\n",
    "head(time)"
   ]
  },
  {
   "cell_type": "markdown",
   "id": "140eb8e5-6fb3-4eb7-9713-1d7672894de9",
   "metadata": {},
   "source": [
    "After obtaining our data of interest, we will conduct tests our simulation-based hypothesis tests. Since we are conducting a one propotion test , we will generate the null model by entering the argument \"simulate\" instead of \"bootstrap\" to sample directly from our null model where proportion of summer/daytime collisions = 0.5. We will also generate 1000 bootstrap samples in order to obtain a 99% confidence interval to reflect our 0.01 significance level."
   ]
  },
  {
   "cell_type": "code",
   "execution_count": 35,
   "id": "10713913-87ac-4564-9200-19a5aefc366b",
   "metadata": {},
   "outputs": [
    {
     "data": {
      "text/html": [
       "<table class=\"dataframe\">\n",
       "<caption>A tibble: 6 × 2</caption>\n",
       "<thead>\n",
       "\t<tr><th scope=col>replicate</th><th scope=col>stat</th></tr>\n",
       "\t<tr><th scope=col>&lt;fct&gt;</th><th scope=col>&lt;dbl&gt;</th></tr>\n",
       "</thead>\n",
       "<tbody>\n",
       "\t<tr><td>1</td><td>0.5625000</td></tr>\n",
       "\t<tr><td>2</td><td>0.5052083</td></tr>\n",
       "\t<tr><td>3</td><td>0.5130208</td></tr>\n",
       "\t<tr><td>4</td><td>0.5078125</td></tr>\n",
       "\t<tr><td>5</td><td>0.5234375</td></tr>\n",
       "\t<tr><td>6</td><td>0.5312500</td></tr>\n",
       "</tbody>\n",
       "</table>\n"
      ],
      "text/latex": [
       "A tibble: 6 × 2\n",
       "\\begin{tabular}{ll}\n",
       " replicate & stat\\\\\n",
       " <fct> & <dbl>\\\\\n",
       "\\hline\n",
       "\t 1 & 0.5625000\\\\\n",
       "\t 2 & 0.5052083\\\\\n",
       "\t 3 & 0.5130208\\\\\n",
       "\t 4 & 0.5078125\\\\\n",
       "\t 5 & 0.5234375\\\\\n",
       "\t 6 & 0.5312500\\\\\n",
       "\\end{tabular}\n"
      ],
      "text/markdown": [
       "\n",
       "A tibble: 6 × 2\n",
       "\n",
       "| replicate &lt;fct&gt; | stat &lt;dbl&gt; |\n",
       "|---|---|\n",
       "| 1 | 0.5625000 |\n",
       "| 2 | 0.5052083 |\n",
       "| 3 | 0.5130208 |\n",
       "| 4 | 0.5078125 |\n",
       "| 5 | 0.5234375 |\n",
       "| 6 | 0.5312500 |\n",
       "\n"
      ],
      "text/plain": [
       "  replicate stat     \n",
       "1 1         0.5625000\n",
       "2 2         0.5052083\n",
       "3 3         0.5130208\n",
       "4 4         0.5078125\n",
       "5 5         0.5234375\n",
       "6 6         0.5312500"
      ]
     },
     "metadata": {},
     "output_type": "display_data"
    },
    {
     "data": {
      "text/html": [
       "<table class=\"dataframe\">\n",
       "<caption>A tibble: 6 × 2</caption>\n",
       "<thead>\n",
       "\t<tr><th scope=col>replicate</th><th scope=col>stat</th></tr>\n",
       "\t<tr><th scope=col>&lt;int&gt;</th><th scope=col>&lt;dbl&gt;</th></tr>\n",
       "</thead>\n",
       "<tbody>\n",
       "\t<tr><td>1</td><td>0.5937500</td></tr>\n",
       "\t<tr><td>2</td><td>0.6093750</td></tr>\n",
       "\t<tr><td>3</td><td>0.5755208</td></tr>\n",
       "\t<tr><td>4</td><td>0.5703125</td></tr>\n",
       "\t<tr><td>5</td><td>0.5755208</td></tr>\n",
       "\t<tr><td>6</td><td>0.5078125</td></tr>\n",
       "</tbody>\n",
       "</table>\n"
      ],
      "text/latex": [
       "A tibble: 6 × 2\n",
       "\\begin{tabular}{ll}\n",
       " replicate & stat\\\\\n",
       " <int> & <dbl>\\\\\n",
       "\\hline\n",
       "\t 1 & 0.5937500\\\\\n",
       "\t 2 & 0.6093750\\\\\n",
       "\t 3 & 0.5755208\\\\\n",
       "\t 4 & 0.5703125\\\\\n",
       "\t 5 & 0.5755208\\\\\n",
       "\t 6 & 0.5078125\\\\\n",
       "\\end{tabular}\n"
      ],
      "text/markdown": [
       "\n",
       "A tibble: 6 × 2\n",
       "\n",
       "| replicate &lt;int&gt; | stat &lt;dbl&gt; |\n",
       "|---|---|\n",
       "| 1 | 0.5937500 |\n",
       "| 2 | 0.6093750 |\n",
       "| 3 | 0.5755208 |\n",
       "| 4 | 0.5703125 |\n",
       "| 5 | 0.5755208 |\n",
       "| 6 | 0.5078125 |\n",
       "\n"
      ],
      "text/plain": [
       "  replicate stat     \n",
       "1 1         0.5937500\n",
       "2 2         0.6093750\n",
       "3 3         0.5755208\n",
       "4 4         0.5703125\n",
       "5 5         0.5755208\n",
       "6 6         0.5078125"
      ]
     },
     "metadata": {},
     "output_type": "display_data"
    },
    {
     "data": {
      "text/html": [
       "<table class=\"dataframe\">\n",
       "<caption>A tibble: 1 × 2</caption>\n",
       "<thead>\n",
       "\t<tr><th scope=col>lower_ci</th><th scope=col>upper_ci</th></tr>\n",
       "\t<tr><th scope=col>&lt;dbl&gt;</th><th scope=col>&lt;dbl&gt;</th></tr>\n",
       "</thead>\n",
       "<tbody>\n",
       "\t<tr><td>0.515599</td><td>0.6484375</td></tr>\n",
       "</tbody>\n",
       "</table>\n"
      ],
      "text/latex": [
       "A tibble: 1 × 2\n",
       "\\begin{tabular}{ll}\n",
       " lower\\_ci & upper\\_ci\\\\\n",
       " <dbl> & <dbl>\\\\\n",
       "\\hline\n",
       "\t 0.515599 & 0.6484375\\\\\n",
       "\\end{tabular}\n"
      ],
      "text/markdown": [
       "\n",
       "A tibble: 1 × 2\n",
       "\n",
       "| lower_ci &lt;dbl&gt; | upper_ci &lt;dbl&gt; |\n",
       "|---|---|\n",
       "| 0.515599 | 0.6484375 |\n",
       "\n"
      ],
      "text/plain": [
       "  lower_ci upper_ci \n",
       "1 0.515599 0.6484375"
      ]
     },
     "metadata": {},
     "output_type": "display_data"
    }
   ],
   "source": [
    "## perform hypothesis test via simulation approach\n",
    "set.seed(15)\n",
    "null_model_season <- season %>%\n",
    "    specify(response = SEASON, success = \"SUMMER\") %>%\n",
    "    hypothesize(null = \"point\", p = 0.5) %>%\n",
    "    generate(reps = 1000, type = \"simulate\") %>%\n",
    "    calculate(stat = \"prop\")\n",
    "\n",
    "## generate bootstrap distribution via simulation approach\n",
    "bootstrap_season <- season %>%\n",
    "    specify(response = SEASON, success = \"SUMMER\") %>%\n",
    "    generate(reps = 1000, type = \"bootstrap\") %>%\n",
    "    calculate(stat = \"prop\") \n",
    "\n",
    "## obtain confidence intervals for bootstrap distribution\n",
    "ci_season <- bootstrap_season %>%\n",
    "    get_ci(level = 0.99)\n",
    "\n",
    "\n",
    "head(null_model_season)\n",
    "head(bootstrap_season)\n",
    "ci_season"
   ]
  },
  {
   "cell_type": "code",
   "execution_count": 37,
   "id": "e881759b-b72e-4eed-b5c0-b7323b7d8f6b",
   "metadata": {},
   "outputs": [
    {
     "data": {
      "text/html": [
       "<table class=\"dataframe\">\n",
       "<caption>A tibble: 6 × 2</caption>\n",
       "<thead>\n",
       "\t<tr><th scope=col>replicate</th><th scope=col>stat</th></tr>\n",
       "\t<tr><th scope=col>&lt;fct&gt;</th><th scope=col>&lt;dbl&gt;</th></tr>\n",
       "</thead>\n",
       "<tbody>\n",
       "\t<tr><td>1</td><td>0.5078125</td></tr>\n",
       "\t<tr><td>2</td><td>0.5104167</td></tr>\n",
       "\t<tr><td>3</td><td>0.5390625</td></tr>\n",
       "\t<tr><td>4</td><td>0.5260417</td></tr>\n",
       "\t<tr><td>5</td><td>0.4765625</td></tr>\n",
       "\t<tr><td>6</td><td>0.5338542</td></tr>\n",
       "</tbody>\n",
       "</table>\n"
      ],
      "text/latex": [
       "A tibble: 6 × 2\n",
       "\\begin{tabular}{ll}\n",
       " replicate & stat\\\\\n",
       " <fct> & <dbl>\\\\\n",
       "\\hline\n",
       "\t 1 & 0.5078125\\\\\n",
       "\t 2 & 0.5104167\\\\\n",
       "\t 3 & 0.5390625\\\\\n",
       "\t 4 & 0.5260417\\\\\n",
       "\t 5 & 0.4765625\\\\\n",
       "\t 6 & 0.5338542\\\\\n",
       "\\end{tabular}\n"
      ],
      "text/markdown": [
       "\n",
       "A tibble: 6 × 2\n",
       "\n",
       "| replicate &lt;fct&gt; | stat &lt;dbl&gt; |\n",
       "|---|---|\n",
       "| 1 | 0.5078125 |\n",
       "| 2 | 0.5104167 |\n",
       "| 3 | 0.5390625 |\n",
       "| 4 | 0.5260417 |\n",
       "| 5 | 0.4765625 |\n",
       "| 6 | 0.5338542 |\n",
       "\n"
      ],
      "text/plain": [
       "  replicate stat     \n",
       "1 1         0.5078125\n",
       "2 2         0.5104167\n",
       "3 3         0.5390625\n",
       "4 4         0.5260417\n",
       "5 5         0.4765625\n",
       "6 6         0.5338542"
      ]
     },
     "metadata": {},
     "output_type": "display_data"
    },
    {
     "data": {
      "text/html": [
       "<table class=\"dataframe\">\n",
       "<caption>A tibble: 6 × 2</caption>\n",
       "<thead>\n",
       "\t<tr><th scope=col>replicate</th><th scope=col>stat</th></tr>\n",
       "\t<tr><th scope=col>&lt;int&gt;</th><th scope=col>&lt;dbl&gt;</th></tr>\n",
       "</thead>\n",
       "<tbody>\n",
       "\t<tr><td>1</td><td>0.6354167</td></tr>\n",
       "\t<tr><td>2</td><td>0.6588542</td></tr>\n",
       "\t<tr><td>3</td><td>0.6119792</td></tr>\n",
       "\t<tr><td>4</td><td>0.6432292</td></tr>\n",
       "\t<tr><td>5</td><td>0.6380208</td></tr>\n",
       "\t<tr><td>6</td><td>0.6588542</td></tr>\n",
       "</tbody>\n",
       "</table>\n"
      ],
      "text/latex": [
       "A tibble: 6 × 2\n",
       "\\begin{tabular}{ll}\n",
       " replicate & stat\\\\\n",
       " <int> & <dbl>\\\\\n",
       "\\hline\n",
       "\t 1 & 0.6354167\\\\\n",
       "\t 2 & 0.6588542\\\\\n",
       "\t 3 & 0.6119792\\\\\n",
       "\t 4 & 0.6432292\\\\\n",
       "\t 5 & 0.6380208\\\\\n",
       "\t 6 & 0.6588542\\\\\n",
       "\\end{tabular}\n"
      ],
      "text/markdown": [
       "\n",
       "A tibble: 6 × 2\n",
       "\n",
       "| replicate &lt;int&gt; | stat &lt;dbl&gt; |\n",
       "|---|---|\n",
       "| 1 | 0.6354167 |\n",
       "| 2 | 0.6588542 |\n",
       "| 3 | 0.6119792 |\n",
       "| 4 | 0.6432292 |\n",
       "| 5 | 0.6380208 |\n",
       "| 6 | 0.6588542 |\n",
       "\n"
      ],
      "text/plain": [
       "  replicate stat     \n",
       "1 1         0.6354167\n",
       "2 2         0.6588542\n",
       "3 3         0.6119792\n",
       "4 4         0.6432292\n",
       "5 5         0.6380208\n",
       "6 6         0.6588542"
      ]
     },
     "metadata": {},
     "output_type": "display_data"
    },
    {
     "data": {
      "text/html": [
       "<table class=\"dataframe\">\n",
       "<caption>A tibble: 1 × 2</caption>\n",
       "<thead>\n",
       "\t<tr><th scope=col>lower_ci</th><th scope=col>upper_ci</th></tr>\n",
       "\t<tr><th scope=col>&lt;dbl&gt;</th><th scope=col>&lt;dbl&gt;</th></tr>\n",
       "</thead>\n",
       "<tbody>\n",
       "\t<tr><td>0.5703125</td><td>0.703151</td></tr>\n",
       "</tbody>\n",
       "</table>\n"
      ],
      "text/latex": [
       "A tibble: 1 × 2\n",
       "\\begin{tabular}{ll}\n",
       " lower\\_ci & upper\\_ci\\\\\n",
       " <dbl> & <dbl>\\\\\n",
       "\\hline\n",
       "\t 0.5703125 & 0.703151\\\\\n",
       "\\end{tabular}\n"
      ],
      "text/markdown": [
       "\n",
       "A tibble: 1 × 2\n",
       "\n",
       "| lower_ci &lt;dbl&gt; | upper_ci &lt;dbl&gt; |\n",
       "|---|---|\n",
       "| 0.5703125 | 0.703151 |\n",
       "\n"
      ],
      "text/plain": [
       "  lower_ci  upper_ci\n",
       "1 0.5703125 0.703151"
      ]
     },
     "metadata": {},
     "output_type": "display_data"
    }
   ],
   "source": [
    "## generate null model via simulation approach\n",
    "set.seed(16)\n",
    "null_model_time <- time %>%\n",
    "    specify(response = TIME_DAY, success = \"DAY\") %>%\n",
    "    hypothesize(null = \"point\", p = 0.5) %>%\n",
    "    generate(reps = 1000, type = \"simulate\") %>%\n",
    "    calculate(stat = \"prop\")\n",
    "\n",
    "## generate bootstrap distribution via simulation approach\n",
    "bootstrap_time <- time %>%\n",
    "    specify(response = TIME_DAY, success = \"DAY\") %>%\n",
    "    generate(reps = 1000, type = \"bootstrap\") %>%\n",
    "    calculate(stat = \"prop\")\n",
    "\n",
    "## obtain confidence intervals for bootstrap distribution\n",
    "ci_time <- bootstrap_time %>%\n",
    "    get_ci(level = 0.99)\n",
    "\n",
    "head(null_model_time)\n",
    "head(bootstrap_time)\n",
    "time_ci"
   ]
  },
  {
   "cell_type": "markdown",
   "id": "978f8324-b4a4-4532-849c-816243c701b0",
   "metadata": {},
   "source": [
    "Now we will obtain the observed proportions from our original datasets to compare it to the results of our null model distribution and obtain a p value. We will also visualize the null model and bootstrap distributions using the p values and confidence intervals obtained, respectively."
   ]
  },
  {
   "cell_type": "code",
   "execution_count": 38,
   "id": "0f693bca-6296-48f7-802f-f03bcbac3832",
   "metadata": {},
   "outputs": [
    {
     "data": {
      "text/html": [
       "0.583333333333333"
      ],
      "text/latex": [
       "0.583333333333333"
      ],
      "text/markdown": [
       "0.583333333333333"
      ],
      "text/plain": [
       "[1] 0.5833333"
      ]
     },
     "metadata": {},
     "output_type": "display_data"
    },
    {
     "data": {
      "text/html": [
       "0.640625"
      ],
      "text/latex": [
       "0.640625"
      ],
      "text/markdown": [
       "0.640625"
      ],
      "text/plain": [
       "[1] 0.640625"
      ]
     },
     "metadata": {},
     "output_type": "display_data"
    }
   ],
   "source": [
    "## obtain the observed test statistic regarding season\n",
    "obs_season <- season %>%\n",
    "    specify(response = SEASON, success = \"SUMMER\") %>%\n",
    "    calculate(stat = \"prop\") %>%\n",
    "    pull()\n",
    "\n",
    "\n",
    "## obtain the observed test statistic regarding time of the day\n",
    "obs_time <- time %>%\n",
    "    specify(response = TIME_DAY, success = \"DAY\") %>%\n",
    "    calculate(stat = \"prop\") %>%\n",
    "    pull()\n",
    "\n",
    "obs_season\n",
    "obs_time"
   ]
  },
  {
   "cell_type": "code",
   "execution_count": 42,
   "id": "1d0c54c6-20f8-4e8a-a493-3bc97b76c5fa",
   "metadata": {},
   "outputs": [
    {
     "name": "stderr",
     "output_type": "stream",
     "text": [
      "Warning message:\n",
      "“Please be cautious in reporting a p-value of 0. This result is an approximation based on the number of `reps` chosen in the `generate()` step. See `?get_p_value()` for more information.”\n"
     ]
    },
    {
     "data": {
      "text/html": [
       "<table class=\"dataframe\">\n",
       "<caption>A tibble: 1 × 1</caption>\n",
       "<thead>\n",
       "\t<tr><th scope=col>p_value</th></tr>\n",
       "\t<tr><th scope=col>&lt;dbl&gt;</th></tr>\n",
       "</thead>\n",
       "<tbody>\n",
       "\t<tr><td>0</td></tr>\n",
       "</tbody>\n",
       "</table>\n"
      ],
      "text/latex": [
       "A tibble: 1 × 1\n",
       "\\begin{tabular}{l}\n",
       " p\\_value\\\\\n",
       " <dbl>\\\\\n",
       "\\hline\n",
       "\t 0\\\\\n",
       "\\end{tabular}\n"
      ],
      "text/markdown": [
       "\n",
       "A tibble: 1 × 1\n",
       "\n",
       "| p_value &lt;dbl&gt; |\n",
       "|---|\n",
       "| 0 |\n",
       "\n"
      ],
      "text/plain": [
       "  p_value\n",
       "1 0      "
      ]
     },
     "metadata": {},
     "output_type": "display_data"
    },
    {
     "data": {
      "image/png": "[encoded data removed]",
      "text/plain": [
       "plot without title"
      ]
     },
     "metadata": {
      "image/png": {
       "height": 420,
       "width": 420
      }
     },
     "output_type": "display_data"
    },
    {
     "data": {
      "image/png": "[encoded data removed]",
      "text/plain": [
       "plot without title"
      ]
     },
     "metadata": {
      "image/png": {
       "height": 420,
       "width": 420
      }
     },
     "output_type": "display_data"
    }
   ],
   "source": [
    "## visualize the null model regarding season\n",
    "null_model_viz_season <- null_model_season %>%\n",
    "    visualize() + \n",
    "    shade_p_value(obs_stat = obs_season, direction = \"both\") +\n",
    "    labs(x = \"Sample proportion of collisions in summer\") +\n",
    "    ggtitle(\"Null distribution of proportions of summer collisions\")\n",
    "null_model_viz_season\n",
    "\n",
    "## get the p-value regarding season\n",
    "p_value_season <- hypo_test_season %>%\n",
    "    get_p_value(obs_stat = obs_season, direction = \"both\")\n",
    "p_value_season\n",
    "\n",
    "## visualize the bootstrap distribution regarding season\n",
    "bootstrap_viz_season <- bootstrap_season %>%\n",
    "    visualize() +\n",
    "    labs(x = \"Sample proportion of collisions in summer\") +\n",
    "    ggtitle(\"Bootstrap distribution of proportions of summer collisions\") +\n",
    "    shade_ci(endpoints = season_ci)\n",
    "bootstrap_viz_season"
   ]
  },
  {
   "cell_type": "code",
   "execution_count": 43,
   "id": "f033f6b0-a4f2-4a5c-8094-5c637e840a29",
   "metadata": {},
   "outputs": [
    {
     "name": "stderr",
     "output_type": "stream",
     "text": [
      "Warning message:\n",
      "“Please be cautious in reporting a p-value of 0. This result is an approximation based on the number of `reps` chosen in the `generate()` step. See `?get_p_value()` for more information.”\n"
     ]
    },
    {
     "data": {
      "text/html": [
       "<table class=\"dataframe\">\n",
       "<caption>A tibble: 1 × 1</caption>\n",
       "<thead>\n",
       "\t<tr><th scope=col>p_value</th></tr>\n",
       "\t<tr><th scope=col>&lt;dbl&gt;</th></tr>\n",
       "</thead>\n",
       "<tbody>\n",
       "\t<tr><td>0</td></tr>\n",
       "</tbody>\n",
       "</table>\n"
      ],
      "text/latex": [
       "A tibble: 1 × 1\n",
       "\\begin{tabular}{l}\n",
       " p\\_value\\\\\n",
       " <dbl>\\\\\n",
       "\\hline\n",
       "\t 0\\\\\n",
       "\\end{tabular}\n"
      ],
      "text/markdown": [
       "\n",
       "A tibble: 1 × 1\n",
       "\n",
       "| p_value &lt;dbl&gt; |\n",
       "|---|\n",
       "| 0 |\n",
       "\n"
      ],
      "text/plain": [
       "  p_value\n",
       "1 0      "
      ]
     },
     "metadata": {},
     "output_type": "display_data"
    },
    {
     "data": {
      "image/png": "[encoded data removed]",
      "text/plain": [
       "plot without title"
      ]
     },
     "metadata": {
      "image/png": {
       "height": 420,
       "width": 420
      }
     },
     "output_type": "display_data"
    },
    {
     "data": {
      "image/png": "[encoded data removed]",
      "text/plain": [
       "plot without title"
      ]
     },
     "metadata": {
      "image/png": {
       "height": 420,
       "width": 420
      }
     },
     "output_type": "display_data"
    }
   ],
   "source": [
    "## visualize the null model regarding time of day\n",
    "null_model_viz_time <- null_model_time %>%\n",
    "    visualize() + \n",
    "    shade_p_value(obs_stat = obs_time, direction = \"both\") +\n",
    "    labs(x = \"Sample proportion of collisions during daytime\") +\n",
    "    ggtitle(\"Null distribution of proportions of daytime collisions\")\n",
    "null_model_viz_time\n",
    "\n",
    "## get the p-value regarding time of day\n",
    "p_value_time <- hypo_test_time %>%\n",
    "    get_p_value(obs_stat = obs_time, direction = \"both\")\n",
    "p_value_time\n",
    "\n",
    "## visualize the bootstrap distribution regarding season\n",
    "bootstrap_viz_time <- bootstrap_time %>%\n",
    "    visualize() +\n",
    "    labs(x = \"Sample proportion of collisions during daytime\") +\n",
    "    ggtitle(\"Bootstrap distribution of proportions of daytime collisions\") +\n",
    "    shade_ci(endpoints = time_ci)\n",
    "bootstrap_viz_time"
   ]
  },
  {
   "cell_type": "markdown",
   "id": "f4f8e298-7f20-4e54-92be-1d52a95e30b0",
   "metadata": {},
   "source": [
    "Our code above is returning a p value of 0 for both hypothesis tests. According to the get_p_value documentation, this occurence of this situation is likely due to the p value being less than 3 divided by the number of reps performed in our sampling. In our case of 1000 reps, this would indicate that our p values are likely less than 0.003, which satisfies our requirement of a p value less than 0.01 to reject our null hypotheses."
   ]
  },
  {
   "cell_type": "markdown",
   "id": "07bb104a-fd9b-417f-a15f-e140dd3cb0c0",
   "metadata": {},
   "source": [
    "Next, we will conduct inferencing using asymptotic methods, starting with manual calculation based on the CLT. Since we are parameter is a proportion, we will be conducting one sample z-tests for our two variables of interest, using the following test statistic:\n",
    "\n",
    "$$\n",
    "Z = \\frac{\\hat{p} - p_0}{\\sqrt{p_0(1-p_0)/n}}\n",
    "$$\n",
    "\n",
    "However, before we begin, we must ensure the size of our sample is large enough for the CLT to hold true. Using the rule of thumb provided in worksheet 8, we will test whether $n p_0 \\geq 10$ and $n(1-p_0)\\geq 10$. Since p0 is equal to 0.5 in our case, the two values are expected to be equal. "
   ]
  },
  {
   "cell_type": "code",
   "execution_count": 23,
   "id": "644cf06d-2a34-4568-bfae-198cadf89687",
   "metadata": {},
   "outputs": [
    {
     "data": {
      "text/html": [
       "192"
      ],
      "text/latex": [
       "192"
      ],
      "text/markdown": [
       "192"
      ],
      "text/plain": [
       "[1] 192"
      ]
     },
     "metadata": {},
     "output_type": "display_data"
    },
    {
     "data": {
      "text/html": [
       "192"
      ],
      "text/latex": [
       "192"
      ],
      "text/markdown": [
       "192"
      ],
      "text/plain": [
       "[1] 192"
      ]
     },
     "metadata": {},
     "output_type": "display_data"
    }
   ],
   "source": [
    "p0 <- 0.5\n",
    "n <- nrow(season)\n",
    "\n",
    "n * p0\n",
    "n * (1-p0)"
   ]
  },
  {
   "cell_type": "markdown",
   "id": "86759b48-87e9-4d4b-8d11-14eef250a788",
   "metadata": {},
   "source": [
    "Now that we have confirmed that our sample sizes are sufficiently large, we will conduct our manual z-test"
   ]
  },
  {
   "cell_type": "code",
   "execution_count": 24,
   "id": "d4ff9426-1a24-41bd-b762-fc13fd79b89f",
   "metadata": {},
   "outputs": [
    {
     "data": {
      "text/html": [
       "0.583333333333333"
      ],
      "text/latex": [
       "0.583333333333333"
      ],
      "text/markdown": [
       "0.583333333333333"
      ],
      "text/plain": [
       "[1] 0.5833333"
      ]
     },
     "metadata": {},
     "output_type": "display_data"
    },
    {
     "data": {
      "text/html": [
       "3.26598632371091"
      ],
      "text/latex": [
       "3.26598632371091"
      ],
      "text/markdown": [
       "3.26598632371091"
      ],
      "text/plain": [
       "[1] 3.265986"
      ]
     },
     "metadata": {},
     "output_type": "display_data"
    },
    {
     "data": {
      "text/html": [
       "0.640625"
      ],
      "text/latex": [
       "0.640625"
      ],
      "text/markdown": [
       "0.640625"
      ],
      "text/plain": [
       "[1] 0.640625"
      ]
     },
     "metadata": {},
     "output_type": "display_data"
    },
    {
     "data": {
      "text/html": [
       "5.51135192126215"
      ],
      "text/latex": [
       "5.51135192126215"
      ],
      "text/markdown": [
       "5.51135192126215"
      ],
      "text/plain": [
       "[1] 5.511352"
      ]
     },
     "metadata": {},
     "output_type": "display_data"
    }
   ],
   "source": [
    "## getting sample proportion regarding season\n",
    "phat_season <- mean(season$SEASON == \"SUMMER\")\n",
    "phat_season\n",
    "p0 <- 0.5\n",
    "n <- nrow(season) # n values are identitical across season and time datasets\n",
    "\n",
    "## doing one-sample z-test regarding season\n",
    "z_season <- (phat_season - p0)/sqrt(p0 * (1-p0) / n)\n",
    "z_season\n",
    "\n",
    "## getting sample proportion regarding time of the day\n",
    "phat_time <- mean(time$TIME_DAY == \"DAY\")\n",
    "phat_time\n",
    "\n",
    "## doing one-sample z-test regarding time of the day\n",
    "z_time <- (phat_time - p0)/sqrt(p0 * (1-p0) / n)\n",
    "z_time"
   ]
  },
  {
   "cell_type": "markdown",
   "id": "0c785635-e988-4ad9-85a3-a5c5068393a5",
   "metadata": {},
   "source": [
    "We can now calculate our p values using the z values we obtained. Since the CLT states that given a sufficiently large sample size the null model of the test statistic is approximately normal, we can use the pnorm function to obtain our p value. "
   ]
  },
  {
   "cell_type": "code",
   "execution_count": 25,
   "id": "c28aa105-cbd9-4655-bc0a-d620ee5d2065",
   "metadata": {},
   "outputs": [
    {
     "data": {
      "text/html": [
       "0.00109083517612529"
      ],
      "text/latex": [
       "0.00109083517612529"
      ],
      "text/markdown": [
       "0.00109083517612529"
      ],
      "text/plain": [
       "[1] 0.001090835"
      ]
     },
     "metadata": {},
     "output_type": "display_data"
    },
    {
     "data": {
      "text/html": [
       "3.56087937076562e-08"
      ],
      "text/latex": [
       "3.56087937076562e-08"
      ],
      "text/markdown": [
       "3.56087937076562e-08"
      ],
      "text/plain": [
       "[1] 3.560879e-08"
      ]
     },
     "metadata": {},
     "output_type": "display_data"
    },
    {
     "data": {
      "text/html": [
       "<table class=\"dataframe\">\n",
       "<caption>A tibble: 1 × 2</caption>\n",
       "<thead>\n",
       "\t<tr><th scope=col>lower_ci</th><th scope=col>upper_ci</th></tr>\n",
       "\t<tr><th scope=col>&lt;dbl&gt;</th><th scope=col>&lt;dbl&gt;</th></tr>\n",
       "</thead>\n",
       "<tbody>\n",
       "\t<tr><td>0.518529</td><td>0.6481377</td></tr>\n",
       "</tbody>\n",
       "</table>\n"
      ],
      "text/latex": [
       "A tibble: 1 × 2\n",
       "\\begin{tabular}{ll}\n",
       " lower\\_ci & upper\\_ci\\\\\n",
       " <dbl> & <dbl>\\\\\n",
       "\\hline\n",
       "\t 0.518529 & 0.6481377\\\\\n",
       "\\end{tabular}\n"
      ],
      "text/markdown": [
       "\n",
       "A tibble: 1 × 2\n",
       "\n",
       "| lower_ci &lt;dbl&gt; | upper_ci &lt;dbl&gt; |\n",
       "|---|---|\n",
       "| 0.518529 | 0.6481377 |\n",
       "\n"
      ],
      "text/plain": [
       "  lower_ci upper_ci \n",
       "1 0.518529 0.6481377"
      ]
     },
     "metadata": {},
     "output_type": "display_data"
    },
    {
     "data": {
      "text/html": [
       "<table class=\"dataframe\">\n",
       "<caption>A tibble: 1 × 2</caption>\n",
       "<thead>\n",
       "\t<tr><th scope=col>lower_ci</th><th scope=col>upper_ci</th></tr>\n",
       "\t<tr><th scope=col>&lt;dbl&gt;</th><th scope=col>&lt;dbl&gt;</th></tr>\n",
       "</thead>\n",
       "<tbody>\n",
       "\t<tr><td>0.5775543</td><td>0.7036957</td></tr>\n",
       "</tbody>\n",
       "</table>\n"
      ],
      "text/latex": [
       "A tibble: 1 × 2\n",
       "\\begin{tabular}{ll}\n",
       " lower\\_ci & upper\\_ci\\\\\n",
       " <dbl> & <dbl>\\\\\n",
       "\\hline\n",
       "\t 0.5775543 & 0.7036957\\\\\n",
       "\\end{tabular}\n"
      ],
      "text/markdown": [
       "\n",
       "A tibble: 1 × 2\n",
       "\n",
       "| lower_ci &lt;dbl&gt; | upper_ci &lt;dbl&gt; |\n",
       "|---|---|\n",
       "| 0.5775543 | 0.7036957 |\n",
       "\n"
      ],
      "text/plain": [
       "  lower_ci  upper_ci \n",
       "1 0.5775543 0.7036957"
      ]
     },
     "metadata": {},
     "output_type": "display_data"
    }
   ],
   "source": [
    "## using asymptotics approach to get the p-value regarding season\n",
    "asymp_p_value_season <- 2 * pnorm(z_season, lower.tail = FALSE)\n",
    "asymp_p_value_season\n",
    "\n",
    "## using asymptotics approach to get the p-value regarding time of the day\n",
    "asymp_p_value_time <- 2 * pnorm(z_time, lower.tail = FALSE)\n",
    "asymp_p_value_time\n",
    "\n",
    "std_error_season <- sqrt(phat_season*(1-phat_season)/n)\n",
    "std_error_time <- sqrt(phat_time*(1-phat_time)/n)\n",
    "\n",
    "asymp_season_ci <- tibble(\n",
    "    lower_ci = qnorm(0.005, mean = phat_season, sd = std_error_season),\n",
    "    upper_ci = qnorm(0.995, mean = phat_season, sd = std_error_season)\n",
    ")\n",
    "asymp_season_ci\n",
    "\n",
    "asymp_time_ci <- tibble(\n",
    "    lower_ci = qnorm(0.005, mean = phat_time, sd = std_error_time),\n",
    "    upper_ci = qnorm(0.995, mean = phat_time, sd = std_error_time)\n",
    ")\n",
    "asymp_time_ci\n"
   ]
  },
  {
   "cell_type": "markdown",
   "id": "4e77f325-a814-4518-8734-c10c450c6b21",
   "metadata": {},
   "source": [
    "As expected, the p values returned are much smaller than 0.003. The values for our simulation-based and theory-based confidence intervals are also approximately the same. Our final step is to conduct our hypothesis tests using the r function prop.test to confirm our findings from above."
   ]
  },
  {
   "cell_type": "code",
   "execution_count": 26,
   "id": "f6f8a9f1-96b6-4488-add1-3534b6e72941",
   "metadata": {},
   "outputs": [
    {
     "data": {
      "text/html": [
       "<table class=\"dataframe\">\n",
       "<caption>A tibble: 1 × 8</caption>\n",
       "<thead>\n",
       "\t<tr><th scope=col>estimate</th><th scope=col>statistic</th><th scope=col>p.value</th><th scope=col>parameter</th><th scope=col>conf.low</th><th scope=col>conf.high</th><th scope=col>method</th><th scope=col>alternative</th></tr>\n",
       "\t<tr><th scope=col>&lt;dbl&gt;</th><th scope=col>&lt;dbl&gt;</th><th scope=col>&lt;dbl&gt;</th><th scope=col>&lt;int&gt;</th><th scope=col>&lt;dbl&gt;</th><th scope=col>&lt;dbl&gt;</th><th scope=col>&lt;chr&gt;</th><th scope=col>&lt;chr&gt;</th></tr>\n",
       "</thead>\n",
       "<tbody>\n",
       "\t<tr><td>0.5833333</td><td>10.66667</td><td>0.001090835</td><td>1</td><td>0.5176507</td><td>0.6461852</td><td>1-sample proportions test without continuity correction</td><td>two.sided</td></tr>\n",
       "</tbody>\n",
       "</table>\n"
      ],
      "text/latex": [
       "A tibble: 1 × 8\n",
       "\\begin{tabular}{llllllll}\n",
       " estimate & statistic & p.value & parameter & conf.low & conf.high & method & alternative\\\\\n",
       " <dbl> & <dbl> & <dbl> & <int> & <dbl> & <dbl> & <chr> & <chr>\\\\\n",
       "\\hline\n",
       "\t 0.5833333 & 10.66667 & 0.001090835 & 1 & 0.5176507 & 0.6461852 & 1-sample proportions test without continuity correction & two.sided\\\\\n",
       "\\end{tabular}\n"
      ],
      "text/markdown": [
       "\n",
       "A tibble: 1 × 8\n",
       "\n",
       "| estimate &lt;dbl&gt; | statistic &lt;dbl&gt; | p.value &lt;dbl&gt; | parameter &lt;int&gt; | conf.low &lt;dbl&gt; | conf.high &lt;dbl&gt; | method &lt;chr&gt; | alternative &lt;chr&gt; |\n",
       "|---|---|---|---|---|---|---|---|\n",
       "| 0.5833333 | 10.66667 | 0.001090835 | 1 | 0.5176507 | 0.6461852 | 1-sample proportions test without continuity correction | two.sided |\n",
       "\n"
      ],
      "text/plain": [
       "  estimate  statistic p.value     parameter conf.low  conf.high\n",
       "1 0.5833333 10.66667  0.001090835 1         0.5176507 0.6461852\n",
       "  method                                                  alternative\n",
       "1 1-sample proportions test without continuity correction two.sided  "
      ]
     },
     "metadata": {},
     "output_type": "display_data"
    },
    {
     "data": {
      "text/html": [
       "<table class=\"dataframe\">\n",
       "<caption>A tibble: 1 × 8</caption>\n",
       "<thead>\n",
       "\t<tr><th scope=col>estimate</th><th scope=col>statistic</th><th scope=col>p.value</th><th scope=col>parameter</th><th scope=col>conf.low</th><th scope=col>conf.high</th><th scope=col>method</th><th scope=col>alternative</th></tr>\n",
       "\t<tr><th scope=col>&lt;dbl&gt;</th><th scope=col>&lt;dbl&gt;</th><th scope=col>&lt;dbl&gt;</th><th scope=col>&lt;int&gt;</th><th scope=col>&lt;dbl&gt;</th><th scope=col>&lt;dbl&gt;</th><th scope=col>&lt;chr&gt;</th><th scope=col>&lt;chr&gt;</th></tr>\n",
       "</thead>\n",
       "<tbody>\n",
       "\t<tr><td>0.640625</td><td>30.375</td><td>3.560879e-08</td><td>1</td><td>0.5756582</td><td>0.7008148</td><td>1-sample proportions test without continuity correction</td><td>two.sided</td></tr>\n",
       "</tbody>\n",
       "</table>\n"
      ],
      "text/latex": [
       "A tibble: 1 × 8\n",
       "\\begin{tabular}{llllllll}\n",
       " estimate & statistic & p.value & parameter & conf.low & conf.high & method & alternative\\\\\n",
       " <dbl> & <dbl> & <dbl> & <int> & <dbl> & <dbl> & <chr> & <chr>\\\\\n",
       "\\hline\n",
       "\t 0.640625 & 30.375 & 3.560879e-08 & 1 & 0.5756582 & 0.7008148 & 1-sample proportions test without continuity correction & two.sided\\\\\n",
       "\\end{tabular}\n"
      ],
      "text/markdown": [
       "\n",
       "A tibble: 1 × 8\n",
       "\n",
       "| estimate &lt;dbl&gt; | statistic &lt;dbl&gt; | p.value &lt;dbl&gt; | parameter &lt;int&gt; | conf.low &lt;dbl&gt; | conf.high &lt;dbl&gt; | method &lt;chr&gt; | alternative &lt;chr&gt; |\n",
       "|---|---|---|---|---|---|---|---|\n",
       "| 0.640625 | 30.375 | 3.560879e-08 | 1 | 0.5756582 | 0.7008148 | 1-sample proportions test without continuity correction | two.sided |\n",
       "\n"
      ],
      "text/plain": [
       "  estimate statistic p.value      parameter conf.low  conf.high\n",
       "1 0.640625 30.375    3.560879e-08 1         0.5756582 0.7008148\n",
       "  method                                                  alternative\n",
       "1 1-sample proportions test without continuity correction two.sided  "
      ]
     },
     "metadata": {},
     "output_type": "display_data"
    }
   ],
   "source": [
    "## return detailed information about the hypothesis test regarding season\n",
    "prop_test_season <- tidy(\n",
    "        prop.test(\n",
    "        x = phat_season * n,  # the number of successes,\n",
    "        n = n,  # the number of trials, \n",
    "        p = 0.5, # p0 (i.e., the value of p under H0),\n",
    "        alternative = \"two.sided\", # a two sided test to reflect our alternate hypothesis\n",
    "        conf.level = 0.99, # our desired confidence level,\n",
    "        correct = FALSE))\n",
    "\n",
    "prop_test_season\n",
    "\n",
    "## return detailed information about the hypothesis test regarding time of the day\n",
    "prop_test_time <- tidy(\n",
    "        prop.test(\n",
    "        x = phat_time * n,  # the number of successes,\n",
    "        n = n,  # the number of trials, \n",
    "        p = 0.5, # p0 (i.e., the value of p under H0),\n",
    "        alternative = \"two.sided\", # a two sided test to reflect our alternate hypothesis\n",
    "        conf.level = 0.99, # our desired confidence level,\n",
    "        correct = FALSE))\n",
    "\n",
    "prop_test_time"
   ]
  },
  {
   "cell_type": "markdown",
   "id": "9f85fb28-90a4-4622-8115-51a7af3c6076",
   "metadata": {},
   "source": [
    "Our prop tests indeed produce similar p values and confidence intervals for variables of interest, indicating a success in our both our simulation-based theory-based calculations."
   ]
  },
  {
   "cell_type": "markdown",
   "id": "74de64a0-f57a-4ec3-8688-e8654049f434",
   "metadata": {},
   "source": [
    "## Discussion"
   ]
  },
  {
   "cell_type": "markdown",
   "id": "764a5d2e-42cd-48c8-a624-111d27a9dcac",
   "metadata": {},
   "source": [
    "For our two methods, both simulation and theory-based methods generated a p-value that is much smaller than our conservative significance level of 0.01, indicating that we have strong evidednce to reject of null hypotheses of $p_s = 0.5$ and $p_d = 0.5$. However, given that our hypotheses tests are two-sided, these p value alone does not indicate whether more accidents occur in the summer or winter, or whether more accidents occur during the day or at night. Fortunately, the confidence intervals we obtained for both bootstrap samples have lower bounds of greater than 0.5, meaning we are 99% confident that the true proportions of both summer and daytime collisions in Vancouver are greater than that of their winter and nighttime counterparts. \n",
    "\n",
    "Something worth noting is that our findings are subject to the limitations of a binary classification system. We chose to use this classification in creating our variables for the sake of simplicity and conciseness in our project, but it does come at the cost of not being able to make more precise conclusions regarding how specific times of year and day affect collision rates. In addition, we are aware that our definitions of daytime and nighttime do not reflect the changes in daylight length throughout the course of a year, which is something to keep in mind when considering our findings. \n",
    "\n",
    "Although we are fairly certain that both seasonal changes and time of day are related to collision rates, it is important to point out that we are not able to infer cause through statistical inference. Hence, our findings could benefit further research can be conducted to investigate whether the disparity of collision rates are caused by changes in environmental conditions or if they are actually linked to an underlying third variable. "
   ]
  },
  {
   "cell_type": "markdown",
   "id": "8a558032-271e-4ee0-8c30-ab27a11012e6",
   "metadata": {},
   "source": [
    "## References"
   ]
  },
  {
   "cell_type": "markdown",
   "id": "ce9f084c-cbf0-49f2-a89d-194c5669b9c5",
   "metadata": {},
   "source": [
    "International Overview. (2021, May 06). Retrieved from\n",
    "    https://injuryfacts.nsc.org/international/international-overview/#:~:text=Motor-vehicle injuries are the,the world,\n",
    "    with 84,000 fatalities.\n",
    "\n",
    "Transport Canada. (2021, June 11). Canadian Motor Vehicle Traffic Collision Statistics: 2019. Retrieved from\n",
    "    https://tc.canada.ca/en/road-transportation/statistics-data/canadian-motor-vehicle-traffic-collision-statistics-2019\n"
   ]
  },
  {
   "cell_type": "code",
   "execution_count": null,
   "id": "2245f35b-95b1-4380-bbb8-28c76d1786fa",
   "metadata": {},
   "outputs": [],
   "source": []
  }
 ],
 "metadata": {
  "kernelspec": {
   "display_name": "R",
   "language": "R",
   "name": "ir"
  },
  "language_info": {
   "codemirror_mode": "r",
   "file_extension": ".r",
   "mimetype": "text/x-r-source",
   "name": "R",
   "pygments_lexer": "r",
   "version": "4.0.5"
  }
 },
 "nbformat": 4,
 "nbformat_minor": 5
}
