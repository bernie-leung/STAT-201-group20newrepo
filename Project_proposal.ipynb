{
 "cells": [
  {
   "cell_type": "code",
   "execution_count": 1,
   "id": "1ace8c93",
   "metadata": {},
   "outputs": [
    {
     "name": "stderr",
     "output_type": "stream",
     "text": [
      "── \u001b[1mAttaching packages\u001b[22m ─────────────────────────────────────── tidyverse 1.3.0 ──\n",
      "\n",
      "\u001b[32m✔\u001b[39m \u001b[34mggplot2\u001b[39m 3.3.6     \u001b[32m✔\u001b[39m \u001b[34mpurrr  \u001b[39m 0.3.4\n",
      "\u001b[32m✔\u001b[39m \u001b[34mtibble \u001b[39m 3.1.7     \u001b[32m✔\u001b[39m \u001b[34mdplyr  \u001b[39m 1.0.9\n",
      "\u001b[32m✔\u001b[39m \u001b[34mtidyr  \u001b[39m 1.2.0     \u001b[32m✔\u001b[39m \u001b[34mstringr\u001b[39m 1.4.0\n",
      "\u001b[32m✔\u001b[39m \u001b[34mreadr  \u001b[39m 2.1.2     \u001b[32m✔\u001b[39m \u001b[34mforcats\u001b[39m 0.5.1\n",
      "\n",
      "── \u001b[1mConflicts\u001b[22m ────────────────────────────────────────── tidyverse_conflicts() ──\n",
      "\u001b[31m✖\u001b[39m \u001b[34mdplyr\u001b[39m::\u001b[32mfilter()\u001b[39m masks \u001b[34mstats\u001b[39m::filter()\n",
      "\u001b[31m✖\u001b[39m \u001b[34mdplyr\u001b[39m::\u001b[32mlag()\u001b[39m    masks \u001b[34mstats\u001b[39m::lag()\n",
      "\n"
     ]
    }
   ],
   "source": [
    "# First, we will load required packages\n",
    "library(tidyverse)\n",
    "library(repr)\n",
    "library(readxl)\n",
    "library(infer)\n",
    "\n",
    "library(knitr)\n"
   ]
  },
  {
   "cell_type": "markdown",
   "id": "74542e07",
   "metadata": {
    "tags": []
   },
   "source": [
    "## Introduction\n",
    "\n",
    "Car accidents have been among the leading causes of injuries and deaths around the world, leading all causes of preventable deaths globally in 2019 at nearly 1.3 million. (“International Overview,” n.d.). Furthermore, according to Transport Canada, environmental factors have consistently made up around or over 20% of all causes of car accidents in the country from 2015 to 2019 (Transport Canada, 2021). This project aims to investigate the relationship between the time of year and the occurrence of car accidents in Vancouver.\n",
    "\n",
    "Taken from the Vancouver Police Department website, our dataset originally includes all crimes that occurred in the West Point Grey neighbourhood from 2003 to 2022 with relevant information recorded in separate variable columns (the headers of each column are shown in the parentheses):\n",
    "- Type of crime (TYPE)\n",
    "- Year of occurrence (YEAR)\n",
    "- Month of occurrence (MONTH)\n",
    "- Day of occurrence (DAY)\n",
    "- Hour of occurrence (HOUR)\n",
    "- Minute of occurrence (MINUTE)\n",
    "- Hundred block of location (HUNDRED_BLOCK)\n",
    "- Neighbourhood of location (NEIGHBOURHOOD)\n",
    "- X-coordinate of location (X)\n",
    "- Y-coordinate of location (Y)\n",
    "Of all crimes, our crime types of interest are “Vehicle Collision or Pedestrian Struck (with Fatality)” and “Vehicle Collision or Pedestrian Struck (with Injury)”. The rest of the crimes will be filtered out.\n",
    "\n",
    "Our inferential question will be to estimate the difference in proportions and standard deviations of car accidents that happen in the summer (which we classify as April to September) and the winter (which we classify as October to March) in Vancouver from 2003 to 2022, using the West Point Grey neighbourhood as a sample. \n",
    "\n"
   ]
  },
  {
   "cell_type": "markdown",
   "id": "f18a502b",
   "metadata": {},
   "source": [
    "## Preliminary Exploratory Data Analysis"
   ]
  },
  {
   "cell_type": "code",
   "execution_count": 2,
   "id": "1434237c",
   "metadata": {},
   "outputs": [
    {
     "name": "stderr",
     "output_type": "stream",
     "text": [
      "\u001b[1mRows: \u001b[22m\u001b[34m9247\u001b[39m \u001b[1mColumns: \u001b[22m\u001b[34m10\u001b[39m\n",
      "\u001b[36m──\u001b[39m \u001b[1mColumn specification\u001b[22m \u001b[36m────────────────────────────────────────────────────────\u001b[39m\n",
      "\u001b[1mDelimiter:\u001b[22m \",\"\n",
      "\u001b[31mchr\u001b[39m (3): TYPE, HUNDRED_BLOCK, NEIGHBOURHOOD\n",
      "\u001b[32mdbl\u001b[39m (7): YEAR, MONTH, DAY, HOUR, MINUTE, X, Y\n",
      "\n",
      "\u001b[36mℹ\u001b[39m Use `spec()` to retrieve the full column specification for this data.\n",
      "\u001b[36mℹ\u001b[39m Specify the column types or set `show_col_types = FALSE` to quiet this message.\n"
     ]
    },
    {
     "data": {
      "text/html": [
       "<table class=\"dataframe\">\n",
       "<caption>A tibble: 6 × 10</caption>\n",
       "<thead>\n",
       "\t<tr><th scope=col>TYPE</th><th scope=col>YEAR</th><th scope=col>MONTH</th><th scope=col>DAY</th><th scope=col>HOUR</th><th scope=col>MINUTE</th><th scope=col>HUNDRED_BLOCK</th><th scope=col>NEIGHBOURHOOD</th><th scope=col>X</th><th scope=col>Y</th></tr>\n",
       "\t<tr><th scope=col>&lt;chr&gt;</th><th scope=col>&lt;dbl&gt;</th><th scope=col>&lt;dbl&gt;</th><th scope=col>&lt;dbl&gt;</th><th scope=col>&lt;dbl&gt;</th><th scope=col>&lt;dbl&gt;</th><th scope=col>&lt;chr&gt;</th><th scope=col>&lt;chr&gt;</th><th scope=col>&lt;dbl&gt;</th><th scope=col>&lt;dbl&gt;</th></tr>\n",
       "</thead>\n",
       "<tbody>\n",
       "\t<tr><td>Break and Enter Commercial</td><td>2022</td><td> 6</td><td> 5</td><td>10</td><td> 0</td><td>13XX DISCOVERY ST</td><td>West Point Grey</td><td>485246.9</td><td>5458027</td></tr>\n",
       "\t<tr><td>Break and Enter Commercial</td><td>2004</td><td> 6</td><td>30</td><td> 0</td><td> 1</td><td>13XX DISCOVERY ST</td><td>West Point Grey</td><td>485255.4</td><td>5458013</td></tr>\n",
       "\t<tr><td>Break and Enter Commercial</td><td>2009</td><td> 5</td><td> 9</td><td>15</td><td>30</td><td>13XX DISCOVERY ST</td><td>West Point Grey</td><td>485255.4</td><td>5458013</td></tr>\n",
       "\t<tr><td>Break and Enter Commercial</td><td>2009</td><td> 8</td><td>22</td><td>20</td><td>30</td><td>13XX DISCOVERY ST</td><td>West Point Grey</td><td>485255.4</td><td>5458013</td></tr>\n",
       "\t<tr><td>Break and Enter Commercial</td><td>2009</td><td>11</td><td> 1</td><td>12</td><td> 0</td><td>13XX DISCOVERY ST</td><td>West Point Grey</td><td>485255.4</td><td>5458013</td></tr>\n",
       "\t<tr><td>Break and Enter Commercial</td><td>2011</td><td> 3</td><td>31</td><td>12</td><td> 0</td><td>13XX DISCOVERY ST</td><td>West Point Grey</td><td>485255.4</td><td>5458013</td></tr>\n",
       "</tbody>\n",
       "</table>\n"
      ],
      "text/latex": [
       "A tibble: 6 × 10\n",
       "\\begin{tabular}{llllllllll}\n",
       " TYPE & YEAR & MONTH & DAY & HOUR & MINUTE & HUNDRED\\_BLOCK & NEIGHBOURHOOD & X & Y\\\\\n",
       " <chr> & <dbl> & <dbl> & <dbl> & <dbl> & <dbl> & <chr> & <chr> & <dbl> & <dbl>\\\\\n",
       "\\hline\n",
       "\t Break and Enter Commercial & 2022 &  6 &  5 & 10 &  0 & 13XX DISCOVERY ST & West Point Grey & 485246.9 & 5458027\\\\\n",
       "\t Break and Enter Commercial & 2004 &  6 & 30 &  0 &  1 & 13XX DISCOVERY ST & West Point Grey & 485255.4 & 5458013\\\\\n",
       "\t Break and Enter Commercial & 2009 &  5 &  9 & 15 & 30 & 13XX DISCOVERY ST & West Point Grey & 485255.4 & 5458013\\\\\n",
       "\t Break and Enter Commercial & 2009 &  8 & 22 & 20 & 30 & 13XX DISCOVERY ST & West Point Grey & 485255.4 & 5458013\\\\\n",
       "\t Break and Enter Commercial & 2009 & 11 &  1 & 12 &  0 & 13XX DISCOVERY ST & West Point Grey & 485255.4 & 5458013\\\\\n",
       "\t Break and Enter Commercial & 2011 &  3 & 31 & 12 &  0 & 13XX DISCOVERY ST & West Point Grey & 485255.4 & 5458013\\\\\n",
       "\\end{tabular}\n"
      ],
      "text/markdown": [
       "\n",
       "A tibble: 6 × 10\n",
       "\n",
       "| TYPE &lt;chr&gt; | YEAR &lt;dbl&gt; | MONTH &lt;dbl&gt; | DAY &lt;dbl&gt; | HOUR &lt;dbl&gt; | MINUTE &lt;dbl&gt; | HUNDRED_BLOCK &lt;chr&gt; | NEIGHBOURHOOD &lt;chr&gt; | X &lt;dbl&gt; | Y &lt;dbl&gt; |\n",
       "|---|---|---|---|---|---|---|---|---|---|\n",
       "| Break and Enter Commercial | 2022 |  6 |  5 | 10 |  0 | 13XX DISCOVERY ST | West Point Grey | 485246.9 | 5458027 |\n",
       "| Break and Enter Commercial | 2004 |  6 | 30 |  0 |  1 | 13XX DISCOVERY ST | West Point Grey | 485255.4 | 5458013 |\n",
       "| Break and Enter Commercial | 2009 |  5 |  9 | 15 | 30 | 13XX DISCOVERY ST | West Point Grey | 485255.4 | 5458013 |\n",
       "| Break and Enter Commercial | 2009 |  8 | 22 | 20 | 30 | 13XX DISCOVERY ST | West Point Grey | 485255.4 | 5458013 |\n",
       "| Break and Enter Commercial | 2009 | 11 |  1 | 12 |  0 | 13XX DISCOVERY ST | West Point Grey | 485255.4 | 5458013 |\n",
       "| Break and Enter Commercial | 2011 |  3 | 31 | 12 |  0 | 13XX DISCOVERY ST | West Point Grey | 485255.4 | 5458013 |\n",
       "\n"
      ],
      "text/plain": [
       "  TYPE                       YEAR MONTH DAY HOUR MINUTE HUNDRED_BLOCK    \n",
       "1 Break and Enter Commercial 2022  6     5  10    0     13XX DISCOVERY ST\n",
       "2 Break and Enter Commercial 2004  6    30   0    1     13XX DISCOVERY ST\n",
       "3 Break and Enter Commercial 2009  5     9  15   30     13XX DISCOVERY ST\n",
       "4 Break and Enter Commercial 2009  8    22  20   30     13XX DISCOVERY ST\n",
       "5 Break and Enter Commercial 2009 11     1  12    0     13XX DISCOVERY ST\n",
       "6 Break and Enter Commercial 2011  3    31  12    0     13XX DISCOVERY ST\n",
       "  NEIGHBOURHOOD   X        Y      \n",
       "1 West Point Grey 485246.9 5458027\n",
       "2 West Point Grey 485255.4 5458013\n",
       "3 West Point Grey 485255.4 5458013\n",
       "4 West Point Grey 485255.4 5458013\n",
       "5 West Point Grey 485255.4 5458013\n",
       "6 West Point Grey 485255.4 5458013"
      ]
     },
     "metadata": {},
     "output_type": "display_data"
    }
   ],
   "source": [
    "# Data source: \n",
    "url <- \"https://raw.githubusercontent.com/bernie-leung/STAT-201-group20newrepo/main/crimedata_csv_West%20Point%20Grey_AllYears.csv?token=GHSAT0AAAAAABWZIEUMCDZNWHJBZOIGRVVYYW4QFGA\"\n",
    "\n",
    "# Read data source\n",
    "crimes <- read_csv(url)\n",
    "head(crimes)"
   ]
  },
  {
   "cell_type": "code",
   "execution_count": 3,
   "id": "715f8372",
   "metadata": {},
   "outputs": [
    {
     "data": {
      "text/html": [
       "<table class=\"dataframe\">\n",
       "<caption>A tibble: 6 × 10</caption>\n",
       "<thead>\n",
       "\t<tr><th scope=col>TYPE</th><th scope=col>YEAR</th><th scope=col>MONTH</th><th scope=col>DAY</th><th scope=col>HOUR</th><th scope=col>MINUTE</th><th scope=col>HUNDRED_BLOCK</th><th scope=col>NEIGHBOURHOOD</th><th scope=col>X</th><th scope=col>Y</th></tr>\n",
       "\t<tr><th scope=col>&lt;chr&gt;</th><th scope=col>&lt;dbl&gt;</th><th scope=col>&lt;fct&gt;</th><th scope=col>&lt;dbl&gt;</th><th scope=col>&lt;dbl&gt;</th><th scope=col>&lt;dbl&gt;</th><th scope=col>&lt;chr&gt;</th><th scope=col>&lt;chr&gt;</th><th scope=col>&lt;dbl&gt;</th><th scope=col>&lt;dbl&gt;</th></tr>\n",
       "</thead>\n",
       "<tbody>\n",
       "\t<tr><td>Vehicle Collision or Pedestrian Struck (with Fatality)</td><td>2017</td><td>8 </td><td> 6</td><td> 9</td><td>18</td><td>42XX BLOCK W 4TH AVE   </td><td>West Point Grey</td><td>485442</td><td>5457333</td></tr>\n",
       "\t<tr><td>Vehicle Collision or Pedestrian Struck (with Fatality)</td><td>2021</td><td>10</td><td>10</td><td>23</td><td>25</td><td>42XX NAUTILUS CLS      </td><td>West Point Grey</td><td>485300</td><td>5457357</td></tr>\n",
       "\t<tr><td>Vehicle Collision or Pedestrian Struck (with Fatality)</td><td>2007</td><td>11</td><td>20</td><td> 1</td><td>44</td><td>42XX W 4TH AVE         </td><td>West Point Grey</td><td>485442</td><td>5457333</td></tr>\n",
       "\t<tr><td>Vehicle Collision or Pedestrian Struck (with Fatality)</td><td>2020</td><td>9 </td><td>28</td><td>17</td><td> 9</td><td>W 10TH AVE / SASAMAT ST</td><td>West Point Grey</td><td>484785</td><td>5456806</td></tr>\n",
       "\t<tr><td>Vehicle Collision or Pedestrian Struck (with Fatality)</td><td>2019</td><td>5 </td><td>23</td><td>14</td><td>22</td><td>W 4TH AVE / BLANCA ST  </td><td>West Point Grey</td><td>484359</td><td>5457394</td></tr>\n",
       "\t<tr><td>Vehicle Collision or Pedestrian Struck (with Fatality)</td><td>2003</td><td>3 </td><td>20</td><td>19</td><td>29</td><td>W 4TH AVE / HIGHBURY ST</td><td>West Point Grey</td><td>486350</td><td>5457336</td></tr>\n",
       "</tbody>\n",
       "</table>\n"
      ],
      "text/latex": [
       "A tibble: 6 × 10\n",
       "\\begin{tabular}{llllllllll}\n",
       " TYPE & YEAR & MONTH & DAY & HOUR & MINUTE & HUNDRED\\_BLOCK & NEIGHBOURHOOD & X & Y\\\\\n",
       " <chr> & <dbl> & <fct> & <dbl> & <dbl> & <dbl> & <chr> & <chr> & <dbl> & <dbl>\\\\\n",
       "\\hline\n",
       "\t Vehicle Collision or Pedestrian Struck (with Fatality) & 2017 & 8  &  6 &  9 & 18 & 42XX BLOCK W 4TH AVE    & West Point Grey & 485442 & 5457333\\\\\n",
       "\t Vehicle Collision or Pedestrian Struck (with Fatality) & 2021 & 10 & 10 & 23 & 25 & 42XX NAUTILUS CLS       & West Point Grey & 485300 & 5457357\\\\\n",
       "\t Vehicle Collision or Pedestrian Struck (with Fatality) & 2007 & 11 & 20 &  1 & 44 & 42XX W 4TH AVE          & West Point Grey & 485442 & 5457333\\\\\n",
       "\t Vehicle Collision or Pedestrian Struck (with Fatality) & 2020 & 9  & 28 & 17 &  9 & W 10TH AVE / SASAMAT ST & West Point Grey & 484785 & 5456806\\\\\n",
       "\t Vehicle Collision or Pedestrian Struck (with Fatality) & 2019 & 5  & 23 & 14 & 22 & W 4TH AVE / BLANCA ST   & West Point Grey & 484359 & 5457394\\\\\n",
       "\t Vehicle Collision or Pedestrian Struck (with Fatality) & 2003 & 3  & 20 & 19 & 29 & W 4TH AVE / HIGHBURY ST & West Point Grey & 486350 & 5457336\\\\\n",
       "\\end{tabular}\n"
      ],
      "text/markdown": [
       "\n",
       "A tibble: 6 × 10\n",
       "\n",
       "| TYPE &lt;chr&gt; | YEAR &lt;dbl&gt; | MONTH &lt;fct&gt; | DAY &lt;dbl&gt; | HOUR &lt;dbl&gt; | MINUTE &lt;dbl&gt; | HUNDRED_BLOCK &lt;chr&gt; | NEIGHBOURHOOD &lt;chr&gt; | X &lt;dbl&gt; | Y &lt;dbl&gt; |\n",
       "|---|---|---|---|---|---|---|---|---|---|\n",
       "| Vehicle Collision or Pedestrian Struck (with Fatality) | 2017 | 8  |  6 |  9 | 18 | 42XX BLOCK W 4TH AVE    | West Point Grey | 485442 | 5457333 |\n",
       "| Vehicle Collision or Pedestrian Struck (with Fatality) | 2021 | 10 | 10 | 23 | 25 | 42XX NAUTILUS CLS       | West Point Grey | 485300 | 5457357 |\n",
       "| Vehicle Collision or Pedestrian Struck (with Fatality) | 2007 | 11 | 20 |  1 | 44 | 42XX W 4TH AVE          | West Point Grey | 485442 | 5457333 |\n",
       "| Vehicle Collision or Pedestrian Struck (with Fatality) | 2020 | 9  | 28 | 17 |  9 | W 10TH AVE / SASAMAT ST | West Point Grey | 484785 | 5456806 |\n",
       "| Vehicle Collision or Pedestrian Struck (with Fatality) | 2019 | 5  | 23 | 14 | 22 | W 4TH AVE / BLANCA ST   | West Point Grey | 484359 | 5457394 |\n",
       "| Vehicle Collision or Pedestrian Struck (with Fatality) | 2003 | 3  | 20 | 19 | 29 | W 4TH AVE / HIGHBURY ST | West Point Grey | 486350 | 5457336 |\n",
       "\n"
      ],
      "text/plain": [
       "  TYPE                                                   YEAR MONTH DAY HOUR\n",
       "1 Vehicle Collision or Pedestrian Struck (with Fatality) 2017 8      6   9  \n",
       "2 Vehicle Collision or Pedestrian Struck (with Fatality) 2021 10    10  23  \n",
       "3 Vehicle Collision or Pedestrian Struck (with Fatality) 2007 11    20   1  \n",
       "4 Vehicle Collision or Pedestrian Struck (with Fatality) 2020 9     28  17  \n",
       "5 Vehicle Collision or Pedestrian Struck (with Fatality) 2019 5     23  14  \n",
       "6 Vehicle Collision or Pedestrian Struck (with Fatality) 2003 3     20  19  \n",
       "  MINUTE HUNDRED_BLOCK           NEIGHBOURHOOD   X      Y      \n",
       "1 18     42XX BLOCK W 4TH AVE    West Point Grey 485442 5457333\n",
       "2 25     42XX NAUTILUS CLS       West Point Grey 485300 5457357\n",
       "3 44     42XX W 4TH AVE          West Point Grey 485442 5457333\n",
       "4  9     W 10TH AVE / SASAMAT ST West Point Grey 484785 5456806\n",
       "5 22     W 4TH AVE / BLANCA ST   West Point Grey 484359 5457394\n",
       "6 29     W 4TH AVE / HIGHBURY ST West Point Grey 486350 5457336"
      ]
     },
     "metadata": {},
     "output_type": "display_data"
    }
   ],
   "source": [
    "# created a data frame contraining only the crime types of interest \n",
    "collisions <- crimes %>%\n",
    "    filter(TYPE == \"Vehicle Collision or Pedestrian Struck (with Fatality)\" | TYPE == \"Vehicle Collision or Pedestrian Struck (with Injury)\") %>%\n",
    "    mutate(MONTH = as_factor(MONTH))\n",
    "    \n",
    "head(collisions)"
   ]
  },
  {
   "cell_type": "code",
   "execution_count": 4,
   "id": "3f17a743",
   "metadata": {},
   "outputs": [
    {
     "data": {
      "text/plain": [
       "\n",
       "\n",
       "Table: Number of observations for each month\n",
       "\n",
       "|MONTH | count|\n",
       "|:-----|-----:|\n",
       "|1     |    27|\n",
       "|2     |    21|\n",
       "|3     |    28|\n",
       "|4     |    33|\n",
       "|5     |    41|\n",
       "|6     |    32|\n",
       "|7     |    42|\n",
       "|8     |    38|\n",
       "|9     |    38|\n",
       "|10    |    37|\n",
       "|11    |    27|\n",
       "|12    |    20|"
      ]
     },
     "metadata": {},
     "output_type": "display_data"
    }
   ],
   "source": [
    "# data frame that has been grouped by month and Number of observations for each month\n",
    "\n",
    "collisions_by_month <- collisions %>%\n",
    "    group_by(MONTH) %>%\n",
    "    summarise(count = sum(MONTH == MONTH))\n",
    "\n",
    "# Table: how many observations for each month\n",
    "\n",
    "kable(collisions_by_month, caption = \"Number of observations for each month\")\n"
   ]
  },
  {
   "cell_type": "code",
   "execution_count": 5,
   "id": "221726d4",
   "metadata": {},
   "outputs": [
    {
     "data": {
      "image/png": "[encoded data removed]",
      "text/plain": [
       "plot without title"
      ]
     },
     "metadata": {
      "image/png": {
       "height": 420,
       "width": 420
      }
     },
     "output_type": "display_data"
    }
   ],
   "source": [
    "# visualize the oberservation \n",
    "collisions_graph <- collisions_by_month %>%\n",
    "    ggplot(aes(x = MONTH, y = count)) +\n",
    "    geom_bar(stat = \"Identity\") +\n",
    "    labs(x = \"Month\", y = \"Number of collision\") +\n",
    "    ggtitle(\"Figure 1. Collisions in West Point Grey from 2003 to 2022 by Month\")\n",
    "\n",
    "collisions_graph"
   ]
  },
  {
   "cell_type": "markdown",
   "id": "3e83a439",
   "metadata": {},
   "source": [
    "As we can see from the graph, there are more number of collisions that happen in the summer (which we classify as April to September) than that happen in the winter (October to March) in West Point Grey neighbourhood from 2003 to 2022."
   ]
  },
  {
   "cell_type": "code",
   "execution_count": 6,
   "id": "3d8c080f",
   "metadata": {},
   "outputs": [
    {
     "data": {
      "text/plain": [
       "\n",
       "\n",
       "Table: Number of observations for each type of crime\n",
       "\n",
       "|TYPE                                                   | count|\n",
       "|:------------------------------------------------------|-----:|\n",
       "|Vehicle Collision or Pedestrian Struck (with Fatality) |     8|\n",
       "|Vehicle Collision or Pedestrian Struck (with Injury)   |   376|"
      ]
     },
     "metadata": {},
     "output_type": "display_data"
    }
   ],
   "source": [
    "# data frame that has been grouped by type of crime and Number of observations for each type of crime\n",
    "collisions_by_type <- collisions %>%\n",
    "    group_by(TYPE) %>%\n",
    "    summarise(count = sum(TYPE == TYPE))\n",
    "\n",
    "# Table: how many observations for each month\n",
    "kable(collisions_by_type, caption = \"Number of observations for each type of crime\")\n"
   ]
  },
  {
   "cell_type": "code",
   "execution_count": 7,
   "id": "d0817b1a",
   "metadata": {},
   "outputs": [
    {
     "data": {
      "image/png": "[encoded data removed]",
      "text/plain": [
       "plot without title"
      ]
     },
     "metadata": {
      "image/png": {
       "height": 420,
       "width": 420
      }
     },
     "output_type": "display_data"
    }
   ],
   "source": [
    "# visualize the oberservation \n",
    "\n",
    "collisions_graphs <- collisions_by_type %>%\n",
    "    ggplot(aes(x = TYPE, y = count)) +\n",
    "    geom_bar(stat = \"Identity\") +\n",
    "    labs(x = \"Type\", y = \"Number of collision\") +\n",
    "    ggtitle(\"Figure 2. Collisions in West Point Grey from 2003 to 2022 by type\")\n",
    "\n",
    "collisions_graphs"
   ]
  },
  {
   "cell_type": "markdown",
   "id": "dace2f57-0c6a-4f77-9723-10c53437727f",
   "metadata": {},
   "source": [
    "This graph shows that the number of vehicle involved accidents with injuries is much more higher than the fatal accidents including primarily pedestrian or cyclist struck and vehicle to vehicle accidents. That is to say, those fatal incidents make up of a very small portion of the overall data set. "
   ]
  },
  {
   "cell_type": "markdown",
   "id": "634bf99a",
   "metadata": {},
   "source": [
    "## Preliminary Results"
   ]
  },
  {
   "cell_type": "code",
   "execution_count": 8,
   "id": "be6e4aee",
   "metadata": {},
   "outputs": [
    {
     "data": {
      "text/html": [
       "0.047"
      ],
      "text/latex": [
       "0.047"
      ],
      "text/markdown": [
       "0.047"
      ],
      "text/plain": [
       "[1] 0.047"
      ]
     },
     "metadata": {},
     "output_type": "display_data"
    }
   ],
   "source": [
    "## draw a sample from the population to calculate the point estimate: sample proportion\n",
    "set.seed(11)\n",
    "sample_prop_summer <- crimes %>%\n",
    "    filter(MONTH == 4| MONTH == 5| MONTH == 6| MONTH == 7| MONTH == 8| MONTH == 9) %>%\n",
    "    rep_sample_n(size = 1000) %>%\n",
    "    filter(TYPE == \"Vehicle Collision or Pedestrian Struck (with Fatality)\" | TYPE == \"Vehicle Collision or Pedestrian Struck (with Injury)\") %>%\n",
    "    nrow()/1000\n",
    "\n",
    "sample_prop_summer"
   ]
  },
  {
   "cell_type": "markdown",
   "id": "077ec9b1",
   "metadata": {},
   "source": [
    "This is the sample proportion of Vehicle collision in West Point Grey neighbourhood during summer."
   ]
  },
  {
   "cell_type": "code",
   "execution_count": 9,
   "id": "8bb6ee43",
   "metadata": {},
   "outputs": [
    {
     "data": {
      "text/html": [
       "0.032"
      ],
      "text/latex": [
       "0.032"
      ],
      "text/markdown": [
       "0.032"
      ],
      "text/plain": [
       "[1] 0.032"
      ]
     },
     "metadata": {},
     "output_type": "display_data"
    }
   ],
   "source": [
    "set.seed(12)\n",
    "sample_prop_winter <- crimes %>%\n",
    "    filter(MONTH == 10| MONTH == 11| MONTH == 12| MONTH == 1| MONTH == 2| MONTH == 3) %>%\n",
    "    rep_sample_n(size = 1000) %>%\n",
    "    filter(TYPE == \"Vehicle Collision or Pedestrian Struck (with Fatality)\" | TYPE == \"Vehicle Collision or Pedestrian Struck (with Injury)\") %>%\n",
    "    nrow()/1000\n",
    "\n",
    "sample_prop_winter"
   ]
  },
  {
   "cell_type": "markdown",
   "id": "31461f44",
   "metadata": {},
   "source": [
    "This is the sample proportion of Vehicle collision in West Point Grey neighbourhood during winter."
   ]
  },
  {
   "cell_type": "code",
   "execution_count": 10,
   "id": "2846712c",
   "metadata": {},
   "outputs": [
    {
     "data": {
      "text/html": [
       "0.015"
      ],
      "text/latex": [
       "0.015"
      ],
      "text/markdown": [
       "0.015"
      ],
      "text/plain": [
       "[1] 0.015"
      ]
     },
     "metadata": {},
     "output_type": "display_data"
    }
   ],
   "source": [
    "diff_sample_props <- sample_prop_summer - sample_prop_winter\n",
    "diff_sample_props"
   ]
  },
  {
   "cell_type": "markdown",
   "id": "d87ed6e8",
   "metadata": {},
   "source": [
    "0.015 is the difference of the sample proportions between summer and winter."
   ]
  },
  {
   "cell_type": "code",
   "execution_count": 11,
   "id": "59aed5e4",
   "metadata": {},
   "outputs": [
    {
     "data": {
      "text/plain": [
       "           sample prop of summer sample prop of winter difference in props\n",
       "proportion                 0.047                 0.032               0.015"
      ]
     },
     "metadata": {},
     "output_type": "display_data"
    }
   ],
   "source": [
    "## create a table to present the sample proportions\n",
    "\n",
    "tab_prop <- matrix(c(0.047, 0.032, 0.015), ncol=3, byrow=TRUE)\n",
    "colnames(tab_prop) <- c(\"sample prop of summer\", \"sample prop of winter\", \"difference in props\")\n",
    "rownames(tab_prop) <- c(\"proportion\")\n",
    "tab_prop <- as.table(tab_prop)\n",
    "tab_prop\n"
   ]
  },
  {
   "cell_type": "markdown",
   "id": "f200c8c9",
   "metadata": {},
   "source": [
    "This table shows the sample proportions in summer and winter and their difference."
   ]
  },
  {
   "cell_type": "markdown",
   "id": "8a558032-271e-4ee0-8c30-ab27a11012e6",
   "metadata": {},
   "source": [
    "## References"
   ]
  },
  {
   "cell_type": "markdown",
   "id": "ce9f084c-cbf0-49f2-a89d-194c5669b9c5",
   "metadata": {},
   "source": [
    "International Overview. (2021, May 06). Retrieved from\n",
    "    https://injuryfacts.nsc.org/international/international-overview/#:~:text=Motor-vehicle injuries are the,the world,\n",
    "    with 84,000 fatalities.\n",
    "\n",
    "Transport Canada. (2021, June 11). Canadian Motor Vehicle Traffic Collision Statistics: 2019. Retrieved from\n",
    "    https://tc.canada.ca/en/road-transportation/statistics-data/canadian-motor-vehicle-traffic-collision-statistics-2019\n"
   ]
  },
  {
   "cell_type": "code",
   "execution_count": null,
   "id": "2245f35b-95b1-4380-bbb8-28c76d1786fa",
   "metadata": {},
   "outputs": [],
   "source": []
  }
 ],
 "metadata": {
  "kernelspec": {
   "display_name": "R",
   "language": "R",
   "name": "ir"
  },
  "language_info": {
   "codemirror_mode": "r",
   "file_extension": ".r",
   "mimetype": "text/x-r-source",
   "name": "R",
   "pygments_lexer": "r",
   "version": "4.0.5"
  }
 },
 "nbformat": 4,
 "nbformat_minor": 5
}
