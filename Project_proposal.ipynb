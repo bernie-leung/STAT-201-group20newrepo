{
 "cells": [
  {
   "cell_type": "code",
   "execution_count": 2,
   "id": "1ace8c93",
   "metadata": {},
   "outputs": [
    {
     "name": "stderr",
     "output_type": "stream",
     "text": [
      "── \u001b[1mAttaching packages\u001b[22m ─────────────────────────────────────── tidyverse 1.3.0 ──\n",
      "\n",
      "\u001b[32m✔\u001b[39m \u001b[34mggplot2\u001b[39m 3.3.6     \u001b[32m✔\u001b[39m \u001b[34mpurrr  \u001b[39m 0.3.4\n",
      "\u001b[32m✔\u001b[39m \u001b[34mtibble \u001b[39m 3.1.7     \u001b[32m✔\u001b[39m \u001b[34mdplyr  \u001b[39m 1.0.9\n",
      "\u001b[32m✔\u001b[39m \u001b[34mtidyr  \u001b[39m 1.2.0     \u001b[32m✔\u001b[39m \u001b[34mstringr\u001b[39m 1.4.0\n",
      "\u001b[32m✔\u001b[39m \u001b[34mreadr  \u001b[39m 2.1.2     \u001b[32m✔\u001b[39m \u001b[34mforcats\u001b[39m 0.5.1\n",
      "\n",
      "── \u001b[1mConflicts\u001b[22m ────────────────────────────────────────── tidyverse_conflicts() ──\n",
      "\u001b[31m✖\u001b[39m \u001b[34mdplyr\u001b[39m::\u001b[32mfilter()\u001b[39m masks \u001b[34mstats\u001b[39m::filter()\n",
      "\u001b[31m✖\u001b[39m \u001b[34mdplyr\u001b[39m::\u001b[32mlag()\u001b[39m    masks \u001b[34mstats\u001b[39m::lag()\n",
      "\n"
     ]
    }
   ],
   "source": [
    "# First, we will load required packages\n",
    "library(tidyverse)\n",
    "library(repr)\n",
    "library(readxl)\n",
    "library(infer)\n",
    "\n",
    "library(knitr)\n"
   ]
  },
  {
   "cell_type": "markdown",
   "id": "74542e07",
   "metadata": {
    "tags": []
   },
   "source": [
    "## Introduction\n",
    "\n",
    "Car accidents have been among the leading causes of injuries and deaths around the world, leading all causes of preventable deaths globally in 2019 at nearly 1.3 million. (“International Overview,” n.d.). Furthermore, according to Transport Canada, environmental factors have consistently made up around or over 20% of all causes of car accidents in the country from 2015 to 2019 (Transport Canada, 2021). This project aims to investigate the relationship between the time of year and the occurrence of car accidents in Vancouver.\n",
    "\n",
    "Taken from the Vancouver Police Department website, our dataset originally includes all crimes that occurred in the West Point Grey neighbourhood from 2003 to 2022 with relevant information recorded in separate variable columns (the headers of each column are shown in the parentheses):\n",
    "- Type of crime (TYPE)\n",
    "- Year of occurrence (YEAR)\n",
    "- Month of occurrence (MONTH)\n",
    "- Day of occurrence (DAY)\n",
    "- Hour of occurrence (HOUR)\n",
    "- Minute of occurrence (MINUTE)\n",
    "- Hundred block of location (HUNDRED_BLOCK)\n",
    "- Neighbourhood of location (NEIGHBOURHOOD)\n",
    "- X-coordinate of location (X)\n",
    "- Y-coordinate of location (Y)\n",
    "Of all crimes, our crime types of interest are “Vehicle Collision or Pedestrian Struck (with Fatality)” and “Vehicle Collision or Pedestrian Struck (with Injury)”. The rest of the crimes will be filtered out.\n",
    "\n",
    "Our inferential question will be to estimate the proportions of car accidents that happen in the summer (which we classify as April to September) and the proportion of car accidents that happen winter (which we classify as October to March) in Vancouver from 2003 to 2022, using the West Point Grey neighbourhood as a sample. We will then examine the difference in the two proportions to help us reach a possible conclusion.\n",
    "\n"
   ]
  },
  {
   "cell_type": "markdown",
   "id": "f18a502b",
   "metadata": {},
   "source": [
    "## Preliminary Exploratory Data Analysis"
   ]
  },
  {
   "cell_type": "code",
   "execution_count": 3,
   "id": "1434237c",
   "metadata": {},
   "outputs": [
    {
     "name": "stderr",
     "output_type": "stream",
     "text": [
      "\u001b[1mRows: \u001b[22m\u001b[34m9247\u001b[39m \u001b[1mColumns: \u001b[22m\u001b[34m10\u001b[39m\n",
      "\u001b[36m──\u001b[39m \u001b[1mColumn specification\u001b[22m \u001b[36m────────────────────────────────────────────────────────\u001b[39m\n",
      "\u001b[1mDelimiter:\u001b[22m \",\"\n",
      "\u001b[31mchr\u001b[39m (3): TYPE, HUNDRED_BLOCK, NEIGHBOURHOOD\n",
      "\u001b[32mdbl\u001b[39m (7): YEAR, MONTH, DAY, HOUR, MINUTE, X, Y\n",
      "\n",
      "\u001b[36mℹ\u001b[39m Use `spec()` to retrieve the full column specification for this data.\n",
      "\u001b[36mℹ\u001b[39m Specify the column types or set `show_col_types = FALSE` to quiet this message.\n"
     ]
    },
    {
     "data": {
      "text/html": [
       "<table class=\"dataframe\">\n",
       "<caption>A tibble: 6 × 10</caption>\n",
       "<thead>\n",
       "\t<tr><th scope=col>TYPE</th><th scope=col>YEAR</th><th scope=col>MONTH</th><th scope=col>DAY</th><th scope=col>HOUR</th><th scope=col>MINUTE</th><th scope=col>HUNDRED_BLOCK</th><th scope=col>NEIGHBOURHOOD</th><th scope=col>X</th><th scope=col>Y</th></tr>\n",
       "\t<tr><th scope=col>&lt;chr&gt;</th><th scope=col>&lt;dbl&gt;</th><th scope=col>&lt;dbl&gt;</th><th scope=col>&lt;dbl&gt;</th><th scope=col>&lt;dbl&gt;</th><th scope=col>&lt;dbl&gt;</th><th scope=col>&lt;chr&gt;</th><th scope=col>&lt;chr&gt;</th><th scope=col>&lt;dbl&gt;</th><th scope=col>&lt;dbl&gt;</th></tr>\n",
       "</thead>\n",
       "<tbody>\n",
       "\t<tr><td>Break and Enter Commercial</td><td>2022</td><td> 6</td><td> 5</td><td>10</td><td> 0</td><td>13XX DISCOVERY ST</td><td>West Point Grey</td><td>485246.9</td><td>5458027</td></tr>\n",
       "\t<tr><td>Break and Enter Commercial</td><td>2004</td><td> 6</td><td>30</td><td> 0</td><td> 1</td><td>13XX DISCOVERY ST</td><td>West Point Grey</td><td>485255.4</td><td>5458013</td></tr>\n",
       "\t<tr><td>Break and Enter Commercial</td><td>2009</td><td> 5</td><td> 9</td><td>15</td><td>30</td><td>13XX DISCOVERY ST</td><td>West Point Grey</td><td>485255.4</td><td>5458013</td></tr>\n",
       "\t<tr><td>Break and Enter Commercial</td><td>2009</td><td> 8</td><td>22</td><td>20</td><td>30</td><td>13XX DISCOVERY ST</td><td>West Point Grey</td><td>485255.4</td><td>5458013</td></tr>\n",
       "\t<tr><td>Break and Enter Commercial</td><td>2009</td><td>11</td><td> 1</td><td>12</td><td> 0</td><td>13XX DISCOVERY ST</td><td>West Point Grey</td><td>485255.4</td><td>5458013</td></tr>\n",
       "\t<tr><td>Break and Enter Commercial</td><td>2011</td><td> 3</td><td>31</td><td>12</td><td> 0</td><td>13XX DISCOVERY ST</td><td>West Point Grey</td><td>485255.4</td><td>5458013</td></tr>\n",
       "</tbody>\n",
       "</table>\n"
      ],
      "text/latex": [
       "A tibble: 6 × 10\n",
       "\\begin{tabular}{llllllllll}\n",
       " TYPE & YEAR & MONTH & DAY & HOUR & MINUTE & HUNDRED\\_BLOCK & NEIGHBOURHOOD & X & Y\\\\\n",
       " <chr> & <dbl> & <dbl> & <dbl> & <dbl> & <dbl> & <chr> & <chr> & <dbl> & <dbl>\\\\\n",
       "\\hline\n",
       "\t Break and Enter Commercial & 2022 &  6 &  5 & 10 &  0 & 13XX DISCOVERY ST & West Point Grey & 485246.9 & 5458027\\\\\n",
       "\t Break and Enter Commercial & 2004 &  6 & 30 &  0 &  1 & 13XX DISCOVERY ST & West Point Grey & 485255.4 & 5458013\\\\\n",
       "\t Break and Enter Commercial & 2009 &  5 &  9 & 15 & 30 & 13XX DISCOVERY ST & West Point Grey & 485255.4 & 5458013\\\\\n",
       "\t Break and Enter Commercial & 2009 &  8 & 22 & 20 & 30 & 13XX DISCOVERY ST & West Point Grey & 485255.4 & 5458013\\\\\n",
       "\t Break and Enter Commercial & 2009 & 11 &  1 & 12 &  0 & 13XX DISCOVERY ST & West Point Grey & 485255.4 & 5458013\\\\\n",
       "\t Break and Enter Commercial & 2011 &  3 & 31 & 12 &  0 & 13XX DISCOVERY ST & West Point Grey & 485255.4 & 5458013\\\\\n",
       "\\end{tabular}\n"
      ],
      "text/markdown": [
       "\n",
       "A tibble: 6 × 10\n",
       "\n",
       "| TYPE &lt;chr&gt; | YEAR &lt;dbl&gt; | MONTH &lt;dbl&gt; | DAY &lt;dbl&gt; | HOUR &lt;dbl&gt; | MINUTE &lt;dbl&gt; | HUNDRED_BLOCK &lt;chr&gt; | NEIGHBOURHOOD &lt;chr&gt; | X &lt;dbl&gt; | Y &lt;dbl&gt; |\n",
       "|---|---|---|---|---|---|---|---|---|---|\n",
       "| Break and Enter Commercial | 2022 |  6 |  5 | 10 |  0 | 13XX DISCOVERY ST | West Point Grey | 485246.9 | 5458027 |\n",
       "| Break and Enter Commercial | 2004 |  6 | 30 |  0 |  1 | 13XX DISCOVERY ST | West Point Grey | 485255.4 | 5458013 |\n",
       "| Break and Enter Commercial | 2009 |  5 |  9 | 15 | 30 | 13XX DISCOVERY ST | West Point Grey | 485255.4 | 5458013 |\n",
       "| Break and Enter Commercial | 2009 |  8 | 22 | 20 | 30 | 13XX DISCOVERY ST | West Point Grey | 485255.4 | 5458013 |\n",
       "| Break and Enter Commercial | 2009 | 11 |  1 | 12 |  0 | 13XX DISCOVERY ST | West Point Grey | 485255.4 | 5458013 |\n",
       "| Break and Enter Commercial | 2011 |  3 | 31 | 12 |  0 | 13XX DISCOVERY ST | West Point Grey | 485255.4 | 5458013 |\n",
       "\n"
      ],
      "text/plain": [
       "  TYPE                       YEAR MONTH DAY HOUR MINUTE HUNDRED_BLOCK    \n",
       "1 Break and Enter Commercial 2022  6     5  10    0     13XX DISCOVERY ST\n",
       "2 Break and Enter Commercial 2004  6    30   0    1     13XX DISCOVERY ST\n",
       "3 Break and Enter Commercial 2009  5     9  15   30     13XX DISCOVERY ST\n",
       "4 Break and Enter Commercial 2009  8    22  20   30     13XX DISCOVERY ST\n",
       "5 Break and Enter Commercial 2009 11     1  12    0     13XX DISCOVERY ST\n",
       "6 Break and Enter Commercial 2011  3    31  12    0     13XX DISCOVERY ST\n",
       "  NEIGHBOURHOOD   X        Y      \n",
       "1 West Point Grey 485246.9 5458027\n",
       "2 West Point Grey 485255.4 5458013\n",
       "3 West Point Grey 485255.4 5458013\n",
       "4 West Point Grey 485255.4 5458013\n",
       "5 West Point Grey 485255.4 5458013\n",
       "6 West Point Grey 485255.4 5458013"
      ]
     },
     "metadata": {},
     "output_type": "display_data"
    }
   ],
   "source": [
    "# Data source: \n",
    "url <- \"https://raw.githubusercontent.com/bernie-leung/STAT-201-group20newrepo/main/crimedata_csv_West%20Point%20Grey_AllYears.csv?token=GHSAT0AAAAAABWZIEUMCDZNWHJBZOIGRVVYYW4QFGA\"\n",
    "\n",
    "# Read data source\n",
    "crimes <- read_csv(url)\n",
    "head(crimes)"
   ]
  },
  {
   "cell_type": "code",
   "execution_count": 4,
   "id": "715f8372",
   "metadata": {},
   "outputs": [
    {
     "data": {
      "text/html": [
       "<table class=\"dataframe\">\n",
       "<caption>A tibble: 6 × 10</caption>\n",
       "<thead>\n",
       "\t<tr><th scope=col>TYPE</th><th scope=col>YEAR</th><th scope=col>MONTH</th><th scope=col>DAY</th><th scope=col>HOUR</th><th scope=col>MINUTE</th><th scope=col>HUNDRED_BLOCK</th><th scope=col>NEIGHBOURHOOD</th><th scope=col>X</th><th scope=col>Y</th></tr>\n",
       "\t<tr><th scope=col>&lt;chr&gt;</th><th scope=col>&lt;dbl&gt;</th><th scope=col>&lt;fct&gt;</th><th scope=col>&lt;dbl&gt;</th><th scope=col>&lt;dbl&gt;</th><th scope=col>&lt;dbl&gt;</th><th scope=col>&lt;chr&gt;</th><th scope=col>&lt;chr&gt;</th><th scope=col>&lt;dbl&gt;</th><th scope=col>&lt;dbl&gt;</th></tr>\n",
       "</thead>\n",
       "<tbody>\n",
       "\t<tr><td>Vehicle Collision or Pedestrian Struck (with Fatality)</td><td>2017</td><td>8 </td><td> 6</td><td> 9</td><td>18</td><td>42XX BLOCK W 4TH AVE   </td><td>West Point Grey</td><td>485442</td><td>5457333</td></tr>\n",
       "\t<tr><td>Vehicle Collision or Pedestrian Struck (with Fatality)</td><td>2021</td><td>10</td><td>10</td><td>23</td><td>25</td><td>42XX NAUTILUS CLS      </td><td>West Point Grey</td><td>485300</td><td>5457357</td></tr>\n",
       "\t<tr><td>Vehicle Collision or Pedestrian Struck (with Fatality)</td><td>2007</td><td>11</td><td>20</td><td> 1</td><td>44</td><td>42XX W 4TH AVE         </td><td>West Point Grey</td><td>485442</td><td>5457333</td></tr>\n",
       "\t<tr><td>Vehicle Collision or Pedestrian Struck (with Fatality)</td><td>2020</td><td>9 </td><td>28</td><td>17</td><td> 9</td><td>W 10TH AVE / SASAMAT ST</td><td>West Point Grey</td><td>484785</td><td>5456806</td></tr>\n",
       "\t<tr><td>Vehicle Collision or Pedestrian Struck (with Fatality)</td><td>2019</td><td>5 </td><td>23</td><td>14</td><td>22</td><td>W 4TH AVE / BLANCA ST  </td><td>West Point Grey</td><td>484359</td><td>5457394</td></tr>\n",
       "\t<tr><td>Vehicle Collision or Pedestrian Struck (with Fatality)</td><td>2003</td><td>3 </td><td>20</td><td>19</td><td>29</td><td>W 4TH AVE / HIGHBURY ST</td><td>West Point Grey</td><td>486350</td><td>5457336</td></tr>\n",
       "</tbody>\n",
       "</table>\n"
      ],
      "text/latex": [
       "A tibble: 6 × 10\n",
       "\\begin{tabular}{llllllllll}\n",
       " TYPE & YEAR & MONTH & DAY & HOUR & MINUTE & HUNDRED\\_BLOCK & NEIGHBOURHOOD & X & Y\\\\\n",
       " <chr> & <dbl> & <fct> & <dbl> & <dbl> & <dbl> & <chr> & <chr> & <dbl> & <dbl>\\\\\n",
       "\\hline\n",
       "\t Vehicle Collision or Pedestrian Struck (with Fatality) & 2017 & 8  &  6 &  9 & 18 & 42XX BLOCK W 4TH AVE    & West Point Grey & 485442 & 5457333\\\\\n",
       "\t Vehicle Collision or Pedestrian Struck (with Fatality) & 2021 & 10 & 10 & 23 & 25 & 42XX NAUTILUS CLS       & West Point Grey & 485300 & 5457357\\\\\n",
       "\t Vehicle Collision or Pedestrian Struck (with Fatality) & 2007 & 11 & 20 &  1 & 44 & 42XX W 4TH AVE          & West Point Grey & 485442 & 5457333\\\\\n",
       "\t Vehicle Collision or Pedestrian Struck (with Fatality) & 2020 & 9  & 28 & 17 &  9 & W 10TH AVE / SASAMAT ST & West Point Grey & 484785 & 5456806\\\\\n",
       "\t Vehicle Collision or Pedestrian Struck (with Fatality) & 2019 & 5  & 23 & 14 & 22 & W 4TH AVE / BLANCA ST   & West Point Grey & 484359 & 5457394\\\\\n",
       "\t Vehicle Collision or Pedestrian Struck (with Fatality) & 2003 & 3  & 20 & 19 & 29 & W 4TH AVE / HIGHBURY ST & West Point Grey & 486350 & 5457336\\\\\n",
       "\\end{tabular}\n"
      ],
      "text/markdown": [
       "\n",
       "A tibble: 6 × 10\n",
       "\n",
       "| TYPE &lt;chr&gt; | YEAR &lt;dbl&gt; | MONTH &lt;fct&gt; | DAY &lt;dbl&gt; | HOUR &lt;dbl&gt; | MINUTE &lt;dbl&gt; | HUNDRED_BLOCK &lt;chr&gt; | NEIGHBOURHOOD &lt;chr&gt; | X &lt;dbl&gt; | Y &lt;dbl&gt; |\n",
       "|---|---|---|---|---|---|---|---|---|---|\n",
       "| Vehicle Collision or Pedestrian Struck (with Fatality) | 2017 | 8  |  6 |  9 | 18 | 42XX BLOCK W 4TH AVE    | West Point Grey | 485442 | 5457333 |\n",
       "| Vehicle Collision or Pedestrian Struck (with Fatality) | 2021 | 10 | 10 | 23 | 25 | 42XX NAUTILUS CLS       | West Point Grey | 485300 | 5457357 |\n",
       "| Vehicle Collision or Pedestrian Struck (with Fatality) | 2007 | 11 | 20 |  1 | 44 | 42XX W 4TH AVE          | West Point Grey | 485442 | 5457333 |\n",
       "| Vehicle Collision or Pedestrian Struck (with Fatality) | 2020 | 9  | 28 | 17 |  9 | W 10TH AVE / SASAMAT ST | West Point Grey | 484785 | 5456806 |\n",
       "| Vehicle Collision or Pedestrian Struck (with Fatality) | 2019 | 5  | 23 | 14 | 22 | W 4TH AVE / BLANCA ST   | West Point Grey | 484359 | 5457394 |\n",
       "| Vehicle Collision or Pedestrian Struck (with Fatality) | 2003 | 3  | 20 | 19 | 29 | W 4TH AVE / HIGHBURY ST | West Point Grey | 486350 | 5457336 |\n",
       "\n"
      ],
      "text/plain": [
       "  TYPE                                                   YEAR MONTH DAY HOUR\n",
       "1 Vehicle Collision or Pedestrian Struck (with Fatality) 2017 8      6   9  \n",
       "2 Vehicle Collision or Pedestrian Struck (with Fatality) 2021 10    10  23  \n",
       "3 Vehicle Collision or Pedestrian Struck (with Fatality) 2007 11    20   1  \n",
       "4 Vehicle Collision or Pedestrian Struck (with Fatality) 2020 9     28  17  \n",
       "5 Vehicle Collision or Pedestrian Struck (with Fatality) 2019 5     23  14  \n",
       "6 Vehicle Collision or Pedestrian Struck (with Fatality) 2003 3     20  19  \n",
       "  MINUTE HUNDRED_BLOCK           NEIGHBOURHOOD   X      Y      \n",
       "1 18     42XX BLOCK W 4TH AVE    West Point Grey 485442 5457333\n",
       "2 25     42XX NAUTILUS CLS       West Point Grey 485300 5457357\n",
       "3 44     42XX W 4TH AVE          West Point Grey 485442 5457333\n",
       "4  9     W 10TH AVE / SASAMAT ST West Point Grey 484785 5456806\n",
       "5 22     W 4TH AVE / BLANCA ST   West Point Grey 484359 5457394\n",
       "6 29     W 4TH AVE / HIGHBURY ST West Point Grey 486350 5457336"
      ]
     },
     "metadata": {},
     "output_type": "display_data"
    }
   ],
   "source": [
    "# created a data frame contraining only the crime types of interest \n",
    "collisions <- crimes %>%\n",
    "    filter(TYPE == \"Vehicle Collision or Pedestrian Struck (with Fatality)\" | TYPE == \"Vehicle Collision or Pedestrian Struck (with Injury)\") %>%\n",
    "    mutate(MONTH = as_factor(MONTH))\n",
    "    \n",
    "head(collisions)"
   ]
  },
  {
   "cell_type": "code",
   "execution_count": 5,
   "id": "3f17a743",
   "metadata": {},
   "outputs": [
    {
     "data": {
      "text/plain": [
       "\n",
       "\n",
       "Table: Number of observations for each month\n",
       "\n",
       "|MONTH | count|\n",
       "|:-----|-----:|\n",
       "|1     |    27|\n",
       "|2     |    21|\n",
       "|3     |    28|\n",
       "|4     |    33|\n",
       "|5     |    41|\n",
       "|6     |    32|\n",
       "|7     |    42|\n",
       "|8     |    38|\n",
       "|9     |    38|\n",
       "|10    |    37|\n",
       "|11    |    27|\n",
       "|12    |    20|"
      ]
     },
     "metadata": {},
     "output_type": "display_data"
    }
   ],
   "source": [
    "# data frame that has been grouped by month and Number of observations for each month\n",
    "\n",
    "collisions_by_month <- collisions %>%\n",
    "    group_by(MONTH) %>%\n",
    "    summarise(count = sum(MONTH == MONTH))\n",
    "\n",
    "# Table: how many observations for each month\n",
    "\n",
    "kable(collisions_by_month, caption = \"Number of observations for each month\")\n"
   ]
  },
  {
   "cell_type": "code",
   "execution_count": 6,
   "id": "221726d4",
   "metadata": {},
   "outputs": [
    {
     "data": {
      "image/png": "[encoded data removed]",
      "text/plain": [
       "plot without title"
      ]
     },
     "metadata": {
      "image/png": {
       "height": 420,
       "width": 420
      }
     },
     "output_type": "display_data"
    }
   ],
   "source": [
    "# visualize the oberservation \n",
    "collisions_graph <- collisions_by_month %>%\n",
    "    ggplot(aes(x = MONTH, y = count)) +\n",
    "    geom_bar(stat = \"Identity\") +\n",
    "    labs(x = \"Month\", y = \"Number of collision\") +\n",
    "    ggtitle(\"Figure 1. Collisions in West Point Grey from 2003 to 2022 by Month\")\n",
    "\n",
    "collisions_graph"
   ]
  },
  {
   "cell_type": "markdown",
   "id": "3e83a439",
   "metadata": {},
   "source": [
    "As we can see from the graph, there are more number of collisions that happen in the summer (which we classify as April to September) than that happen in the winter (October to March) in West Point Grey neighbourhood from 2003 to 2022."
   ]
  },
  {
   "cell_type": "code",
   "execution_count": 7,
   "id": "3d8c080f",
   "metadata": {},
   "outputs": [
    {
     "data": {
      "text/plain": [
       "\n",
       "\n",
       "Table: Number of observations for each type of crime\n",
       "\n",
       "|TYPE                                                   | count|\n",
       "|:------------------------------------------------------|-----:|\n",
       "|Vehicle Collision or Pedestrian Struck (with Fatality) |     8|\n",
       "|Vehicle Collision or Pedestrian Struck (with Injury)   |   376|"
      ]
     },
     "metadata": {},
     "output_type": "display_data"
    }
   ],
   "source": [
    "# data frame that has been grouped by type of crime and Number of observations for each type of crime\n",
    "collisions_by_type <- collisions %>%\n",
    "    group_by(TYPE) %>%\n",
    "    summarise(count = sum(TYPE == TYPE))\n",
    "\n",
    "# Table: how many observations for each month\n",
    "kable(collisions_by_type, caption = \"Number of observations for each type of crime\")\n"
   ]
  },
  {
   "cell_type": "code",
   "execution_count": 8,
   "id": "d0817b1a",
   "metadata": {},
   "outputs": [
    {
     "data": {
      "image/png": "[encoded data removed]",
      "text/plain": [
       "plot without title"
      ]
     },
     "metadata": {
      "image/png": {
       "height": 420,
       "width": 420
      }
     },
     "output_type": "display_data"
    }
   ],
   "source": [
    "# visualize the oberservation \n",
    "\n",
    "collisions_graphs <- collisions_by_type %>%\n",
    "    ggplot(aes(x = TYPE, y = count)) +\n",
    "    geom_bar(stat = \"Identity\") +\n",
    "    labs(x = \"Type\", y = \"Number of collision\") +\n",
    "    ggtitle(\"Figure 2. Collisions in West Point Grey from 2003 to 2022 by type\")\n",
    "\n",
    "collisions_graphs"
   ]
  },
  {
   "cell_type": "markdown",
   "id": "dace2f57-0c6a-4f77-9723-10c53437727f",
   "metadata": {},
   "source": [
    "This graph shows that the number of vehicle involved accidents with injuries is much more higher than the fatal accidents including primarily pedestrian or cyclist struck and vehicle to vehicle accidents. That is to say, those fatal incidents make up of a very small portion of the overall data set. "
   ]
  },
  {
   "cell_type": "markdown",
   "id": "634bf99a",
   "metadata": {},
   "source": [
    "## Preliminary Results"
   ]
  },
  {
   "cell_type": "code",
   "execution_count": 25,
   "id": "be6e4aee",
   "metadata": {},
   "outputs": [
    {
     "data": {
      "text/html": [
       "0.55"
      ],
      "text/latex": [
       "0.55"
      ],
      "text/markdown": [
       "0.55"
      ],
      "text/plain": [
       "[1] 0.55"
      ]
     },
     "metadata": {},
     "output_type": "display_data"
    }
   ],
   "source": [
    "## draw a sample from the population to calculate the point estimate: sample proportion\n",
    "set.seed(11)\n",
    "sample_prop_summer <- crimes %>%\n",
    "    filter(TYPE == \"Vehicle Collision or Pedestrian Struck (with Fatality)\" | TYPE == \"Vehicle Collision or Pedestrian Struck (with Injury)\") %>% \n",
    "    rep_sample_n(size = 100) %>% \n",
    "    filter(MONTH == 4| MONTH == 5| MONTH == 6| MONTH == 7| MONTH == 8| MONTH == 9) %>%\n",
    "    nrow()/100\n",
    "\n",
    "sample_prop_summer"
   ]
  },
  {
   "cell_type": "markdown",
   "id": "077ec9b1",
   "metadata": {},
   "source": [
    "This is the sample proportion of Vehicle collision in West Point Grey neighbourhood during summer."
   ]
  },
  {
   "cell_type": "code",
   "execution_count": 26,
   "id": "8bb6ee43",
   "metadata": {},
   "outputs": [
    {
     "data": {
      "text/html": [
       "0.45"
      ],
      "text/latex": [
       "0.45"
      ],
      "text/markdown": [
       "0.45"
      ],
      "text/plain": [
       "[1] 0.45"
      ]
     },
     "metadata": {},
     "output_type": "display_data"
    }
   ],
   "source": [
    "set.seed(12)\n",
    "sample_prop_winter <- crimes %>%\n",
    "    filter(TYPE == \"Vehicle Collision or Pedestrian Struck (with Fatality)\" | TYPE == \"Vehicle Collision or Pedestrian Struck (with Injury)\") %>%\n",
    "    rep_sample_n(size = 100) %>%\n",
    "    filter(MONTH == 10| MONTH == 11| MONTH == 12| MONTH == 1| MONTH == 2| MONTH == 3) %>% \n",
    "    nrow()/100\n",
    "\n",
    "sample_prop_winter"
   ]
  },
  {
   "cell_type": "markdown",
   "id": "31461f44",
   "metadata": {},
   "source": [
    "This is the sample proportion of Vehicle collision in West Point Grey neighbourhood during winter."
   ]
  },
  {
   "cell_type": "code",
   "execution_count": 27,
   "id": "2846712c",
   "metadata": {},
   "outputs": [
    {
     "data": {
      "text/html": [
       "0.1"
      ],
      "text/latex": [
       "0.1"
      ],
      "text/markdown": [
       "0.1"
      ],
      "text/plain": [
       "[1] 0.1"
      ]
     },
     "metadata": {},
     "output_type": "display_data"
    }
   ],
   "source": [
    "diff_sample_props <- sample_prop_summer - sample_prop_winter\n",
    "diff_sample_props"
   ]
  },
  {
   "cell_type": "markdown",
   "id": "d87ed6e8",
   "metadata": {},
   "source": [
    "0.015 is the difference of the sample proportions between summer and winter."
   ]
  },
  {
   "cell_type": "code",
   "execution_count": 28,
   "id": "59aed5e4",
   "metadata": {},
   "outputs": [
    {
     "data": {
      "text/plain": [
       "            Summer sample prop   Winter sample prop   Difference in props \n",
       "proportion                 0.55                 0.45                  0.10"
      ]
     },
     "metadata": {},
     "output_type": "display_data"
    }
   ],
   "source": [
    "## create a table to present the sample proportions\n",
    "\n",
    "tab_prop <- matrix(c(0.55, 0.45, 0.1), ncol=3, byrow=TRUE)\n",
    "colnames(tab_prop) <- c(\" Summer sample prop \", \" Winter sample prop \", \" Difference in props \")\n",
    "rownames(tab_prop) <- c(\"proportion\")\n",
    "tab_prop <- as.table(tab_prop)\n",
    "tab_prop\n"
   ]
  },
  {
   "cell_type": "markdown",
   "id": "f200c8c9",
   "metadata": {},
   "source": [
    "This table shows the sample proportions in summer and winter and their difference."
   ]
  },
  {
   "cell_type": "code",
   "execution_count": 34,
   "id": "a868ab8d-1135-4ecc-93c7-2920758f99df",
   "metadata": {},
   "outputs": [
    {
     "data": {
      "text/html": [
       "<table class=\"dataframe\">\n",
       "<caption>A tibble: 6 × 11</caption>\n",
       "<thead>\n",
       "\t<tr><th scope=col>TYPE</th><th scope=col>YEAR</th><th scope=col>MONTH</th><th scope=col>DAY</th><th scope=col>HOUR</th><th scope=col>MINUTE</th><th scope=col>HUNDRED_BLOCK</th><th scope=col>NEIGHBOURHOOD</th><th scope=col>X</th><th scope=col>Y</th><th scope=col>SEASON</th></tr>\n",
       "\t<tr><th scope=col>&lt;chr&gt;</th><th scope=col>&lt;dbl&gt;</th><th scope=col>&lt;dbl&gt;</th><th scope=col>&lt;dbl&gt;</th><th scope=col>&lt;dbl&gt;</th><th scope=col>&lt;dbl&gt;</th><th scope=col>&lt;chr&gt;</th><th scope=col>&lt;chr&gt;</th><th scope=col>&lt;dbl&gt;</th><th scope=col>&lt;dbl&gt;</th><th scope=col>&lt;chr&gt;</th></tr>\n",
       "</thead>\n",
       "<tbody>\n",
       "\t<tr><td>Collision</td><td>2017</td><td> 8</td><td> 6</td><td> 9</td><td>18</td><td>42XX BLOCK W 4TH AVE   </td><td>West Point Grey</td><td>485442</td><td>5457333</td><td>SUMMER</td></tr>\n",
       "\t<tr><td>Collision</td><td>2021</td><td>10</td><td>10</td><td>23</td><td>25</td><td>42XX NAUTILUS CLS      </td><td>West Point Grey</td><td>485300</td><td>5457357</td><td>WINTER</td></tr>\n",
       "\t<tr><td>Collision</td><td>2007</td><td>11</td><td>20</td><td> 1</td><td>44</td><td>42XX W 4TH AVE         </td><td>West Point Grey</td><td>485442</td><td>5457333</td><td>WINTER</td></tr>\n",
       "\t<tr><td>Collision</td><td>2020</td><td> 9</td><td>28</td><td>17</td><td> 9</td><td>W 10TH AVE / SASAMAT ST</td><td>West Point Grey</td><td>484785</td><td>5456806</td><td>SUMMER</td></tr>\n",
       "\t<tr><td>Collision</td><td>2019</td><td> 5</td><td>23</td><td>14</td><td>22</td><td>W 4TH AVE / BLANCA ST  </td><td>West Point Grey</td><td>484359</td><td>5457394</td><td>SUMMER</td></tr>\n",
       "\t<tr><td>Collision</td><td>2003</td><td> 3</td><td>20</td><td>19</td><td>29</td><td>W 4TH AVE / HIGHBURY ST</td><td>West Point Grey</td><td>486350</td><td>5457336</td><td>WINTER</td></tr>\n",
       "</tbody>\n",
       "</table>\n"
      ],
      "text/latex": [
       "A tibble: 6 × 11\n",
       "\\begin{tabular}{lllllllllll}\n",
       " TYPE & YEAR & MONTH & DAY & HOUR & MINUTE & HUNDRED\\_BLOCK & NEIGHBOURHOOD & X & Y & SEASON\\\\\n",
       " <chr> & <dbl> & <dbl> & <dbl> & <dbl> & <dbl> & <chr> & <chr> & <dbl> & <dbl> & <chr>\\\\\n",
       "\\hline\n",
       "\t Collision & 2017 &  8 &  6 &  9 & 18 & 42XX BLOCK W 4TH AVE    & West Point Grey & 485442 & 5457333 & SUMMER\\\\\n",
       "\t Collision & 2021 & 10 & 10 & 23 & 25 & 42XX NAUTILUS CLS       & West Point Grey & 485300 & 5457357 & WINTER\\\\\n",
       "\t Collision & 2007 & 11 & 20 &  1 & 44 & 42XX W 4TH AVE          & West Point Grey & 485442 & 5457333 & WINTER\\\\\n",
       "\t Collision & 2020 &  9 & 28 & 17 &  9 & W 10TH AVE / SASAMAT ST & West Point Grey & 484785 & 5456806 & SUMMER\\\\\n",
       "\t Collision & 2019 &  5 & 23 & 14 & 22 & W 4TH AVE / BLANCA ST   & West Point Grey & 484359 & 5457394 & SUMMER\\\\\n",
       "\t Collision & 2003 &  3 & 20 & 19 & 29 & W 4TH AVE / HIGHBURY ST & West Point Grey & 486350 & 5457336 & WINTER\\\\\n",
       "\\end{tabular}\n"
      ],
      "text/markdown": [
       "\n",
       "A tibble: 6 × 11\n",
       "\n",
       "| TYPE &lt;chr&gt; | YEAR &lt;dbl&gt; | MONTH &lt;dbl&gt; | DAY &lt;dbl&gt; | HOUR &lt;dbl&gt; | MINUTE &lt;dbl&gt; | HUNDRED_BLOCK &lt;chr&gt; | NEIGHBOURHOOD &lt;chr&gt; | X &lt;dbl&gt; | Y &lt;dbl&gt; | SEASON &lt;chr&gt; |\n",
       "|---|---|---|---|---|---|---|---|---|---|---|\n",
       "| Collision | 2017 |  8 |  6 |  9 | 18 | 42XX BLOCK W 4TH AVE    | West Point Grey | 485442 | 5457333 | SUMMER |\n",
       "| Collision | 2021 | 10 | 10 | 23 | 25 | 42XX NAUTILUS CLS       | West Point Grey | 485300 | 5457357 | WINTER |\n",
       "| Collision | 2007 | 11 | 20 |  1 | 44 | 42XX W 4TH AVE          | West Point Grey | 485442 | 5457333 | WINTER |\n",
       "| Collision | 2020 |  9 | 28 | 17 |  9 | W 10TH AVE / SASAMAT ST | West Point Grey | 484785 | 5456806 | SUMMER |\n",
       "| Collision | 2019 |  5 | 23 | 14 | 22 | W 4TH AVE / BLANCA ST   | West Point Grey | 484359 | 5457394 | SUMMER |\n",
       "| Collision | 2003 |  3 | 20 | 19 | 29 | W 4TH AVE / HIGHBURY ST | West Point Grey | 486350 | 5457336 | WINTER |\n",
       "\n"
      ],
      "text/plain": [
       "  TYPE      YEAR MONTH DAY HOUR MINUTE HUNDRED_BLOCK           NEIGHBOURHOOD  \n",
       "1 Collision 2017  8     6   9   18     42XX BLOCK W 4TH AVE    West Point Grey\n",
       "2 Collision 2021 10    10  23   25     42XX NAUTILUS CLS       West Point Grey\n",
       "3 Collision 2007 11    20   1   44     42XX W 4TH AVE          West Point Grey\n",
       "4 Collision 2020  9    28  17    9     W 10TH AVE / SASAMAT ST West Point Grey\n",
       "5 Collision 2019  5    23  14   22     W 4TH AVE / BLANCA ST   West Point Grey\n",
       "6 Collision 2003  3    20  19   29     W 4TH AVE / HIGHBURY ST West Point Grey\n",
       "  X      Y       SEASON\n",
       "1 485442 5457333 SUMMER\n",
       "2 485300 5457357 WINTER\n",
       "3 485442 5457333 WINTER\n",
       "4 484785 5456806 SUMMER\n",
       "5 484359 5457394 SUMMER\n",
       "6 486350 5457336 WINTER"
      ]
     },
     "metadata": {},
     "output_type": "display_data"
    },
    {
     "name": "stderr",
     "output_type": "stream",
     "text": [
      "Warning message:\n",
      "“You have given `type = \"bootstrap\"`, but `type` is expected to be `\"simulate\"`. This workflow is untested and the results may not mean what you think they mean.”\n"
     ]
    },
    {
     "data": {
      "text/html": [
       "<table class=\"dataframe\">\n",
       "<caption>A tibble: 6 × 2</caption>\n",
       "<thead>\n",
       "\t<tr><th scope=col>replicate</th><th scope=col>stat</th></tr>\n",
       "\t<tr><th scope=col>&lt;int&gt;</th><th scope=col>&lt;dbl&gt;</th></tr>\n",
       "</thead>\n",
       "<tbody>\n",
       "\t<tr><td>1</td><td>0.6067708</td></tr>\n",
       "\t<tr><td>2</td><td>0.6119792</td></tr>\n",
       "\t<tr><td>3</td><td>0.5859375</td></tr>\n",
       "\t<tr><td>4</td><td>0.5546875</td></tr>\n",
       "\t<tr><td>5</td><td>0.5729167</td></tr>\n",
       "\t<tr><td>6</td><td>0.5807292</td></tr>\n",
       "</tbody>\n",
       "</table>\n"
      ],
      "text/latex": [
       "A tibble: 6 × 2\n",
       "\\begin{tabular}{ll}\n",
       " replicate & stat\\\\\n",
       " <int> & <dbl>\\\\\n",
       "\\hline\n",
       "\t 1 & 0.6067708\\\\\n",
       "\t 2 & 0.6119792\\\\\n",
       "\t 3 & 0.5859375\\\\\n",
       "\t 4 & 0.5546875\\\\\n",
       "\t 5 & 0.5729167\\\\\n",
       "\t 6 & 0.5807292\\\\\n",
       "\\end{tabular}\n"
      ],
      "text/markdown": [
       "\n",
       "A tibble: 6 × 2\n",
       "\n",
       "| replicate &lt;int&gt; | stat &lt;dbl&gt; |\n",
       "|---|---|\n",
       "| 1 | 0.6067708 |\n",
       "| 2 | 0.6119792 |\n",
       "| 3 | 0.5859375 |\n",
       "| 4 | 0.5546875 |\n",
       "| 5 | 0.5729167 |\n",
       "| 6 | 0.5807292 |\n",
       "\n"
      ],
      "text/plain": [
       "  replicate stat     \n",
       "1 1         0.6067708\n",
       "2 2         0.6119792\n",
       "3 3         0.5859375\n",
       "4 4         0.5546875\n",
       "5 5         0.5729167\n",
       "6 6         0.5807292"
      ]
     },
     "metadata": {},
     "output_type": "display_data"
    },
    {
     "data": {
      "text/html": [
       "0.583333333333333"
      ],
      "text/latex": [
       "0.583333333333333"
      ],
      "text/markdown": [
       "0.583333333333333"
      ],
      "text/plain": [
       "[1] 0.5833333"
      ]
     },
     "metadata": {},
     "output_type": "display_data"
    },
    {
     "data": {
      "text/html": [
       "<table class=\"dataframe\">\n",
       "<caption>A tibble: 1 × 1</caption>\n",
       "<thead>\n",
       "\t<tr><th scope=col>p_value</th></tr>\n",
       "\t<tr><th scope=col>&lt;dbl&gt;</th></tr>\n",
       "</thead>\n",
       "<tbody>\n",
       "\t<tr><td>0.96</td></tr>\n",
       "</tbody>\n",
       "</table>\n"
      ],
      "text/latex": [
       "A tibble: 1 × 1\n",
       "\\begin{tabular}{l}\n",
       " p\\_value\\\\\n",
       " <dbl>\\\\\n",
       "\\hline\n",
       "\t 0.96\\\\\n",
       "\\end{tabular}\n"
      ],
      "text/markdown": [
       "\n",
       "A tibble: 1 × 1\n",
       "\n",
       "| p_value &lt;dbl&gt; |\n",
       "|---|\n",
       "| 0.96 |\n",
       "\n"
      ],
      "text/plain": [
       "  p_value\n",
       "1 0.96   "
      ]
     },
     "metadata": {},
     "output_type": "display_data"
    },
    {
     "data": {
      "image/png": "[encoded data removed]",
      "text/plain": [
       "plot without title"
      ]
     },
     "metadata": {
      "image/png": {
       "height": 420,
       "width": 420
      }
     },
     "output_type": "display_data"
    }
   ],
   "source": [
    "collisions_by_season <- crimes %>%\n",
    "                        mutate(SEASON = ifelse(MONTH %in% 4:9, \"SUMMER\", \"WINTER\")) %>%\n",
    "                        mutate(TYPE = ifelse(TYPE == \"Vehicle Collision or Pedestrian Struck (with Injury)\" | TYPE == \"Vehicle Collision or Pedestrian Struck (with Fatality)\", \"Collision\", \"Non-collision\")) %>%\n",
    "                        filter(TYPE == \"Collision\")\n",
    "        \n",
    "head(collisions_by_season)\n",
    "\n",
    "collisions_null <- collisions_by_season %>%\n",
    "    specify(response = SEASON, success = \"SUMMER\") %>% \n",
    "    hypothesize(null = \"point\", p = 0.5) %>% \n",
    "    generate(reps = 100, type = \"bootstrap\") %>% \n",
    "    calculate(stat = \"prop\")\n",
    "head(collisions_null)\n",
    "\n",
    "obs_prop <- collisions_by_season %>%\n",
    "    specify(response = SEASON, success = \"SUMMER\") %>%\n",
    "    calculate(stat = \"prop\") %>%\n",
    "    pull()\n",
    "obs_prop\n",
    "\n",
    "p_value <- collisions_null %>%\n",
    "        get_p_value(obs_stat = obs_prop, direction = \"both\")\n",
    "p_value\n",
    "\n",
    "collisions_result_plot <- collisions_null %>%\n",
    "    visualize(bins = 10) +\n",
    "    shade_p_value(obs_stat = obs_prop, direction = \"both\")\n",
    "collisions_result_plot"
   ]
  },
  {
   "cell_type": "markdown",
   "id": "53e85025-6da1-4904-b6b7-001aaf71ae8e",
   "metadata": {},
   "source": [
    "## Methods: Plan\n",
    "So far the advantages of our report are that it contains data from a credible source and that we have done a rough prelimnary analysis by computing the sample proportions of accidents that occur in each of the two seasons from our sample neighbourhood. However, the analysis done so far is only based on one sample from our chosen neighbourhood, which would make it hard for us to generalize our results to our population of all car accidents in Vancouver.\n",
    "\n",
    "To address this problem, the following steps will be taken to generalize our findings to our population: \n",
    "- First, the original crimes data set is altered using mutate along with if-else.\n",
    "\n",
    "- A new column SEASON is added which has values “SUMMER”, for months April to September (4:9), and “WINTER”, for months October to March (1:3, and 10:12). \n",
    "\n",
    "- The values of the TYPE column are also changed to either “Collision” for a vehicular collision-based crime and “Non-collision” for any other type of crime.\n",
    "\n",
    "- We then go onto find the observed test statistic value from our altered data set which is the difference between the proportion of accidents in summer and winter months and use pull() to get a numeric value.\n",
    "\n",
    "- The hypothesis testing is done based on the following: \n",
    "                               NULL HYPOTHESIS \n",
    "H0: The proportion of accidents in summer and winter months is the same\n",
    "                                              vs \n",
    "                             ALTERNATE HYPOTHESIS\n",
    "HA: The proportion of accidents in summer and winter months is not the same\n",
    "\n",
    "- For the Null hypothesis we use infer package workflow and specify our variables of interest: TYPE and SEASON with success argument set to “Collision”. We then assume the null hypothesis is true and generate a resampling distribution of type “permute”. Finally, we calculate the difference in proportion of accidents between the summer and winter months and go on to find the corresponding p-value. \n",
    " \n",
    "- To create the corresponding bootstrap distribution needed to construct a 95% confidence interval for the difference in proportion between summer and winter accidents, we make two changes. We remove the hypothesize() step from the infer package workflow as we no longer assume the null hypothesis is true. We also switch the type of resampling from “permute” to “bootstrap”. From this bootstrapped distribution we go on to find the confidence intervals and continue with the final steps of our testing.\n",
    "\n",
    "\n",
    "Ultimately, we expect to find a relationship between the time of year and the occurrence of car accidents in Vancouver. We hope that if the said relationship is significant, it can help raise awareness to driving hazards at a particular time of year. We also hope our findings can give rise to possible future investigations on third variables related to seasonal changes that are possibly influencing our relationship of interest."
   ]
  },
  {
   "cell_type": "markdown",
   "id": "8a558032-271e-4ee0-8c30-ab27a11012e6",
   "metadata": {},
   "source": [
    "## References"
   ]
  },
  {
   "cell_type": "markdown",
   "id": "ce9f084c-cbf0-49f2-a89d-194c5669b9c5",
   "metadata": {},
   "source": [
    "International Overview. (2021, May 06). Retrieved from\n",
    "    https://injuryfacts.nsc.org/international/international-overview/#:~:text=Motor-vehicle injuries are the,the world,\n",
    "    with 84,000 fatalities.\n",
    "\n",
    "Transport Canada. (2021, June 11). Canadian Motor Vehicle Traffic Collision Statistics: 2019. Retrieved from\n",
    "    https://tc.canada.ca/en/road-transportation/statistics-data/canadian-motor-vehicle-traffic-collision-statistics-2019\n"
   ]
  },
  {
   "cell_type": "code",
   "execution_count": null,
   "id": "2245f35b-95b1-4380-bbb8-28c76d1786fa",
   "metadata": {},
   "outputs": [],
   "source": []
  }
 ],
 "metadata": {
  "kernelspec": {
   "display_name": "R",
   "language": "R",
   "name": "ir"
  },
  "language_info": {
   "codemirror_mode": "r",
   "file_extension": ".r",
   "mimetype": "text/x-r-source",
   "name": "R",
   "pygments_lexer": "r",
   "version": "4.0.5"
  }
 },
 "nbformat": 4,
 "nbformat_minor": 5
}
