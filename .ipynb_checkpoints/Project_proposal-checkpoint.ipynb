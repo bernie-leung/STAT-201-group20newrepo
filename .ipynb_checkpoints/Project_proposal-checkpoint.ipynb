{
 "cells": [
  {
   "cell_type": "code",
   "execution_count": 37,
   "id": "1ace8c93",
   "metadata": {},
   "outputs": [],
   "source": [
    "# First, we will load required packages\n",
    "library(tidyverse)\n",
    "library(repr)\n",
    "library(readxl)\n",
    "library(infer)\n",
    "library(knitr)"
   ]
  },
  {
   "cell_type": "markdown",
   "id": "74542e07",
   "metadata": {
    "tags": []
   },
   "source": [
    "## Introduction\n",
    "\n",
    "Car accidents have been among the leading causes of injuries and deaths around the world, leading all causes of preventable deaths globally in 2019 at nearly 1.3 million. (“International Overview,” n.d.). Furthermore, according to Transport Canada, environmental factors have consistently made up around or over 20% of all causes of car accidents in the country from 2015 to 2019 (Transport Canada, 2021). This project aims to investigate the relationship between the time and season-related changes and the occurrence of car accidents in Vancouver.\n",
    "\n",
    "Taken from the Vancouver Police Department website, our dataset originally includes all crimes that occurred in the West Point Grey neighbourhood from 2003 to 2022 with relevant information recorded in separate variable columns (the headers of each column are shown in the parentheses):\n",
    "- Type of crime (TYPE)\n",
    "- Year of occurrence (YEAR)\n",
    "- Month of occurrence (MONTH)\n",
    "- Day of occurrence (DAY)\n",
    "- Hour of occurrence (HOUR)\n",
    "- Minute of occurrence (MINUTE)\n",
    "- Hundred block of location (HUNDRED_BLOCK)\n",
    "- Neighbourhood of location (NEIGHBOURHOOD)\n",
    "- X-coordinate of location (X)\n",
    "- Y-coordinate of location (Y)\n",
    "Of all crimes, our crime types of interest are “Vehicle Collision or Pedestrian Struck (with Fatality)” and “Vehicle Collision or Pedestrian Struck (with Injury)”. The rest of the crimes will be filtered out.\n",
    "\n",
    "Our inferential question will be to estimate the difference in proportions of car accidents that happen in the summer (which we classify as April to September) and winter (which we classify as October to March) and the difference in proportions of those that happen during daytime (which we classify as 6 am to 5:59 pm) and nightime (which we classify as 6 pm to 5:59 am)in Vancouver from 2003 to 2022, using the West Point Grey neighbourhood as a sample. We will then examine the difference in the two proportions to help us reach a possible conclusion.\n",
    "\n"
   ]
  },
  {
   "cell_type": "markdown",
   "id": "f18a502b",
   "metadata": {},
   "source": [
    "## Preliminary Exploratory Data Analysis"
   ]
  },
  {
   "cell_type": "code",
   "execution_count": 38,
   "id": "1434237c",
   "metadata": {},
   "outputs": [
    {
     "name": "stderr",
     "output_type": "stream",
     "text": [
      "\u001b[1mRows: \u001b[22m\u001b[34m9247\u001b[39m \u001b[1mColumns: \u001b[22m\u001b[34m10\u001b[39m\n",
      "\u001b[36m──\u001b[39m \u001b[1mColumn specification\u001b[22m \u001b[36m────────────────────────────────────────────────────────\u001b[39m\n",
      "\u001b[1mDelimiter:\u001b[22m \",\"\n",
      "\u001b[31mchr\u001b[39m (3): TYPE, HUNDRED_BLOCK, NEIGHBOURHOOD\n",
      "\u001b[32mdbl\u001b[39m (7): YEAR, MONTH, DAY, HOUR, MINUTE, X, Y\n",
      "\n",
      "\u001b[36mℹ\u001b[39m Use `spec()` to retrieve the full column specification for this data.\n",
      "\u001b[36mℹ\u001b[39m Specify the column types or set `show_col_types = FALSE` to quiet this message.\n"
     ]
    },
    {
     "data": {
      "text/html": [
       "<table class=\"dataframe\">\n",
       "<caption>A tibble: 6 × 10</caption>\n",
       "<thead>\n",
       "\t<tr><th scope=col>TYPE</th><th scope=col>YEAR</th><th scope=col>MONTH</th><th scope=col>DAY</th><th scope=col>HOUR</th><th scope=col>MINUTE</th><th scope=col>HUNDRED_BLOCK</th><th scope=col>NEIGHBOURHOOD</th><th scope=col>X</th><th scope=col>Y</th></tr>\n",
       "\t<tr><th scope=col>&lt;chr&gt;</th><th scope=col>&lt;dbl&gt;</th><th scope=col>&lt;dbl&gt;</th><th scope=col>&lt;dbl&gt;</th><th scope=col>&lt;dbl&gt;</th><th scope=col>&lt;dbl&gt;</th><th scope=col>&lt;chr&gt;</th><th scope=col>&lt;chr&gt;</th><th scope=col>&lt;dbl&gt;</th><th scope=col>&lt;dbl&gt;</th></tr>\n",
       "</thead>\n",
       "<tbody>\n",
       "\t<tr><td>Break and Enter Commercial</td><td>2022</td><td> 6</td><td> 5</td><td>10</td><td> 0</td><td>13XX DISCOVERY ST</td><td>West Point Grey</td><td>485246.9</td><td>5458027</td></tr>\n",
       "\t<tr><td>Break and Enter Commercial</td><td>2004</td><td> 6</td><td>30</td><td> 0</td><td> 1</td><td>13XX DISCOVERY ST</td><td>West Point Grey</td><td>485255.4</td><td>5458013</td></tr>\n",
       "\t<tr><td>Break and Enter Commercial</td><td>2009</td><td> 5</td><td> 9</td><td>15</td><td>30</td><td>13XX DISCOVERY ST</td><td>West Point Grey</td><td>485255.4</td><td>5458013</td></tr>\n",
       "\t<tr><td>Break and Enter Commercial</td><td>2009</td><td> 8</td><td>22</td><td>20</td><td>30</td><td>13XX DISCOVERY ST</td><td>West Point Grey</td><td>485255.4</td><td>5458013</td></tr>\n",
       "\t<tr><td>Break and Enter Commercial</td><td>2009</td><td>11</td><td> 1</td><td>12</td><td> 0</td><td>13XX DISCOVERY ST</td><td>West Point Grey</td><td>485255.4</td><td>5458013</td></tr>\n",
       "\t<tr><td>Break and Enter Commercial</td><td>2011</td><td> 3</td><td>31</td><td>12</td><td> 0</td><td>13XX DISCOVERY ST</td><td>West Point Grey</td><td>485255.4</td><td>5458013</td></tr>\n",
       "</tbody>\n",
       "</table>\n"
      ],
      "text/latex": [
       "A tibble: 6 × 10\n",
       "\\begin{tabular}{llllllllll}\n",
       " TYPE & YEAR & MONTH & DAY & HOUR & MINUTE & HUNDRED\\_BLOCK & NEIGHBOURHOOD & X & Y\\\\\n",
       " <chr> & <dbl> & <dbl> & <dbl> & <dbl> & <dbl> & <chr> & <chr> & <dbl> & <dbl>\\\\\n",
       "\\hline\n",
       "\t Break and Enter Commercial & 2022 &  6 &  5 & 10 &  0 & 13XX DISCOVERY ST & West Point Grey & 485246.9 & 5458027\\\\\n",
       "\t Break and Enter Commercial & 2004 &  6 & 30 &  0 &  1 & 13XX DISCOVERY ST & West Point Grey & 485255.4 & 5458013\\\\\n",
       "\t Break and Enter Commercial & 2009 &  5 &  9 & 15 & 30 & 13XX DISCOVERY ST & West Point Grey & 485255.4 & 5458013\\\\\n",
       "\t Break and Enter Commercial & 2009 &  8 & 22 & 20 & 30 & 13XX DISCOVERY ST & West Point Grey & 485255.4 & 5458013\\\\\n",
       "\t Break and Enter Commercial & 2009 & 11 &  1 & 12 &  0 & 13XX DISCOVERY ST & West Point Grey & 485255.4 & 5458013\\\\\n",
       "\t Break and Enter Commercial & 2011 &  3 & 31 & 12 &  0 & 13XX DISCOVERY ST & West Point Grey & 485255.4 & 5458013\\\\\n",
       "\\end{tabular}\n"
      ],
      "text/markdown": [
       "\n",
       "A tibble: 6 × 10\n",
       "\n",
       "| TYPE &lt;chr&gt; | YEAR &lt;dbl&gt; | MONTH &lt;dbl&gt; | DAY &lt;dbl&gt; | HOUR &lt;dbl&gt; | MINUTE &lt;dbl&gt; | HUNDRED_BLOCK &lt;chr&gt; | NEIGHBOURHOOD &lt;chr&gt; | X &lt;dbl&gt; | Y &lt;dbl&gt; |\n",
       "|---|---|---|---|---|---|---|---|---|---|\n",
       "| Break and Enter Commercial | 2022 |  6 |  5 | 10 |  0 | 13XX DISCOVERY ST | West Point Grey | 485246.9 | 5458027 |\n",
       "| Break and Enter Commercial | 2004 |  6 | 30 |  0 |  1 | 13XX DISCOVERY ST | West Point Grey | 485255.4 | 5458013 |\n",
       "| Break and Enter Commercial | 2009 |  5 |  9 | 15 | 30 | 13XX DISCOVERY ST | West Point Grey | 485255.4 | 5458013 |\n",
       "| Break and Enter Commercial | 2009 |  8 | 22 | 20 | 30 | 13XX DISCOVERY ST | West Point Grey | 485255.4 | 5458013 |\n",
       "| Break and Enter Commercial | 2009 | 11 |  1 | 12 |  0 | 13XX DISCOVERY ST | West Point Grey | 485255.4 | 5458013 |\n",
       "| Break and Enter Commercial | 2011 |  3 | 31 | 12 |  0 | 13XX DISCOVERY ST | West Point Grey | 485255.4 | 5458013 |\n",
       "\n"
      ],
      "text/plain": [
       "  TYPE                       YEAR MONTH DAY HOUR MINUTE HUNDRED_BLOCK    \n",
       "1 Break and Enter Commercial 2022  6     5  10    0     13XX DISCOVERY ST\n",
       "2 Break and Enter Commercial 2004  6    30   0    1     13XX DISCOVERY ST\n",
       "3 Break and Enter Commercial 2009  5     9  15   30     13XX DISCOVERY ST\n",
       "4 Break and Enter Commercial 2009  8    22  20   30     13XX DISCOVERY ST\n",
       "5 Break and Enter Commercial 2009 11     1  12    0     13XX DISCOVERY ST\n",
       "6 Break and Enter Commercial 2011  3    31  12    0     13XX DISCOVERY ST\n",
       "  NEIGHBOURHOOD   X        Y      \n",
       "1 West Point Grey 485246.9 5458027\n",
       "2 West Point Grey 485255.4 5458013\n",
       "3 West Point Grey 485255.4 5458013\n",
       "4 West Point Grey 485255.4 5458013\n",
       "5 West Point Grey 485255.4 5458013\n",
       "6 West Point Grey 485255.4 5458013"
      ]
     },
     "metadata": {},
     "output_type": "display_data"
    }
   ],
   "source": [
    "# Data source: \n",
    "url <- \"https://raw.githubusercontent.com/bernie-leung/STAT-201-group20newrepo/main/crimedata_csv_West%20Point%20Grey_AllYears.csv?token=GHSAT0AAAAAABWZIEUMCDZNWHJBZOIGRVVYYW4QFGA\"\n",
    "\n",
    "# Read data source\n",
    "crimes <- read_csv(url)\n",
    "head(crimes)"
   ]
  },
  {
   "cell_type": "code",
   "execution_count": 39,
   "id": "715f8372",
   "metadata": {},
   "outputs": [
    {
     "data": {
      "text/html": [
       "<table class=\"dataframe\">\n",
       "<caption>A tibble: 6 × 10</caption>\n",
       "<thead>\n",
       "\t<tr><th scope=col>TYPE</th><th scope=col>YEAR</th><th scope=col>MONTH</th><th scope=col>DAY</th><th scope=col>HOUR</th><th scope=col>MINUTE</th><th scope=col>HUNDRED_BLOCK</th><th scope=col>NEIGHBOURHOOD</th><th scope=col>X</th><th scope=col>Y</th></tr>\n",
       "\t<tr><th scope=col>&lt;chr&gt;</th><th scope=col>&lt;dbl&gt;</th><th scope=col>&lt;fct&gt;</th><th scope=col>&lt;dbl&gt;</th><th scope=col>&lt;dbl&gt;</th><th scope=col>&lt;dbl&gt;</th><th scope=col>&lt;chr&gt;</th><th scope=col>&lt;chr&gt;</th><th scope=col>&lt;dbl&gt;</th><th scope=col>&lt;dbl&gt;</th></tr>\n",
       "</thead>\n",
       "<tbody>\n",
       "\t<tr><td>Vehicle Collision or Pedestrian Struck (with Fatality)</td><td>2017</td><td>8 </td><td> 6</td><td> 9</td><td>18</td><td>42XX BLOCK W 4TH AVE   </td><td>West Point Grey</td><td>485442</td><td>5457333</td></tr>\n",
       "\t<tr><td>Vehicle Collision or Pedestrian Struck (with Fatality)</td><td>2021</td><td>10</td><td>10</td><td>23</td><td>25</td><td>42XX NAUTILUS CLS      </td><td>West Point Grey</td><td>485300</td><td>5457357</td></tr>\n",
       "\t<tr><td>Vehicle Collision or Pedestrian Struck (with Fatality)</td><td>2007</td><td>11</td><td>20</td><td> 1</td><td>44</td><td>42XX W 4TH AVE         </td><td>West Point Grey</td><td>485442</td><td>5457333</td></tr>\n",
       "\t<tr><td>Vehicle Collision or Pedestrian Struck (with Fatality)</td><td>2020</td><td>9 </td><td>28</td><td>17</td><td> 9</td><td>W 10TH AVE / SASAMAT ST</td><td>West Point Grey</td><td>484785</td><td>5456806</td></tr>\n",
       "\t<tr><td>Vehicle Collision or Pedestrian Struck (with Fatality)</td><td>2019</td><td>5 </td><td>23</td><td>14</td><td>22</td><td>W 4TH AVE / BLANCA ST  </td><td>West Point Grey</td><td>484359</td><td>5457394</td></tr>\n",
       "\t<tr><td>Vehicle Collision or Pedestrian Struck (with Fatality)</td><td>2003</td><td>3 </td><td>20</td><td>19</td><td>29</td><td>W 4TH AVE / HIGHBURY ST</td><td>West Point Grey</td><td>486350</td><td>5457336</td></tr>\n",
       "</tbody>\n",
       "</table>\n"
      ],
      "text/latex": [
       "A tibble: 6 × 10\n",
       "\\begin{tabular}{llllllllll}\n",
       " TYPE & YEAR & MONTH & DAY & HOUR & MINUTE & HUNDRED\\_BLOCK & NEIGHBOURHOOD & X & Y\\\\\n",
       " <chr> & <dbl> & <fct> & <dbl> & <dbl> & <dbl> & <chr> & <chr> & <dbl> & <dbl>\\\\\n",
       "\\hline\n",
       "\t Vehicle Collision or Pedestrian Struck (with Fatality) & 2017 & 8  &  6 &  9 & 18 & 42XX BLOCK W 4TH AVE    & West Point Grey & 485442 & 5457333\\\\\n",
       "\t Vehicle Collision or Pedestrian Struck (with Fatality) & 2021 & 10 & 10 & 23 & 25 & 42XX NAUTILUS CLS       & West Point Grey & 485300 & 5457357\\\\\n",
       "\t Vehicle Collision or Pedestrian Struck (with Fatality) & 2007 & 11 & 20 &  1 & 44 & 42XX W 4TH AVE          & West Point Grey & 485442 & 5457333\\\\\n",
       "\t Vehicle Collision or Pedestrian Struck (with Fatality) & 2020 & 9  & 28 & 17 &  9 & W 10TH AVE / SASAMAT ST & West Point Grey & 484785 & 5456806\\\\\n",
       "\t Vehicle Collision or Pedestrian Struck (with Fatality) & 2019 & 5  & 23 & 14 & 22 & W 4TH AVE / BLANCA ST   & West Point Grey & 484359 & 5457394\\\\\n",
       "\t Vehicle Collision or Pedestrian Struck (with Fatality) & 2003 & 3  & 20 & 19 & 29 & W 4TH AVE / HIGHBURY ST & West Point Grey & 486350 & 5457336\\\\\n",
       "\\end{tabular}\n"
      ],
      "text/markdown": [
       "\n",
       "A tibble: 6 × 10\n",
       "\n",
       "| TYPE &lt;chr&gt; | YEAR &lt;dbl&gt; | MONTH &lt;fct&gt; | DAY &lt;dbl&gt; | HOUR &lt;dbl&gt; | MINUTE &lt;dbl&gt; | HUNDRED_BLOCK &lt;chr&gt; | NEIGHBOURHOOD &lt;chr&gt; | X &lt;dbl&gt; | Y &lt;dbl&gt; |\n",
       "|---|---|---|---|---|---|---|---|---|---|\n",
       "| Vehicle Collision or Pedestrian Struck (with Fatality) | 2017 | 8  |  6 |  9 | 18 | 42XX BLOCK W 4TH AVE    | West Point Grey | 485442 | 5457333 |\n",
       "| Vehicle Collision or Pedestrian Struck (with Fatality) | 2021 | 10 | 10 | 23 | 25 | 42XX NAUTILUS CLS       | West Point Grey | 485300 | 5457357 |\n",
       "| Vehicle Collision or Pedestrian Struck (with Fatality) | 2007 | 11 | 20 |  1 | 44 | 42XX W 4TH AVE          | West Point Grey | 485442 | 5457333 |\n",
       "| Vehicle Collision or Pedestrian Struck (with Fatality) | 2020 | 9  | 28 | 17 |  9 | W 10TH AVE / SASAMAT ST | West Point Grey | 484785 | 5456806 |\n",
       "| Vehicle Collision or Pedestrian Struck (with Fatality) | 2019 | 5  | 23 | 14 | 22 | W 4TH AVE / BLANCA ST   | West Point Grey | 484359 | 5457394 |\n",
       "| Vehicle Collision or Pedestrian Struck (with Fatality) | 2003 | 3  | 20 | 19 | 29 | W 4TH AVE / HIGHBURY ST | West Point Grey | 486350 | 5457336 |\n",
       "\n"
      ],
      "text/plain": [
       "  TYPE                                                   YEAR MONTH DAY HOUR\n",
       "1 Vehicle Collision or Pedestrian Struck (with Fatality) 2017 8      6   9  \n",
       "2 Vehicle Collision or Pedestrian Struck (with Fatality) 2021 10    10  23  \n",
       "3 Vehicle Collision or Pedestrian Struck (with Fatality) 2007 11    20   1  \n",
       "4 Vehicle Collision or Pedestrian Struck (with Fatality) 2020 9     28  17  \n",
       "5 Vehicle Collision or Pedestrian Struck (with Fatality) 2019 5     23  14  \n",
       "6 Vehicle Collision or Pedestrian Struck (with Fatality) 2003 3     20  19  \n",
       "  MINUTE HUNDRED_BLOCK           NEIGHBOURHOOD   X      Y      \n",
       "1 18     42XX BLOCK W 4TH AVE    West Point Grey 485442 5457333\n",
       "2 25     42XX NAUTILUS CLS       West Point Grey 485300 5457357\n",
       "3 44     42XX W 4TH AVE          West Point Grey 485442 5457333\n",
       "4  9     W 10TH AVE / SASAMAT ST West Point Grey 484785 5456806\n",
       "5 22     W 4TH AVE / BLANCA ST   West Point Grey 484359 5457394\n",
       "6 29     W 4TH AVE / HIGHBURY ST West Point Grey 486350 5457336"
      ]
     },
     "metadata": {},
     "output_type": "display_data"
    }
   ],
   "source": [
    "# created a data frame contraining only the crime types of interest \n",
    "collisions <- crimes %>%\n",
    "    filter(TYPE == \"Vehicle Collision or Pedestrian Struck (with Fatality)\" | TYPE == \"Vehicle Collision or Pedestrian Struck (with Injury)\") %>%\n",
    "    mutate(MONTH = as_factor(MONTH))\n",
    "    \n",
    "head(collisions)"
   ]
  },
  {
   "cell_type": "code",
   "execution_count": 40,
   "id": "3f17a743",
   "metadata": {},
   "outputs": [
    {
     "data": {
      "text/plain": [
       "\n",
       "\n",
       "Table: Number of observations for each month\n",
       "\n",
       "|MONTH | count|\n",
       "|:-----|-----:|\n",
       "|1     |    27|\n",
       "|2     |    21|\n",
       "|3     |    28|\n",
       "|4     |    33|\n",
       "|5     |    41|\n",
       "|6     |    32|\n",
       "|7     |    42|\n",
       "|8     |    38|\n",
       "|9     |    38|\n",
       "|10    |    37|\n",
       "|11    |    27|\n",
       "|12    |    20|"
      ]
     },
     "metadata": {},
     "output_type": "display_data"
    }
   ],
   "source": [
    "# data frame that has been grouped by month and Number of observations for each month\n",
    "\n",
    "collisions_by_month <- collisions %>%\n",
    "    group_by(MONTH) %>%\n",
    "    summarise(count = sum(MONTH == MONTH))\n",
    "\n",
    "# Table: how many observations for each month\n",
    "\n",
    "kable(collisions_by_month, caption = \"Number of observations for each month\")\n"
   ]
  },
  {
   "cell_type": "code",
   "execution_count": 41,
   "id": "221726d4",
   "metadata": {},
   "outputs": [
    {
     "data": {
      "image/png": "[encoded data removed]",
      "text/plain": [
       "plot without title"
      ]
     },
     "metadata": {
      "image/png": {
       "height": 420,
       "width": 420
      }
     },
     "output_type": "display_data"
    }
   ],
   "source": [
    "# visualize the oberservation \n",
    "collisions_graph <- collisions_by_month %>%\n",
    "    ggplot(aes(x = MONTH, y = count)) +\n",
    "    geom_bar(stat = \"Identity\") +\n",
    "    labs(x = \"Month\", y = \"Number of collision\") +\n",
    "    ggtitle(\"Figure 1. Collisions in West Point Grey from 2003 to 2022 by Month\")\n",
    "\n",
    "collisions_graph"
   ]
  },
  {
   "cell_type": "markdown",
   "id": "3e83a439",
   "metadata": {},
   "source": [
    "As we can see from the graph, there are more number of collisions that happen in the summer (which we classify as April to September) than that happen in the winter (October to March) in West Point Grey neighbourhood from 2003 to 2022."
   ]
  },
  {
   "cell_type": "code",
   "execution_count": 61,
   "id": "535bb722-3545-458f-a2a1-67d4bc0fbf48",
   "metadata": {},
   "outputs": [
    {
     "data": {
      "text/plain": [
       "\n",
       "\n",
       "Table: Number of observations for each hour\n",
       "\n",
       "| HOUR| count|\n",
       "|----:|-----:|\n",
       "|    0|     7|\n",
       "|    1|     8|\n",
       "|    2|     5|\n",
       "|    3|     1|\n",
       "|    4|     1|\n",
       "|    5|     5|\n",
       "|    6|     3|\n",
       "|    7|    13|\n",
       "|    8|    20|\n",
       "|    9|    19|\n",
       "|   10|    16|\n",
       "|   11|    15|\n",
       "|   12|    22|\n",
       "|   13|     9|\n",
       "|   14|    23|\n",
       "|   15|    35|\n",
       "|   16|    33|\n",
       "|   17|    38|\n",
       "|   18|    36|\n",
       "|   19|    23|\n",
       "|   20|    25|\n",
       "|   21|    14|\n",
       "|   22|    10|\n",
       "|   23|     3|"
      ]
     },
     "metadata": {},
     "output_type": "display_data"
    }
   ],
   "source": [
    "# data frame that has been grouped by hour and Number of observations for each type of crime\n",
    "collisions_by_hour <- collisions %>%\n",
    "    group_by(HOUR) %>%\n",
    "    summarise(count = sum(HOUR == HOUR))\n",
    "\n",
    "# Table: how many observations for each hour\n",
    "kable(collisions_by_hour, caption = \"Number of observations for each hour\")"
   ]
  },
  {
   "cell_type": "code",
   "execution_count": 62,
   "id": "2f03e0d1-08a2-4dee-9b3e-679399e6c953",
   "metadata": {},
   "outputs": [
    {
     "data": {
      "image/png": "[encoded data removed]",
      "text/plain": [
       "plot without title"
      ]
     },
     "metadata": {
      "image/png": {
       "height": 420,
       "width": 420
      }
     },
     "output_type": "display_data"
    }
   ],
   "source": [
    "# visualize the observation \n",
    "collisions_graphs <- collisions_by_hour %>%\n",
    "    ggplot(aes(x = HOUR, y = count)) +\n",
    "    geom_bar(stat = \"Identity\") +\n",
    "    labs(x = \"Hour of day\", y = \"Number of collision\") +\n",
    "    ggtitle(\"Figure 2. Collisions in West Point Grey from 2003 to 2022 by hour of day\")\n",
    "collisions_graphs"
   ]
  },
  {
   "cell_type": "markdown",
   "id": "634bf99a",
   "metadata": {},
   "source": [
    "## Preliminary Results"
   ]
  },
  {
   "cell_type": "code",
   "execution_count": 44,
   "id": "be6e4aee",
   "metadata": {},
   "outputs": [
    {
     "data": {
      "text/html": [
       "0.55"
      ],
      "text/latex": [
       "0.55"
      ],
      "text/markdown": [
       "0.55"
      ],
      "text/plain": [
       "[1] 0.55"
      ]
     },
     "metadata": {},
     "output_type": "display_data"
    }
   ],
   "source": [
    "## draw a sample from the population to calculate the point estimate: sample proportion\n",
    "set.seed(11)\n",
    "sample_prop_summer <- crimes %>%\n",
    "    filter(TYPE == \"Vehicle Collision or Pedestrian Struck (with Fatality)\" | TYPE == \"Vehicle Collision or Pedestrian Struck (with Injury)\") %>% \n",
    "    rep_sample_n(size = 100) %>% \n",
    "    filter(MONTH == 4| MONTH == 5| MONTH == 6| MONTH == 7| MONTH == 8| MONTH == 9) %>%\n",
    "    nrow()/100\n",
    "\n",
    "sample_prop_summer"
   ]
  },
  {
   "cell_type": "markdown",
   "id": "077ec9b1",
   "metadata": {},
   "source": [
    "This is the sample proportion of Vehicle collision in West Point Grey neighbourhood during summer."
   ]
  },
  {
   "cell_type": "code",
   "execution_count": 45,
   "id": "8bb6ee43",
   "metadata": {},
   "outputs": [
    {
     "data": {
      "text/html": [
       "0.45"
      ],
      "text/latex": [
       "0.45"
      ],
      "text/markdown": [
       "0.45"
      ],
      "text/plain": [
       "[1] 0.45"
      ]
     },
     "metadata": {},
     "output_type": "display_data"
    }
   ],
   "source": [
    "set.seed(12)\n",
    "sample_prop_winter <- crimes %>%\n",
    "    filter(TYPE == \"Vehicle Collision or Pedestrian Struck (with Fatality)\" | TYPE == \"Vehicle Collision or Pedestrian Struck (with Injury)\") %>%\n",
    "    rep_sample_n(size = 100) %>%\n",
    "    filter(MONTH == 10| MONTH == 11| MONTH == 12| MONTH == 1| MONTH == 2| MONTH == 3) %>% \n",
    "    nrow()/100\n",
    "\n",
    "sample_prop_winter"
   ]
  },
  {
   "cell_type": "markdown",
   "id": "31461f44",
   "metadata": {},
   "source": [
    "This is the sample proportion of Vehicle collision in West Point Grey neighbourhood during winter."
   ]
  },
  {
   "cell_type": "code",
   "execution_count": 46,
   "id": "2846712c",
   "metadata": {},
   "outputs": [
    {
     "data": {
      "text/html": [
       "0.1"
      ],
      "text/latex": [
       "0.1"
      ],
      "text/markdown": [
       "0.1"
      ],
      "text/plain": [
       "[1] 0.1"
      ]
     },
     "metadata": {},
     "output_type": "display_data"
    }
   ],
   "source": [
    "diff_sample_props <- sample_prop_summer - sample_prop_winter\n",
    "diff_sample_props"
   ]
  },
  {
   "cell_type": "markdown",
   "id": "d87ed6e8",
   "metadata": {},
   "source": [
    "0.1 is the difference of the sample proportions between summer and winter."
   ]
  },
  {
   "cell_type": "code",
   "execution_count": 47,
   "id": "59aed5e4",
   "metadata": {},
   "outputs": [
    {
     "data": {
      "text/plain": [
       "            Summer sample prop   Winter sample prop   Difference in props \n",
       "proportion                 0.55                 0.45                  0.10"
      ]
     },
     "metadata": {},
     "output_type": "display_data"
    }
   ],
   "source": [
    "## create a table to present the sample proportions\n",
    "\n",
    "tab_prop <- matrix(c(0.55, 0.45, 0.1), ncol=3, byrow=TRUE)\n",
    "colnames(tab_prop) <- c(\" Summer sample prop \", \" Winter sample prop \", \" Difference in props \")\n",
    "rownames(tab_prop) <- c(\"proportion\")\n",
    "tab_prop <- as.table(tab_prop)\n",
    "tab_prop\n"
   ]
  },
  {
   "cell_type": "markdown",
   "id": "f200c8c9",
   "metadata": {},
   "source": [
    "This table shows the sample proportions in summer and winter and their difference."
   ]
  },
  {
   "cell_type": "code",
   "execution_count": 48,
   "id": "82f33c79-d695-4d8e-b36d-5e92df85a7d7",
   "metadata": {},
   "outputs": [
    {
     "data": {
      "text/html": [
       "0.64"
      ],
      "text/latex": [
       "0.64"
      ],
      "text/markdown": [
       "0.64"
      ],
      "text/plain": [
       "[1] 0.64"
      ]
     },
     "metadata": {},
     "output_type": "display_data"
    }
   ],
   "source": [
    "set.seed(10)\n",
    "sample_prop_day <- crimes %>%\n",
    "    filter(TYPE == \"Vehicle Collision or Pedestrian Struck (with Fatality)\" | TYPE == \"Vehicle Collision or Pedestrian Struck (with Injury)\") %>% \n",
    "    rep_sample_n(size = 100) %>% \n",
    "    filter(HOUR == 6| HOUR == 7| HOUR == 8| HOUR == 9| HOUR == 10| HOUR == 11 | HOUR == 12| HOUR == 13| HOUR == 14| HOUR == 15| HOUR == 16| HOUR == 17) %>%\n",
    "    nrow()/100\n",
    "\n",
    "sample_prop_day"
   ]
  },
  {
   "cell_type": "markdown",
   "id": "790b0c36-c63b-4a86-9fc7-445944629965",
   "metadata": {},
   "source": [
    "This is the sample proportion of Vehicle collision in West Point Grey neighbourhood during daytime."
   ]
  },
  {
   "cell_type": "code",
   "execution_count": 49,
   "id": "8288ece1-01e0-43b8-a501-3d91a3c66f8b",
   "metadata": {},
   "outputs": [
    {
     "data": {
      "text/html": [
       "0.36"
      ],
      "text/latex": [
       "0.36"
      ],
      "text/markdown": [
       "0.36"
      ],
      "text/plain": [
       "[1] 0.36"
      ]
     },
     "metadata": {},
     "output_type": "display_data"
    }
   ],
   "source": [
    "set.seed(10)\n",
    "sample_prop_night <- crimes %>%\n",
    "    filter(TYPE == \"Vehicle Collision or Pedestrian Struck (with Fatality)\" | TYPE == \"Vehicle Collision or Pedestrian Struck (with Injury)\") %>% \n",
    "    rep_sample_n(size = 100) %>% \n",
    "    filter(HOUR == 18| HOUR == 19| HOUR == 20| HOUR == 21| HOUR == 22| HOUR == 23 | HOUR == 0| HOUR == 1| HOUR == 2| HOUR == 3| HOUR == 4| HOUR == 5) %>%\n",
    "    nrow()/100\n",
    "\n",
    "sample_prop_night"
   ]
  },
  {
   "cell_type": "markdown",
   "id": "fb366161-1580-428e-904a-125ca1109c04",
   "metadata": {},
   "source": [
    "This is the sample proportion of Vehicle collision in West Point Grey neighbourhood during nighttime."
   ]
  },
  {
   "cell_type": "code",
   "execution_count": 50,
   "id": "d636481d-94ad-4cbf-8518-da0711de1db9",
   "metadata": {},
   "outputs": [
    {
     "data": {
      "text/html": [
       "0.28"
      ],
      "text/latex": [
       "0.28"
      ],
      "text/markdown": [
       "0.28"
      ],
      "text/plain": [
       "[1] 0.28"
      ]
     },
     "metadata": {},
     "output_type": "display_data"
    }
   ],
   "source": [
    "diff_sample_props_time_of_day <- sample_prop_day - sample_prop_night\n",
    "diff_sample_props_time_of_day"
   ]
  },
  {
   "cell_type": "markdown",
   "id": "669af9ad-9d9f-4a03-a8b5-ec5dcb81595a",
   "metadata": {},
   "source": [
    "0.28 is the difference of the sample proportions between daytime and nighttime."
   ]
  },
  {
   "cell_type": "code",
   "execution_count": 51,
   "id": "363eb2f8-98b7-43a3-9291-f614d2e4126f",
   "metadata": {},
   "outputs": [
    {
     "data": {
      "text/plain": [
       "            Daytime sample prop   Nighttime sample prop   Difference in props \n",
       "proportion                  0.64                    0.36                  0.28"
      ]
     },
     "metadata": {},
     "output_type": "display_data"
    }
   ],
   "source": [
    "tab_prop <- matrix(c(0.64, 0.36, 0.28), ncol=3, byrow=TRUE)\n",
    "colnames(tab_prop) <- c(\" Daytime sample prop \", \" Nighttime sample prop \", \" Difference in props \")\n",
    "rownames(tab_prop) <- c(\"proportion\")\n",
    "tab_prop <- as.table(tab_prop)\n",
    "tab_prop"
   ]
  },
  {
   "cell_type": "markdown",
   "id": "e0d1361e-0733-41a2-aaaf-e9172a71b1a8",
   "metadata": {},
   "source": [
    "This table shows the sample proportions in daytime and nighttime and their difference."
   ]
  },
  {
   "cell_type": "markdown",
   "id": "53e85025-6da1-4904-b6b7-001aaf71ae8e",
   "metadata": {},
   "source": [
    "## Methods: Plan\n",
    "So far the advantages of our report are that it contains data from a credible source and that we have done a rough prelimnary analysis by computing the sample proportions of accidents that occur in each of the two seasons from our sample neighbourhood. However, the analysis done so far is only based on one sample from our chosen neighbourhood, which would make it hard for us to generalize our results to our population of all car accidents in Vancouver.\n",
    "\n",
    "New data frames are created which contain SEASON and TIME_DAY columns which have values “SUMMER”, “WINTER” and “DAY”, “NIGHT” based on the month and time of day respectively.  \n",
    " \n",
    "The test statistic value will be then calculated for both cases which is followed by hypothesis testing using the infer package workflow to get corresponding p values and confidence intervals. "
   ]
  },
  {
   "cell_type": "code",
   "execution_count": 55,
   "id": "8c165be7-5ad9-41cb-ab33-3172a8e8fb2a",
   "metadata": {},
   "outputs": [
    {
     "data": {
      "text/html": [
       "<table class=\"dataframe\">\n",
       "<caption>A tibble: 6 × 11</caption>\n",
       "<thead>\n",
       "\t<tr><th scope=col>TYPE</th><th scope=col>YEAR</th><th scope=col>MONTH</th><th scope=col>DAY</th><th scope=col>HOUR</th><th scope=col>MINUTE</th><th scope=col>HUNDRED_BLOCK</th><th scope=col>NEIGHBOURHOOD</th><th scope=col>X</th><th scope=col>Y</th><th scope=col>SEASON</th></tr>\n",
       "\t<tr><th scope=col>&lt;chr&gt;</th><th scope=col>&lt;dbl&gt;</th><th scope=col>&lt;dbl&gt;</th><th scope=col>&lt;dbl&gt;</th><th scope=col>&lt;dbl&gt;</th><th scope=col>&lt;dbl&gt;</th><th scope=col>&lt;chr&gt;</th><th scope=col>&lt;chr&gt;</th><th scope=col>&lt;dbl&gt;</th><th scope=col>&lt;dbl&gt;</th><th scope=col>&lt;chr&gt;</th></tr>\n",
       "</thead>\n",
       "<tbody>\n",
       "\t<tr><td>Non-collision</td><td>2022</td><td> 6</td><td> 5</td><td>10</td><td> 0</td><td>13XX DISCOVERY ST</td><td>West Point Grey</td><td>485246.9</td><td>5458027</td><td>SUMMER</td></tr>\n",
       "\t<tr><td>Non-collision</td><td>2004</td><td> 6</td><td>30</td><td> 0</td><td> 1</td><td>13XX DISCOVERY ST</td><td>West Point Grey</td><td>485255.4</td><td>5458013</td><td>SUMMER</td></tr>\n",
       "\t<tr><td>Non-collision</td><td>2009</td><td> 5</td><td> 9</td><td>15</td><td>30</td><td>13XX DISCOVERY ST</td><td>West Point Grey</td><td>485255.4</td><td>5458013</td><td>SUMMER</td></tr>\n",
       "\t<tr><td>Non-collision</td><td>2009</td><td> 8</td><td>22</td><td>20</td><td>30</td><td>13XX DISCOVERY ST</td><td>West Point Grey</td><td>485255.4</td><td>5458013</td><td>SUMMER</td></tr>\n",
       "\t<tr><td>Non-collision</td><td>2009</td><td>11</td><td> 1</td><td>12</td><td> 0</td><td>13XX DISCOVERY ST</td><td>West Point Grey</td><td>485255.4</td><td>5458013</td><td>WINTER</td></tr>\n",
       "\t<tr><td>Non-collision</td><td>2011</td><td> 3</td><td>31</td><td>12</td><td> 0</td><td>13XX DISCOVERY ST</td><td>West Point Grey</td><td>485255.4</td><td>5458013</td><td>WINTER</td></tr>\n",
       "</tbody>\n",
       "</table>\n"
      ],
      "text/latex": [
       "A tibble: 6 × 11\n",
       "\\begin{tabular}{lllllllllll}\n",
       " TYPE & YEAR & MONTH & DAY & HOUR & MINUTE & HUNDRED\\_BLOCK & NEIGHBOURHOOD & X & Y & SEASON\\\\\n",
       " <chr> & <dbl> & <dbl> & <dbl> & <dbl> & <dbl> & <chr> & <chr> & <dbl> & <dbl> & <chr>\\\\\n",
       "\\hline\n",
       "\t Non-collision & 2022 &  6 &  5 & 10 &  0 & 13XX DISCOVERY ST & West Point Grey & 485246.9 & 5458027 & SUMMER\\\\\n",
       "\t Non-collision & 2004 &  6 & 30 &  0 &  1 & 13XX DISCOVERY ST & West Point Grey & 485255.4 & 5458013 & SUMMER\\\\\n",
       "\t Non-collision & 2009 &  5 &  9 & 15 & 30 & 13XX DISCOVERY ST & West Point Grey & 485255.4 & 5458013 & SUMMER\\\\\n",
       "\t Non-collision & 2009 &  8 & 22 & 20 & 30 & 13XX DISCOVERY ST & West Point Grey & 485255.4 & 5458013 & SUMMER\\\\\n",
       "\t Non-collision & 2009 & 11 &  1 & 12 &  0 & 13XX DISCOVERY ST & West Point Grey & 485255.4 & 5458013 & WINTER\\\\\n",
       "\t Non-collision & 2011 &  3 & 31 & 12 &  0 & 13XX DISCOVERY ST & West Point Grey & 485255.4 & 5458013 & WINTER\\\\\n",
       "\\end{tabular}\n"
      ],
      "text/markdown": [
       "\n",
       "A tibble: 6 × 11\n",
       "\n",
       "| TYPE &lt;chr&gt; | YEAR &lt;dbl&gt; | MONTH &lt;dbl&gt; | DAY &lt;dbl&gt; | HOUR &lt;dbl&gt; | MINUTE &lt;dbl&gt; | HUNDRED_BLOCK &lt;chr&gt; | NEIGHBOURHOOD &lt;chr&gt; | X &lt;dbl&gt; | Y &lt;dbl&gt; | SEASON &lt;chr&gt; |\n",
       "|---|---|---|---|---|---|---|---|---|---|---|\n",
       "| Non-collision | 2022 |  6 |  5 | 10 |  0 | 13XX DISCOVERY ST | West Point Grey | 485246.9 | 5458027 | SUMMER |\n",
       "| Non-collision | 2004 |  6 | 30 |  0 |  1 | 13XX DISCOVERY ST | West Point Grey | 485255.4 | 5458013 | SUMMER |\n",
       "| Non-collision | 2009 |  5 |  9 | 15 | 30 | 13XX DISCOVERY ST | West Point Grey | 485255.4 | 5458013 | SUMMER |\n",
       "| Non-collision | 2009 |  8 | 22 | 20 | 30 | 13XX DISCOVERY ST | West Point Grey | 485255.4 | 5458013 | SUMMER |\n",
       "| Non-collision | 2009 | 11 |  1 | 12 |  0 | 13XX DISCOVERY ST | West Point Grey | 485255.4 | 5458013 | WINTER |\n",
       "| Non-collision | 2011 |  3 | 31 | 12 |  0 | 13XX DISCOVERY ST | West Point Grey | 485255.4 | 5458013 | WINTER |\n",
       "\n"
      ],
      "text/plain": [
       "  TYPE          YEAR MONTH DAY HOUR MINUTE HUNDRED_BLOCK     NEIGHBOURHOOD  \n",
       "1 Non-collision 2022  6     5  10    0     13XX DISCOVERY ST West Point Grey\n",
       "2 Non-collision 2004  6    30   0    1     13XX DISCOVERY ST West Point Grey\n",
       "3 Non-collision 2009  5     9  15   30     13XX DISCOVERY ST West Point Grey\n",
       "4 Non-collision 2009  8    22  20   30     13XX DISCOVERY ST West Point Grey\n",
       "5 Non-collision 2009 11     1  12    0     13XX DISCOVERY ST West Point Grey\n",
       "6 Non-collision 2011  3    31  12    0     13XX DISCOVERY ST West Point Grey\n",
       "  X        Y       SEASON\n",
       "1 485246.9 5458027 SUMMER\n",
       "2 485255.4 5458013 SUMMER\n",
       "3 485255.4 5458013 SUMMER\n",
       "4 485255.4 5458013 SUMMER\n",
       "5 485255.4 5458013 WINTER\n",
       "6 485255.4 5458013 WINTER"
      ]
     },
     "metadata": {},
     "output_type": "display_data"
    }
   ],
   "source": [
    "collisions_by_season <- crimes %>%\n",
    "                        mutate(SEASON = ifelse(MONTH %in% 4:9, \"SUMMER\", \"WINTER\")) %>%\n",
    "                        mutate(TYPE = ifelse(TYPE == \"Vehicle Collision or Pedestrian Struck (with Injury)\" | TYPE == \"Vehicle Collision or Pedestrian Struck (with Fatality)\", \"Collision\", \"Non-collision\"))\n",
    "head(collisions_by_season)"
   ]
  },
  {
   "cell_type": "markdown",
   "id": "e570db5f-81c1-4d72-8f57-eb161964ead3",
   "metadata": {},
   "source": [
    "Above is the collision by season data frame."
   ]
  },
  {
   "cell_type": "code",
   "execution_count": 56,
   "id": "c87750ba-464b-46fe-861c-0298cee697e0",
   "metadata": {},
   "outputs": [
    {
     "data": {
      "text/html": [
       "<table class=\"dataframe\">\n",
       "<caption>A tibble: 6 × 11</caption>\n",
       "<thead>\n",
       "\t<tr><th scope=col>TYPE</th><th scope=col>YEAR</th><th scope=col>MONTH</th><th scope=col>DAY</th><th scope=col>HOUR</th><th scope=col>MINUTE</th><th scope=col>HUNDRED_BLOCK</th><th scope=col>NEIGHBOURHOOD</th><th scope=col>X</th><th scope=col>Y</th><th scope=col>TIME_DAY</th></tr>\n",
       "\t<tr><th scope=col>&lt;chr&gt;</th><th scope=col>&lt;dbl&gt;</th><th scope=col>&lt;dbl&gt;</th><th scope=col>&lt;dbl&gt;</th><th scope=col>&lt;dbl&gt;</th><th scope=col>&lt;dbl&gt;</th><th scope=col>&lt;chr&gt;</th><th scope=col>&lt;chr&gt;</th><th scope=col>&lt;dbl&gt;</th><th scope=col>&lt;dbl&gt;</th><th scope=col>&lt;chr&gt;</th></tr>\n",
       "</thead>\n",
       "<tbody>\n",
       "\t<tr><td>Non-collision</td><td>2022</td><td> 6</td><td> 5</td><td>10</td><td> 0</td><td>13XX DISCOVERY ST</td><td>West Point Grey</td><td>485246.9</td><td>5458027</td><td>DAY  </td></tr>\n",
       "\t<tr><td>Non-collision</td><td>2004</td><td> 6</td><td>30</td><td> 0</td><td> 1</td><td>13XX DISCOVERY ST</td><td>West Point Grey</td><td>485255.4</td><td>5458013</td><td>NIGHT</td></tr>\n",
       "\t<tr><td>Non-collision</td><td>2009</td><td> 5</td><td> 9</td><td>15</td><td>30</td><td>13XX DISCOVERY ST</td><td>West Point Grey</td><td>485255.4</td><td>5458013</td><td>DAY  </td></tr>\n",
       "\t<tr><td>Non-collision</td><td>2009</td><td> 8</td><td>22</td><td>20</td><td>30</td><td>13XX DISCOVERY ST</td><td>West Point Grey</td><td>485255.4</td><td>5458013</td><td>NIGHT</td></tr>\n",
       "\t<tr><td>Non-collision</td><td>2009</td><td>11</td><td> 1</td><td>12</td><td> 0</td><td>13XX DISCOVERY ST</td><td>West Point Grey</td><td>485255.4</td><td>5458013</td><td>DAY  </td></tr>\n",
       "\t<tr><td>Non-collision</td><td>2011</td><td> 3</td><td>31</td><td>12</td><td> 0</td><td>13XX DISCOVERY ST</td><td>West Point Grey</td><td>485255.4</td><td>5458013</td><td>DAY  </td></tr>\n",
       "</tbody>\n",
       "</table>\n"
      ],
      "text/latex": [
       "A tibble: 6 × 11\n",
       "\\begin{tabular}{lllllllllll}\n",
       " TYPE & YEAR & MONTH & DAY & HOUR & MINUTE & HUNDRED\\_BLOCK & NEIGHBOURHOOD & X & Y & TIME\\_DAY\\\\\n",
       " <chr> & <dbl> & <dbl> & <dbl> & <dbl> & <dbl> & <chr> & <chr> & <dbl> & <dbl> & <chr>\\\\\n",
       "\\hline\n",
       "\t Non-collision & 2022 &  6 &  5 & 10 &  0 & 13XX DISCOVERY ST & West Point Grey & 485246.9 & 5458027 & DAY  \\\\\n",
       "\t Non-collision & 2004 &  6 & 30 &  0 &  1 & 13XX DISCOVERY ST & West Point Grey & 485255.4 & 5458013 & NIGHT\\\\\n",
       "\t Non-collision & 2009 &  5 &  9 & 15 & 30 & 13XX DISCOVERY ST & West Point Grey & 485255.4 & 5458013 & DAY  \\\\\n",
       "\t Non-collision & 2009 &  8 & 22 & 20 & 30 & 13XX DISCOVERY ST & West Point Grey & 485255.4 & 5458013 & NIGHT\\\\\n",
       "\t Non-collision & 2009 & 11 &  1 & 12 &  0 & 13XX DISCOVERY ST & West Point Grey & 485255.4 & 5458013 & DAY  \\\\\n",
       "\t Non-collision & 2011 &  3 & 31 & 12 &  0 & 13XX DISCOVERY ST & West Point Grey & 485255.4 & 5458013 & DAY  \\\\\n",
       "\\end{tabular}\n"
      ],
      "text/markdown": [
       "\n",
       "A tibble: 6 × 11\n",
       "\n",
       "| TYPE &lt;chr&gt; | YEAR &lt;dbl&gt; | MONTH &lt;dbl&gt; | DAY &lt;dbl&gt; | HOUR &lt;dbl&gt; | MINUTE &lt;dbl&gt; | HUNDRED_BLOCK &lt;chr&gt; | NEIGHBOURHOOD &lt;chr&gt; | X &lt;dbl&gt; | Y &lt;dbl&gt; | TIME_DAY &lt;chr&gt; |\n",
       "|---|---|---|---|---|---|---|---|---|---|---|\n",
       "| Non-collision | 2022 |  6 |  5 | 10 |  0 | 13XX DISCOVERY ST | West Point Grey | 485246.9 | 5458027 | DAY   |\n",
       "| Non-collision | 2004 |  6 | 30 |  0 |  1 | 13XX DISCOVERY ST | West Point Grey | 485255.4 | 5458013 | NIGHT |\n",
       "| Non-collision | 2009 |  5 |  9 | 15 | 30 | 13XX DISCOVERY ST | West Point Grey | 485255.4 | 5458013 | DAY   |\n",
       "| Non-collision | 2009 |  8 | 22 | 20 | 30 | 13XX DISCOVERY ST | West Point Grey | 485255.4 | 5458013 | NIGHT |\n",
       "| Non-collision | 2009 | 11 |  1 | 12 |  0 | 13XX DISCOVERY ST | West Point Grey | 485255.4 | 5458013 | DAY   |\n",
       "| Non-collision | 2011 |  3 | 31 | 12 |  0 | 13XX DISCOVERY ST | West Point Grey | 485255.4 | 5458013 | DAY   |\n",
       "\n"
      ],
      "text/plain": [
       "  TYPE          YEAR MONTH DAY HOUR MINUTE HUNDRED_BLOCK     NEIGHBOURHOOD  \n",
       "1 Non-collision 2022  6     5  10    0     13XX DISCOVERY ST West Point Grey\n",
       "2 Non-collision 2004  6    30   0    1     13XX DISCOVERY ST West Point Grey\n",
       "3 Non-collision 2009  5     9  15   30     13XX DISCOVERY ST West Point Grey\n",
       "4 Non-collision 2009  8    22  20   30     13XX DISCOVERY ST West Point Grey\n",
       "5 Non-collision 2009 11     1  12    0     13XX DISCOVERY ST West Point Grey\n",
       "6 Non-collision 2011  3    31  12    0     13XX DISCOVERY ST West Point Grey\n",
       "  X        Y       TIME_DAY\n",
       "1 485246.9 5458027 DAY     \n",
       "2 485255.4 5458013 NIGHT   \n",
       "3 485255.4 5458013 DAY     \n",
       "4 485255.4 5458013 NIGHT   \n",
       "5 485255.4 5458013 DAY     \n",
       "6 485255.4 5458013 DAY     "
      ]
     },
     "metadata": {},
     "output_type": "display_data"
    }
   ],
   "source": [
    "collisions_by_time_of_day <- crimes %>%\n",
    "                        mutate(TIME_DAY = ifelse(HOUR %in% 6:17, \"DAY\", \"NIGHT\")) %>%\n",
    "                        mutate(TYPE = ifelse(TYPE == \"Vehicle Collision or Pedestrian Struck (with Injury)\" | TYPE == \"Vehicle Collision or Pedestrian Struck (with Fatality)\", \"Collision\", \"Non-collision\"))\n",
    "head(collisions_by_time_of_day)"
   ]
  },
  {
   "cell_type": "markdown",
   "id": "b78cf20c-4509-4303-8a15-f6961ddaeb88",
   "metadata": {},
   "source": [
    "Above is the collision by time of the day data frame."
   ]
  },
  {
   "cell_type": "markdown",
   "id": "671f96f4-e78b-4a54-8093-fa5f1030a501",
   "metadata": {},
   "source": [
    "Ultimately, we expect to find a relationship between the changes in time and season and the occurrence of car accidents in Vancouver. We hope that if the said relationship is significant, it can help raise awareness to driving hazards in specific seasons and times of day. We also hope our findings can give rise to possible future investigations on third variables related to environmental changes that are possibly influencing our relationships of interest."
   ]
  },
  {
   "cell_type": "markdown",
   "id": "8a558032-271e-4ee0-8c30-ab27a11012e6",
   "metadata": {},
   "source": [
    "## References"
   ]
  },
  {
   "cell_type": "markdown",
   "id": "ce9f084c-cbf0-49f2-a89d-194c5669b9c5",
   "metadata": {},
   "source": [
    "International Overview. (2021, May 06). Retrieved from\n",
    "    https://injuryfacts.nsc.org/international/international-overview/#:~:text=Motor-vehicle injuries are the,the world,\n",
    "    with 84,000 fatalities.\n",
    "\n",
    "Transport Canada. (2021, June 11). Canadian Motor Vehicle Traffic Collision Statistics: 2019. Retrieved from\n",
    "    https://tc.canada.ca/en/road-transportation/statistics-data/canadian-motor-vehicle-traffic-collision-statistics-2019\n"
   ]
  },
  {
   "cell_type": "code",
   "execution_count": null,
   "id": "2245f35b-95b1-4380-bbb8-28c76d1786fa",
   "metadata": {},
   "outputs": [],
   "source": []
  }
 ],
 "metadata": {
  "kernelspec": {
   "display_name": "R",
   "language": "R",
   "name": "ir"
  },
  "language_info": {
   "codemirror_mode": "r",
   "file_extension": ".r",
   "mimetype": "text/x-r-source",
   "name": "R",
   "pygments_lexer": "r",
   "version": "4.0.5"
  }
 },
 "nbformat": 4,
 "nbformat_minor": 5
}
